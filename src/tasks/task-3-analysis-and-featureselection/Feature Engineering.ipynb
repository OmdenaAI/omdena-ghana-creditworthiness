{
 "cells": [
  {
   "cell_type": "code",
   "execution_count": 129,
   "metadata": {},
   "outputs": [],
   "source": [
    "import pandas as pd\n",
    "import numpy as np\n",
    "import matplotlib.pyplot as plt"
   ]
  },
  {
   "cell_type": "code",
   "execution_count": 74,
   "metadata": {},
   "outputs": [],
   "source": [
    "df = pd.read_csv('Data/Processed Dataset 2010.csv')"
   ]
  },
  {
   "cell_type": "code",
   "execution_count": 75,
   "metadata": {},
   "outputs": [
    {
     "data": {
      "text/plain": [
       "Index(['ID', 'Weight_Ind', 'Region', 'Area_type', 'Household Number', 'Q203_1',\n",
       "       'Q207a', 'Q207b', 'Q301a_1', 'Q301a_2', 'Q301a_3', 'Q301a_4', 'Q301a_5',\n",
       "       'Q301a_6', 'Q301a_7', 'Q301a_8', 'Q303', 'Q304_1', 'Q401_1', 'Q503',\n",
       "       'Q505b', 'Q506', 'Q507', 'Q601a', 'Q601b_1', 'Q1201', 'Q1202', 'Q1208',\n",
       "       'Q1209_1', 'Q1213', 'Q1214', 'Age', 'Gender', 'Income', 'Marital',\n",
       "       'Banked/Unbanked', 'Credit', 'Saving', 'Remittances', 'Education',\n",
       "       'Income_Sources', 'Age2'],\n",
       "      dtype='object')"
      ]
     },
     "execution_count": 75,
     "metadata": {},
     "output_type": "execute_result"
    }
   ],
   "source": [
    "df.columns"
   ]
  },
  {
   "cell_type": "markdown",
   "metadata": {},
   "source": [
    "## Extract Required Columns"
   ]
  },
  {
   "cell_type": "code",
   "execution_count": 76,
   "metadata": {},
   "outputs": [],
   "source": [
    "df = df[['Region', 'Area_type', 'Household Number', 'Age', 'Gender', 'Marital',\n",
    "       'Banked/Unbanked', 'Credit', 'Saving', 'Remittances', 'Education',\n",
    "       'Income_Sources', 'Q1213', 'Q1214']]"
   ]
  },
  {
   "cell_type": "code",
   "execution_count": 77,
   "metadata": {},
   "outputs": [
    {
     "name": "stdout",
     "output_type": "stream",
     "text": [
      "<class 'pandas.core.frame.DataFrame'>\n",
      "RangeIndex: 3454 entries, 0 to 3453\n",
      "Data columns (total 14 columns):\n",
      " #   Column            Non-Null Count  Dtype  \n",
      "---  ------            --------------  -----  \n",
      " 0   Region            3453 non-null   object \n",
      " 1   Area_type         3453 non-null   object \n",
      " 2   Household Number  3453 non-null   float64\n",
      " 3   Age               3453 non-null   object \n",
      " 4   Gender            3453 non-null   object \n",
      " 5   Marital           3453 non-null   object \n",
      " 6   Banked/Unbanked   3454 non-null   object \n",
      " 7   Credit            3454 non-null   object \n",
      " 8   Saving            3454 non-null   object \n",
      " 9   Remittances       3454 non-null   object \n",
      " 10  Education         3454 non-null   object \n",
      " 11  Income_Sources    3454 non-null   object \n",
      " 12  Q1213             3448 non-null   object \n",
      " 13  Q1214             3453 non-null   object \n",
      "dtypes: float64(1), object(13)\n",
      "memory usage: 377.9+ KB\n"
     ]
    }
   ],
   "source": [
    "df.info()"
   ]
  },
  {
   "cell_type": "code",
   "execution_count": 78,
   "metadata": {},
   "outputs": [
    {
     "data": {
      "text/html": [
       "<div>\n",
       "<style scoped>\n",
       "    .dataframe tbody tr th:only-of-type {\n",
       "        vertical-align: middle;\n",
       "    }\n",
       "\n",
       "    .dataframe tbody tr th {\n",
       "        vertical-align: top;\n",
       "    }\n",
       "\n",
       "    .dataframe thead th {\n",
       "        text-align: right;\n",
       "    }\n",
       "</style>\n",
       "<table border=\"1\" class=\"dataframe\">\n",
       "  <thead>\n",
       "    <tr style=\"text-align: right;\">\n",
       "      <th></th>\n",
       "      <th>Region</th>\n",
       "      <th>Area_type</th>\n",
       "      <th>Household Number</th>\n",
       "      <th>Age</th>\n",
       "      <th>Gender</th>\n",
       "      <th>Marital</th>\n",
       "      <th>Banked/Unbanked</th>\n",
       "      <th>Credit</th>\n",
       "      <th>Saving</th>\n",
       "      <th>Remittances</th>\n",
       "      <th>Education</th>\n",
       "      <th>Income_Sources</th>\n",
       "      <th>Q1213</th>\n",
       "      <th>Q1214</th>\n",
       "    </tr>\n",
       "  </thead>\n",
       "  <tbody>\n",
       "    <tr>\n",
       "      <th>0</th>\n",
       "      <td>Greater Accra</td>\n",
       "      <td>Urban</td>\n",
       "      <td>2.0</td>\n",
       "      <td>50</td>\n",
       "      <td>Male</td>\n",
       "      <td>Married</td>\n",
       "      <td>Banked</td>\n",
       "      <td>Credit from family and friends</td>\n",
       "      <td>Saving at bank</td>\n",
       "      <td>Not remitting</td>\n",
       "      <td>Primary education</td>\n",
       "      <td>Formally employed Private</td>\n",
       "      <td>Below GH¢200 per month</td>\n",
       "      <td>GH¢201 - GH¢400 per month</td>\n",
       "    </tr>\n",
       "    <tr>\n",
       "      <th>1</th>\n",
       "      <td>Greater Accra</td>\n",
       "      <td>Urban</td>\n",
       "      <td>1.0</td>\n",
       "      <td>31</td>\n",
       "      <td>Male</td>\n",
       "      <td>Divorced</td>\n",
       "      <td>Banked</td>\n",
       "      <td>Credit from family and friends</td>\n",
       "      <td>Saving at bank</td>\n",
       "      <td>Remitting informally</td>\n",
       "      <td>Primary education</td>\n",
       "      <td>Farming and Fishing</td>\n",
       "      <td>GH¢201 - GH¢400 per month</td>\n",
       "      <td>GH¢201 - GH¢400 per month</td>\n",
       "    </tr>\n",
       "    <tr>\n",
       "      <th>2</th>\n",
       "      <td>Greater Accra</td>\n",
       "      <td>Urban</td>\n",
       "      <td>4.0</td>\n",
       "      <td>32</td>\n",
       "      <td>Female</td>\n",
       "      <td>Never married</td>\n",
       "      <td>Informal</td>\n",
       "      <td>Not borrowing</td>\n",
       "      <td>Saving informally</td>\n",
       "      <td>Not remitting</td>\n",
       "      <td>Secondary education</td>\n",
       "      <td>Self employed</td>\n",
       "      <td>Below GH¢200 per month</td>\n",
       "      <td>Below GH¢200 per month</td>\n",
       "    </tr>\n",
       "    <tr>\n",
       "      <th>3</th>\n",
       "      <td>Greater Accra</td>\n",
       "      <td>Urban</td>\n",
       "      <td>5.0</td>\n",
       "      <td>45</td>\n",
       "      <td>Female</td>\n",
       "      <td>Married</td>\n",
       "      <td>Banked</td>\n",
       "      <td>Not borrowing</td>\n",
       "      <td>Saving at bank</td>\n",
       "      <td>Not remitting</td>\n",
       "      <td>No formal education</td>\n",
       "      <td>Self employed</td>\n",
       "      <td>Below GH¢200 per month</td>\n",
       "      <td>Don't know</td>\n",
       "    </tr>\n",
       "    <tr>\n",
       "      <th>4</th>\n",
       "      <td>Greater Accra</td>\n",
       "      <td>Urban</td>\n",
       "      <td>3.0</td>\n",
       "      <td>55</td>\n",
       "      <td>Male</td>\n",
       "      <td>Married</td>\n",
       "      <td>Banked</td>\n",
       "      <td>Not borrowing</td>\n",
       "      <td>Saving at bank</td>\n",
       "      <td>Not remitting</td>\n",
       "      <td>Primary education</td>\n",
       "      <td>Self employed</td>\n",
       "      <td>Below GH¢200 per month</td>\n",
       "      <td>Below GH¢200 per month</td>\n",
       "    </tr>\n",
       "  </tbody>\n",
       "</table>\n",
       "</div>"
      ],
      "text/plain": [
       "          Region Area_type  Household Number Age  Gender        Marital  \\\n",
       "0  Greater Accra     Urban               2.0  50    Male        Married   \n",
       "1  Greater Accra     Urban               1.0  31    Male       Divorced   \n",
       "2  Greater Accra     Urban               4.0  32  Female  Never married   \n",
       "3  Greater Accra     Urban               5.0  45  Female        Married   \n",
       "4  Greater Accra     Urban               3.0  55    Male        Married   \n",
       "\n",
       "  Banked/Unbanked                          Credit             Saving  \\\n",
       "0          Banked  Credit from family and friends     Saving at bank   \n",
       "1          Banked  Credit from family and friends     Saving at bank   \n",
       "2        Informal                   Not borrowing  Saving informally   \n",
       "3          Banked                   Not borrowing     Saving at bank   \n",
       "4          Banked                   Not borrowing     Saving at bank   \n",
       "\n",
       "            Remittances            Education             Income_Sources  \\\n",
       "0         Not remitting    Primary education  Formally employed Private   \n",
       "1  Remitting informally    Primary education        Farming and Fishing   \n",
       "2         Not remitting  Secondary education              Self employed   \n",
       "3         Not remitting  No formal education              Self employed   \n",
       "4         Not remitting    Primary education              Self employed   \n",
       "\n",
       "                       Q1213                      Q1214  \n",
       "0     Below GH¢200 per month  GH¢201 - GH¢400 per month  \n",
       "1  GH¢201 - GH¢400 per month  GH¢201 - GH¢400 per month  \n",
       "2     Below GH¢200 per month     Below GH¢200 per month  \n",
       "3     Below GH¢200 per month                 Don't know  \n",
       "4     Below GH¢200 per month     Below GH¢200 per month  "
      ]
     },
     "execution_count": 78,
     "metadata": {},
     "output_type": "execute_result"
    }
   ],
   "source": [
    "df.head()"
   ]
  },
  {
   "cell_type": "code",
   "execution_count": 79,
   "metadata": {},
   "outputs": [
    {
     "data": {
      "text/html": [
       "<div>\n",
       "<style scoped>\n",
       "    .dataframe tbody tr th:only-of-type {\n",
       "        vertical-align: middle;\n",
       "    }\n",
       "\n",
       "    .dataframe tbody tr th {\n",
       "        vertical-align: top;\n",
       "    }\n",
       "\n",
       "    .dataframe thead th {\n",
       "        text-align: right;\n",
       "    }\n",
       "</style>\n",
       "<table border=\"1\" class=\"dataframe\">\n",
       "  <thead>\n",
       "    <tr style=\"text-align: right;\">\n",
       "      <th></th>\n",
       "      <th>Region</th>\n",
       "      <th>Area_type</th>\n",
       "      <th>Household Number</th>\n",
       "      <th>Age</th>\n",
       "      <th>Gender</th>\n",
       "      <th>Marital</th>\n",
       "      <th>Banked/Unbanked</th>\n",
       "      <th>Credit</th>\n",
       "      <th>Saving</th>\n",
       "      <th>Remittances</th>\n",
       "      <th>Education</th>\n",
       "      <th>Income_Sources</th>\n",
       "      <th>Q1213</th>\n",
       "      <th>Q1214</th>\n",
       "    </tr>\n",
       "  </thead>\n",
       "  <tbody>\n",
       "    <tr>\n",
       "      <th>3449</th>\n",
       "      <td>Upper East</td>\n",
       "      <td>Rural</td>\n",
       "      <td>2.0</td>\n",
       "      <td>68</td>\n",
       "      <td>Male</td>\n",
       "      <td>Married</td>\n",
       "      <td>Banked</td>\n",
       "      <td>Credit from bank</td>\n",
       "      <td>Saving at bank</td>\n",
       "      <td>Remiting through family and friends</td>\n",
       "      <td>No formal education</td>\n",
       "      <td>Other Income</td>\n",
       "      <td>GH¢201 - GH¢400 per month</td>\n",
       "      <td>GH¢401 - GH¢600 per month</td>\n",
       "    </tr>\n",
       "    <tr>\n",
       "      <th>3450</th>\n",
       "      <td>Greater Accra</td>\n",
       "      <td>Urban</td>\n",
       "      <td>1.0</td>\n",
       "      <td>28</td>\n",
       "      <td>Male</td>\n",
       "      <td>Never married</td>\n",
       "      <td>Other formal (non-bank)</td>\n",
       "      <td>Not borrowing</td>\n",
       "      <td>Not saving</td>\n",
       "      <td>Remitting through other formal (non-bank)</td>\n",
       "      <td>Secondary education</td>\n",
       "      <td>Informally employed</td>\n",
       "      <td>Below GH¢200 per month</td>\n",
       "      <td>GH¢201 - GH¢400 per month</td>\n",
       "    </tr>\n",
       "    <tr>\n",
       "      <th>3451</th>\n",
       "      <td>Greater Accra</td>\n",
       "      <td>Urban</td>\n",
       "      <td>8.0</td>\n",
       "      <td>53</td>\n",
       "      <td>Female</td>\n",
       "      <td>Separated</td>\n",
       "      <td>Informal</td>\n",
       "      <td>Not borrowing</td>\n",
       "      <td>Saving informally</td>\n",
       "      <td>Not remitting</td>\n",
       "      <td>Primary education</td>\n",
       "      <td>Self employed</td>\n",
       "      <td>Don't know</td>\n",
       "      <td>Don't know</td>\n",
       "    </tr>\n",
       "    <tr>\n",
       "      <th>3452</th>\n",
       "      <td>Upper East</td>\n",
       "      <td>Rural</td>\n",
       "      <td>2.0</td>\n",
       "      <td>62</td>\n",
       "      <td>Male</td>\n",
       "      <td>Widowed</td>\n",
       "      <td>Excluded</td>\n",
       "      <td>Not borrowing</td>\n",
       "      <td>Saving at home</td>\n",
       "      <td>Remiting through family and friends</td>\n",
       "      <td>No formal education</td>\n",
       "      <td>Farming and Fishing</td>\n",
       "      <td>Below GH¢200 per month</td>\n",
       "      <td>Below GH¢200 per month</td>\n",
       "    </tr>\n",
       "    <tr>\n",
       "      <th>3453</th>\n",
       "      <td>NaN</td>\n",
       "      <td>NaN</td>\n",
       "      <td>NaN</td>\n",
       "      <td>NaN</td>\n",
       "      <td>NaN</td>\n",
       "      <td>NaN</td>\n",
       "      <td>Excluded</td>\n",
       "      <td>Not borrowing</td>\n",
       "      <td>Not saving</td>\n",
       "      <td>Not remitting</td>\n",
       "      <td>Other/Dont know</td>\n",
       "      <td>Dont Know</td>\n",
       "      <td>NaN</td>\n",
       "      <td>NaN</td>\n",
       "    </tr>\n",
       "  </tbody>\n",
       "</table>\n",
       "</div>"
      ],
      "text/plain": [
       "             Region Area_type  Household Number  Age  Gender        Marital  \\\n",
       "3449     Upper East     Rural               2.0   68    Male        Married   \n",
       "3450  Greater Accra     Urban               1.0   28    Male  Never married   \n",
       "3451  Greater Accra     Urban               8.0   53  Female      Separated   \n",
       "3452     Upper East     Rural               2.0   62    Male        Widowed   \n",
       "3453            NaN       NaN               NaN  NaN     NaN            NaN   \n",
       "\n",
       "              Banked/Unbanked            Credit             Saving  \\\n",
       "3449                   Banked  Credit from bank     Saving at bank   \n",
       "3450  Other formal (non-bank)     Not borrowing         Not saving   \n",
       "3451                 Informal     Not borrowing  Saving informally   \n",
       "3452                 Excluded     Not borrowing     Saving at home   \n",
       "3453                 Excluded     Not borrowing         Not saving   \n",
       "\n",
       "                                    Remittances            Education  \\\n",
       "3449        Remiting through family and friends  No formal education   \n",
       "3450  Remitting through other formal (non-bank)  Secondary education   \n",
       "3451                              Not remitting    Primary education   \n",
       "3452        Remiting through family and friends  No formal education   \n",
       "3453                              Not remitting      Other/Dont know   \n",
       "\n",
       "           Income_Sources                      Q1213  \\\n",
       "3449         Other Income  GH¢201 - GH¢400 per month   \n",
       "3450  Informally employed     Below GH¢200 per month   \n",
       "3451        Self employed                 Don't know   \n",
       "3452  Farming and Fishing     Below GH¢200 per month   \n",
       "3453            Dont Know                        NaN   \n",
       "\n",
       "                          Q1214  \n",
       "3449  GH¢401 - GH¢600 per month  \n",
       "3450  GH¢201 - GH¢400 per month  \n",
       "3451                 Don't know  \n",
       "3452     Below GH¢200 per month  \n",
       "3453                        NaN  "
      ]
     },
     "execution_count": 79,
     "metadata": {},
     "output_type": "execute_result"
    }
   ],
   "source": [
    "df.tail()"
   ]
  },
  {
   "cell_type": "markdown",
   "metadata": {},
   "source": [
    "## Data preprocessing"
   ]
  },
  {
   "cell_type": "code",
   "execution_count": 80,
   "metadata": {},
   "outputs": [
    {
     "data": {
      "text/plain": [
       "array(['Greater Accra', 'Ashanti', 'Western', 'Central', 'Volta',\n",
       "       'Eastern', 'Upper West', 'Brong Ahafo', 'Northern', 'Upper East',\n",
       "       nan], dtype=object)"
      ]
     },
     "execution_count": 80,
     "metadata": {},
     "output_type": "execute_result"
    }
   ],
   "source": [
    "df['Region'].unique()"
   ]
  },
  {
   "cell_type": "code",
   "execution_count": 81,
   "metadata": {},
   "outputs": [
    {
     "data": {
      "text/plain": [
       "array(['Urban', 'Rural', nan], dtype=object)"
      ]
     },
     "execution_count": 81,
     "metadata": {},
     "output_type": "execute_result"
    }
   ],
   "source": [
    "df['Area_type'].unique()"
   ]
  },
  {
   "cell_type": "code",
   "execution_count": 82,
   "metadata": {},
   "outputs": [
    {
     "data": {
      "text/plain": [
       "array(['Male', 'Female', nan], dtype=object)"
      ]
     },
     "execution_count": 82,
     "metadata": {},
     "output_type": "execute_result"
    }
   ],
   "source": [
    "df['Gender'].unique()"
   ]
  },
  {
   "cell_type": "code",
   "execution_count": 83,
   "metadata": {},
   "outputs": [
    {
     "data": {
      "text/plain": [
       "array(['Married', 'Divorced', 'Never married', 'Widowed',\n",
       "       'Not Answered/Missing data', 'Separated', nan], dtype=object)"
      ]
     },
     "execution_count": 83,
     "metadata": {},
     "output_type": "execute_result"
    }
   ],
   "source": [
    "df['Marital'].unique()\n",
    "# We have missing data as'Not Answered/Missing data'\n",
    "# Lets fix that"
   ]
  },
  {
   "cell_type": "code",
   "execution_count": 84,
   "metadata": {},
   "outputs": [],
   "source": [
    "df['Marital'].replace({'Not Answered/Missing data':np.nan}, inplace=True)"
   ]
  },
  {
   "cell_type": "code",
   "execution_count": 85,
   "metadata": {},
   "outputs": [
    {
     "data": {
      "text/plain": [
       "array(['Married', 'Divorced', 'Never married', 'Widowed', nan,\n",
       "       'Separated'], dtype=object)"
      ]
     },
     "execution_count": 85,
     "metadata": {},
     "output_type": "execute_result"
    }
   ],
   "source": [
    "# Let us check again\n",
    "df['Marital'].unique()\n",
    "# Gone"
   ]
  },
  {
   "cell_type": "code",
   "execution_count": 86,
   "metadata": {},
   "outputs": [
    {
     "data": {
      "text/plain": [
       "array(['Banked', 'Informal', 'Excluded', 'Other formal (non-bank)'],\n",
       "      dtype=object)"
      ]
     },
     "execution_count": 86,
     "metadata": {},
     "output_type": "execute_result"
    }
   ],
   "source": [
    "df['Banked/Unbanked'].unique()"
   ]
  },
  {
   "cell_type": "code",
   "execution_count": 87,
   "metadata": {},
   "outputs": [],
   "source": [
    "#Let us change the values to Either Banked or unbanked\n",
    "df['Banked/Unbanked'].replace({'Informal':'Unbanked', 'Excluded':'Unbanked',\n",
    "                               'Other formal (non-bank)':'Unbanked'}, inplace=True)"
   ]
  },
  {
   "cell_type": "code",
   "execution_count": 88,
   "metadata": {},
   "outputs": [
    {
     "data": {
      "text/plain": [
       "array(['Banked', 'Unbanked'], dtype=object)"
      ]
     },
     "execution_count": 88,
     "metadata": {},
     "output_type": "execute_result"
    }
   ],
   "source": [
    "df['Banked/Unbanked'].unique()"
   ]
  },
  {
   "cell_type": "code",
   "execution_count": 89,
   "metadata": {},
   "outputs": [
    {
     "data": {
      "text/plain": [
       "array(['Credit from family and friends', 'Not borrowing',\n",
       "       'Credit from other formal (non-bank)',\n",
       "       'Credit from informal sources', 'Credit from bank'], dtype=object)"
      ]
     },
     "execution_count": 89,
     "metadata": {},
     "output_type": "execute_result"
    }
   ],
   "source": [
    "df['Credit'].unique()\n",
    "# we can group this to either having credit from banks or not borrowing from banks - suggestion"
   ]
  },
  {
   "cell_type": "code",
   "execution_count": 90,
   "metadata": {},
   "outputs": [
    {
     "data": {
      "text/plain": [
       "array(['Saving at bank', 'Saving informally', 'Not saving',\n",
       "       'Saving at other formal (non-bank)', 'Saving at home'],\n",
       "      dtype=object)"
      ]
     },
     "execution_count": 90,
     "metadata": {},
     "output_type": "execute_result"
    }
   ],
   "source": [
    "df['Saving'].unique()"
   ]
  },
  {
   "cell_type": "code",
   "execution_count": 91,
   "metadata": {},
   "outputs": [
    {
     "data": {
      "text/plain": [
       "array(['Not remitting', 'Remitting informally',\n",
       "       'Remiting through family and friends', 'Remitting through bank',\n",
       "       'Remitting through other formal (non-bank)'], dtype=object)"
      ]
     },
     "execution_count": 91,
     "metadata": {},
     "output_type": "execute_result"
    }
   ],
   "source": [
    "df['Remittances'].unique()"
   ]
  },
  {
   "cell_type": "code",
   "execution_count": 92,
   "metadata": {},
   "outputs": [
    {
     "data": {
      "text/plain": [
       "array(['Primary education', 'Secondary education', 'No formal education',\n",
       "       'Other/Dont know', 'Vocational/Specialised training',\n",
       "       'Tertiary education'], dtype=object)"
      ]
     },
     "execution_count": 92,
     "metadata": {},
     "output_type": "execute_result"
    }
   ],
   "source": [
    "df['Education'].unique()"
   ]
  },
  {
   "cell_type": "code",
   "execution_count": 93,
   "metadata": {},
   "outputs": [
    {
     "data": {
      "text/plain": [
       "array(['Formally employed Private', 'Farming and Fishing',\n",
       "       'Self employed', 'Remittance Dependent', 'Informally employed',\n",
       "       'Other Income', 'Dont Know'], dtype=object)"
      ]
     },
     "execution_count": 93,
     "metadata": {},
     "output_type": "execute_result"
    }
   ],
   "source": [
    "df['Income_Sources'].unique()"
   ]
  },
  {
   "cell_type": "code",
   "execution_count": 94,
   "metadata": {},
   "outputs": [
    {
     "data": {
      "text/plain": [
       "array(['Below GH¢200 per month', 'GH¢201 - GH¢400 per month', 'No income',\n",
       "       'GH¢401 - GH¢600 per month', \"Don't know\", 'Refused to answer',\n",
       "       'Over GH¢2201 per month', 'GH¢601 - GH¢800 per month',\n",
       "       'GH¢801 - GH¢1000 per month', 'GH¢1001 - GH¢1200 per month',\n",
       "       'GH¢1801 - GH¢2000 per month', 'GH¢2001 - GH¢2200 per month',\n",
       "       'GH¢1201 - GH¢1400 per month', nan, 'GH¢1401 - GH¢1600 per month',\n",
       "       'GH¢1601 - GH¢1800 per month'], dtype=object)"
      ]
     },
     "execution_count": 94,
     "metadata": {},
     "output_type": "execute_result"
    }
   ],
   "source": [
    "df['Q1213'].unique()\n",
    "# lets change dont know & Refused to answer to missing data"
   ]
  },
  {
   "cell_type": "code",
   "execution_count": 95,
   "metadata": {},
   "outputs": [],
   "source": [
    "df['Q1213'].replace({\"Don't know\":np.nan, 'Refused to answer':np.nan}, inplace=True)"
   ]
  },
  {
   "cell_type": "code",
   "execution_count": 96,
   "metadata": {},
   "outputs": [
    {
     "data": {
      "text/plain": [
       "array(['Below GH¢200 per month', 'GH¢201 - GH¢400 per month', 'No income',\n",
       "       'GH¢401 - GH¢600 per month', nan, 'Over GH¢2201 per month',\n",
       "       'GH¢601 - GH¢800 per month', 'GH¢801 - GH¢1000 per month',\n",
       "       'GH¢1001 - GH¢1200 per month', 'GH¢1801 - GH¢2000 per month',\n",
       "       'GH¢2001 - GH¢2200 per month', 'GH¢1201 - GH¢1400 per month',\n",
       "       'GH¢1401 - GH¢1600 per month', 'GH¢1601 - GH¢1800 per month'],\n",
       "      dtype=object)"
      ]
     },
     "execution_count": 96,
     "metadata": {},
     "output_type": "execute_result"
    }
   ],
   "source": [
    "df['Q1213'].unique()"
   ]
  },
  {
   "cell_type": "code",
   "execution_count": 97,
   "metadata": {},
   "outputs": [
    {
     "data": {
      "text/plain": [
       "array(['GH¢201 - GH¢400 per month', 'Below GH¢200 per month',\n",
       "       \"Don't know\", 'GH¢401 - GH¢600 per month', 'No income',\n",
       "       'GH¢1001 - GH¢1200 per month', 'Refused to answer',\n",
       "       'GH¢1601 - GH¢1800 per month', 'GH¢1401 - GH¢1600 per month',\n",
       "       'GH¢601 - GH¢800 per month', 'GH¢1201 - GH¢1400 per month',\n",
       "       'Over GH¢2201 per month', 'GH¢801 - GH¢1000 per month',\n",
       "       'GH¢2001 - GH¢2200 per month', 'Not answered/Missing Data',\n",
       "       'GH¢1801 - GH¢2000 per month', nan], dtype=object)"
      ]
     },
     "execution_count": 97,
     "metadata": {},
     "output_type": "execute_result"
    }
   ],
   "source": [
    "df['Q1214'].unique()\n",
    "# do same as for Q1213"
   ]
  },
  {
   "cell_type": "code",
   "execution_count": 98,
   "metadata": {},
   "outputs": [],
   "source": [
    "df['Q1214'].replace({\"Don't know\":np.nan, 'Refused to answer':np.nan,\n",
    "                     'Not answered/Missing Data':np.nan}, inplace=True)"
   ]
  },
  {
   "cell_type": "code",
   "execution_count": 99,
   "metadata": {},
   "outputs": [
    {
     "data": {
      "text/plain": [
       "array(['50', '31', '32', '45', '55', '38', '20', '18', '60', '24', '48',\n",
       "       '29', '23', '80', '21', '37', '42', '30', '61', '27', '67', '25',\n",
       "       '26', '28', '76', '41', '34', '35', '78', '22', '53', '52', '71',\n",
       "       '46', '74', '40', '63', '68', '54', '49', '36', '19', '33', '65',\n",
       "       '58', '69', '72', '62', '85', '51', '73', 'Not indicated', '39',\n",
       "       '47', '59', '66', '70', '75', '44', '89', '81', '77', '57', '56',\n",
       "       '43', '64', '86', '99', '88', '96', '79', '90', '84', '82', '95',\n",
       "       '83', '97', '98', nan], dtype=object)"
      ]
     },
     "execution_count": 99,
     "metadata": {},
     "output_type": "execute_result"
    }
   ],
   "source": [
    "df['Age'].unique()"
   ]
  },
  {
   "cell_type": "code",
   "execution_count": 100,
   "metadata": {},
   "outputs": [],
   "source": [
    "df['Age'].replace({'Not indicated':np.nan}, inplace=True)"
   ]
  },
  {
   "cell_type": "markdown",
   "metadata": {},
   "source": [
    "## Visualize missing data"
   ]
  },
  {
   "cell_type": "code",
   "execution_count": 101,
   "metadata": {},
   "outputs": [
    {
     "data": {
      "text/plain": [
       "Region                1\n",
       "Area_type             1\n",
       "Household Number      1\n",
       "Age                  16\n",
       "Gender                1\n",
       "Marital              25\n",
       "Banked/Unbanked       0\n",
       "Credit                0\n",
       "Saving                0\n",
       "Remittances           0\n",
       "Education             0\n",
       "Income_Sources        0\n",
       "Q1213               488\n",
       "Q1214               931\n",
       "dtype: int64"
      ]
     },
     "execution_count": 101,
     "metadata": {},
     "output_type": "execute_result"
    }
   ],
   "source": [
    "df.isna().sum()"
   ]
  },
  {
   "cell_type": "code",
   "execution_count": 102,
   "metadata": {},
   "outputs": [
    {
     "data": {
      "text/plain": [
       "<AxesSubplot:>"
      ]
     },
     "execution_count": 102,
     "metadata": {},
     "output_type": "execute_result"
    },
    {
     "data": {
      "image/png": "[encoded data removed]",
      "text/plain": [
       "<Figure size 1800x720 with 2 Axes>"
      ]
     },
     "metadata": {
      "needs_background": "light"
     },
     "output_type": "display_data"
    }
   ],
   "source": [
    "import missingno as msno\n",
    "%matplotlib inline\n",
    "msno.matrix(df)"
   ]
  },
  {
   "cell_type": "markdown",
   "metadata": {},
   "source": [
    "As we can see the total household column has alot of missing data. we can drop the column and  drop missing values from other columns"
   ]
  },
  {
   "cell_type": "code",
   "execution_count": 103,
   "metadata": {},
   "outputs": [],
   "source": [
    "df.drop('Q1214', inplace=True, axis=1)"
   ]
  },
  {
   "cell_type": "code",
   "execution_count": 104,
   "metadata": {},
   "outputs": [],
   "source": [
    "## drop missing values\n",
    "df.dropna(inplace=True)"
   ]
  },
  {
   "cell_type": "code",
   "execution_count": 105,
   "metadata": {},
   "outputs": [
    {
     "data": {
      "text/plain": [
       "Region              0\n",
       "Area_type           0\n",
       "Household Number    0\n",
       "Age                 0\n",
       "Gender              0\n",
       "Marital             0\n",
       "Banked/Unbanked     0\n",
       "Credit              0\n",
       "Saving              0\n",
       "Remittances         0\n",
       "Education           0\n",
       "Income_Sources      0\n",
       "Q1213               0\n",
       "dtype: int64"
      ]
     },
     "execution_count": 105,
     "metadata": {},
     "output_type": "execute_result"
    }
   ],
   "source": [
    "df.isna().sum()\n",
    "# we have  no missing data now"
   ]
  },
  {
   "cell_type": "markdown",
   "metadata": {},
   "source": [
    "## Label Encoding\n",
    "\n",
    "Machine learning only works with numerical data.let us change the categerical columns into numbers"
   ]
  },
  {
   "cell_type": "code",
   "execution_count": 106,
   "metadata": {},
   "outputs": [
    {
     "name": "stdout",
     "output_type": "stream",
     "text": [
      "<class 'pandas.core.frame.DataFrame'>\n",
      "Int64Index: 2932 entries, 0 to 3452\n",
      "Data columns (total 13 columns):\n",
      " #   Column            Non-Null Count  Dtype  \n",
      "---  ------            --------------  -----  \n",
      " 0   Region            2932 non-null   object \n",
      " 1   Area_type         2932 non-null   object \n",
      " 2   Household Number  2932 non-null   float64\n",
      " 3   Age               2932 non-null   object \n",
      " 4   Gender            2932 non-null   object \n",
      " 5   Marital           2932 non-null   object \n",
      " 6   Banked/Unbanked   2932 non-null   object \n",
      " 7   Credit            2932 non-null   object \n",
      " 8   Saving            2932 non-null   object \n",
      " 9   Remittances       2932 non-null   object \n",
      " 10  Education         2932 non-null   object \n",
      " 11  Income_Sources    2932 non-null   object \n",
      " 12  Q1213             2932 non-null   object \n",
      "dtypes: float64(1), object(12)\n",
      "memory usage: 320.7+ KB\n"
     ]
    }
   ],
   "source": [
    "df.info()"
   ]
  },
  {
   "cell_type": "code",
   "execution_count": 107,
   "metadata": {},
   "outputs": [],
   "source": [
    "# Convert age column into an integer\n",
    "df['Age'] = df['Age'].apply(lambda x: int(x))"
   ]
  },
  {
   "cell_type": "code",
   "execution_count": 108,
   "metadata": {},
   "outputs": [
    {
     "name": "stdout",
     "output_type": "stream",
     "text": [
      "<class 'pandas.core.frame.DataFrame'>\n",
      "Int64Index: 2932 entries, 0 to 3452\n",
      "Data columns (total 13 columns):\n",
      " #   Column            Non-Null Count  Dtype  \n",
      "---  ------            --------------  -----  \n",
      " 0   Region            2932 non-null   object \n",
      " 1   Area_type         2932 non-null   object \n",
      " 2   Household Number  2932 non-null   float64\n",
      " 3   Age               2932 non-null   int64  \n",
      " 4   Gender            2932 non-null   object \n",
      " 5   Marital           2932 non-null   object \n",
      " 6   Banked/Unbanked   2932 non-null   object \n",
      " 7   Credit            2932 non-null   object \n",
      " 8   Saving            2932 non-null   object \n",
      " 9   Remittances       2932 non-null   object \n",
      " 10  Education         2932 non-null   object \n",
      " 11  Income_Sources    2932 non-null   object \n",
      " 12  Q1213             2932 non-null   object \n",
      "dtypes: float64(1), int64(1), object(11)\n",
      "memory usage: 320.7+ KB\n"
     ]
    }
   ],
   "source": [
    "df.info()"
   ]
  },
  {
   "cell_type": "markdown",
   "metadata": {},
   "source": [
    "We now have only have two numerical column"
   ]
  },
  {
   "cell_type": "markdown",
   "metadata": {},
   "source": [
    "### Approach 1 - scikit-learn library approach"
   ]
  },
  {
   "cell_type": "code",
   "execution_count": 109,
   "metadata": {},
   "outputs": [
    {
     "data": {
      "text/plain": [
       "Index(['Region', 'Area_type', 'Household Number', 'Age', 'Gender', 'Marital',\n",
       "       'Banked/Unbanked', 'Credit', 'Saving', 'Remittances', 'Education',\n",
       "       'Income_Sources', 'Q1213'],\n",
       "      dtype='object')"
      ]
     },
     "execution_count": 109,
     "metadata": {},
     "output_type": "execute_result"
    }
   ],
   "source": [
    "df.columns"
   ]
  },
  {
   "cell_type": "code",
   "execution_count": 110,
   "metadata": {},
   "outputs": [],
   "source": [
    "from sklearn.preprocessing import LabelEncoder\n",
    "# create an instance of label encoders\n",
    "labelencoder = LabelEncoder()\n",
    "# Creating numerical values and storing them in new columns\n",
    "df['Region_N'] = labelencoder.fit_transform(df['Region'])\n",
    "df['Area_type_N'] = labelencoder.fit_transform(df['Area_type'])\n",
    "df['Gender_N'] = labelencoder.fit_transform(df['Gender'])\n",
    "df['Marital_N'] = labelencoder.fit_transform(df['Marital'])\n",
    "df['Banked/Unbanked_N'] = labelencoder.fit_transform(df['Banked/Unbanked'])\n",
    "df['Credit_N'] = labelencoder.fit_transform(df['Credit'])\n",
    "df['Saving_N'] = labelencoder.fit_transform(df['Saving'])\n",
    "df['Remittances_N'] = labelencoder.fit_transform(df['Remittances'])\n",
    "df['Education_N'] = labelencoder.fit_transform(df['Education'])\n",
    "df['Income_Sources_N'] = labelencoder.fit_transform(df['Income_Sources'])\n",
    "df['Q1213_N'] = labelencoder.fit_transform(df['Q1213'])"
   ]
  },
  {
   "cell_type": "code",
   "execution_count": 111,
   "metadata": {},
   "outputs": [
    {
     "data": {
      "text/html": [
       "<div>\n",
       "<style scoped>\n",
       "    .dataframe tbody tr th:only-of-type {\n",
       "        vertical-align: middle;\n",
       "    }\n",
       "\n",
       "    .dataframe tbody tr th {\n",
       "        vertical-align: top;\n",
       "    }\n",
       "\n",
       "    .dataframe thead th {\n",
       "        text-align: right;\n",
       "    }\n",
       "</style>\n",
       "<table border=\"1\" class=\"dataframe\">\n",
       "  <thead>\n",
       "    <tr style=\"text-align: right;\">\n",
       "      <th></th>\n",
       "      <th>Region</th>\n",
       "      <th>Area_type</th>\n",
       "      <th>Household Number</th>\n",
       "      <th>Age</th>\n",
       "      <th>Gender</th>\n",
       "      <th>Marital</th>\n",
       "      <th>Banked/Unbanked</th>\n",
       "      <th>Credit</th>\n",
       "      <th>Saving</th>\n",
       "      <th>Remittances</th>\n",
       "      <th>...</th>\n",
       "      <th>Area_type_N</th>\n",
       "      <th>Gender_N</th>\n",
       "      <th>Marital_N</th>\n",
       "      <th>Banked/Unbanked_N</th>\n",
       "      <th>Credit_N</th>\n",
       "      <th>Saving_N</th>\n",
       "      <th>Remittances_N</th>\n",
       "      <th>Education_N</th>\n",
       "      <th>Income_Sources_N</th>\n",
       "      <th>Q1213_N</th>\n",
       "    </tr>\n",
       "  </thead>\n",
       "  <tbody>\n",
       "    <tr>\n",
       "      <th>0</th>\n",
       "      <td>Greater Accra</td>\n",
       "      <td>Urban</td>\n",
       "      <td>2.0</td>\n",
       "      <td>50</td>\n",
       "      <td>Male</td>\n",
       "      <td>Married</td>\n",
       "      <td>Banked</td>\n",
       "      <td>Credit from family and friends</td>\n",
       "      <td>Saving at bank</td>\n",
       "      <td>Not remitting</td>\n",
       "      <td>...</td>\n",
       "      <td>1</td>\n",
       "      <td>1</td>\n",
       "      <td>1</td>\n",
       "      <td>0</td>\n",
       "      <td>1</td>\n",
       "      <td>1</td>\n",
       "      <td>0</td>\n",
       "      <td>2</td>\n",
       "      <td>2</td>\n",
       "      <td>0</td>\n",
       "    </tr>\n",
       "    <tr>\n",
       "      <th>1</th>\n",
       "      <td>Greater Accra</td>\n",
       "      <td>Urban</td>\n",
       "      <td>1.0</td>\n",
       "      <td>31</td>\n",
       "      <td>Male</td>\n",
       "      <td>Divorced</td>\n",
       "      <td>Banked</td>\n",
       "      <td>Credit from family and friends</td>\n",
       "      <td>Saving at bank</td>\n",
       "      <td>Remitting informally</td>\n",
       "      <td>...</td>\n",
       "      <td>1</td>\n",
       "      <td>1</td>\n",
       "      <td>0</td>\n",
       "      <td>0</td>\n",
       "      <td>1</td>\n",
       "      <td>1</td>\n",
       "      <td>2</td>\n",
       "      <td>2</td>\n",
       "      <td>1</td>\n",
       "      <td>7</td>\n",
       "    </tr>\n",
       "    <tr>\n",
       "      <th>2</th>\n",
       "      <td>Greater Accra</td>\n",
       "      <td>Urban</td>\n",
       "      <td>4.0</td>\n",
       "      <td>32</td>\n",
       "      <td>Female</td>\n",
       "      <td>Never married</td>\n",
       "      <td>Unbanked</td>\n",
       "      <td>Not borrowing</td>\n",
       "      <td>Saving informally</td>\n",
       "      <td>Not remitting</td>\n",
       "      <td>...</td>\n",
       "      <td>1</td>\n",
       "      <td>0</td>\n",
       "      <td>2</td>\n",
       "      <td>1</td>\n",
       "      <td>4</td>\n",
       "      <td>4</td>\n",
       "      <td>0</td>\n",
       "      <td>3</td>\n",
       "      <td>6</td>\n",
       "      <td>0</td>\n",
       "    </tr>\n",
       "    <tr>\n",
       "      <th>3</th>\n",
       "      <td>Greater Accra</td>\n",
       "      <td>Urban</td>\n",
       "      <td>5.0</td>\n",
       "      <td>45</td>\n",
       "      <td>Female</td>\n",
       "      <td>Married</td>\n",
       "      <td>Banked</td>\n",
       "      <td>Not borrowing</td>\n",
       "      <td>Saving at bank</td>\n",
       "      <td>Not remitting</td>\n",
       "      <td>...</td>\n",
       "      <td>1</td>\n",
       "      <td>0</td>\n",
       "      <td>1</td>\n",
       "      <td>0</td>\n",
       "      <td>4</td>\n",
       "      <td>1</td>\n",
       "      <td>0</td>\n",
       "      <td>0</td>\n",
       "      <td>6</td>\n",
       "      <td>0</td>\n",
       "    </tr>\n",
       "    <tr>\n",
       "      <th>4</th>\n",
       "      <td>Greater Accra</td>\n",
       "      <td>Urban</td>\n",
       "      <td>3.0</td>\n",
       "      <td>55</td>\n",
       "      <td>Male</td>\n",
       "      <td>Married</td>\n",
       "      <td>Banked</td>\n",
       "      <td>Not borrowing</td>\n",
       "      <td>Saving at bank</td>\n",
       "      <td>Not remitting</td>\n",
       "      <td>...</td>\n",
       "      <td>1</td>\n",
       "      <td>1</td>\n",
       "      <td>1</td>\n",
       "      <td>0</td>\n",
       "      <td>4</td>\n",
       "      <td>1</td>\n",
       "      <td>0</td>\n",
       "      <td>2</td>\n",
       "      <td>6</td>\n",
       "      <td>0</td>\n",
       "    </tr>\n",
       "  </tbody>\n",
       "</table>\n",
       "<p>5 rows × 24 columns</p>\n",
       "</div>"
      ],
      "text/plain": [
       "          Region Area_type  Household Number  Age  Gender        Marital  \\\n",
       "0  Greater Accra     Urban               2.0   50    Male        Married   \n",
       "1  Greater Accra     Urban               1.0   31    Male       Divorced   \n",
       "2  Greater Accra     Urban               4.0   32  Female  Never married   \n",
       "3  Greater Accra     Urban               5.0   45  Female        Married   \n",
       "4  Greater Accra     Urban               3.0   55    Male        Married   \n",
       "\n",
       "  Banked/Unbanked                          Credit             Saving  \\\n",
       "0          Banked  Credit from family and friends     Saving at bank   \n",
       "1          Banked  Credit from family and friends     Saving at bank   \n",
       "2        Unbanked                   Not borrowing  Saving informally   \n",
       "3          Banked                   Not borrowing     Saving at bank   \n",
       "4          Banked                   Not borrowing     Saving at bank   \n",
       "\n",
       "            Remittances  ... Area_type_N Gender_N Marital_N  \\\n",
       "0         Not remitting  ...           1        1         1   \n",
       "1  Remitting informally  ...           1        1         0   \n",
       "2         Not remitting  ...           1        0         2   \n",
       "3         Not remitting  ...           1        0         1   \n",
       "4         Not remitting  ...           1        1         1   \n",
       "\n",
       "   Banked/Unbanked_N  Credit_N  Saving_N  Remittances_N  Education_N  \\\n",
       "0                  0         1         1              0            2   \n",
       "1                  0         1         1              2            2   \n",
       "2                  1         4         4              0            3   \n",
       "3                  0         4         1              0            0   \n",
       "4                  0         4         1              0            2   \n",
       "\n",
       "   Income_Sources_N  Q1213_N  \n",
       "0                 2        0  \n",
       "1                 1        7  \n",
       "2                 6        0  \n",
       "3                 6        0  \n",
       "4                 6        0  \n",
       "\n",
       "[5 rows x 24 columns]"
      ]
     },
     "execution_count": 111,
     "metadata": {},
     "output_type": "execute_result"
    }
   ],
   "source": [
    "df.head()"
   ]
  },
  {
   "cell_type": "code",
   "execution_count": 112,
   "metadata": {},
   "outputs": [
    {
     "name": "stdout",
     "output_type": "stream",
     "text": [
      "<class 'pandas.core.frame.DataFrame'>\n",
      "Int64Index: 2932 entries, 0 to 3452\n",
      "Data columns (total 24 columns):\n",
      " #   Column             Non-Null Count  Dtype  \n",
      "---  ------             --------------  -----  \n",
      " 0   Region             2932 non-null   object \n",
      " 1   Area_type          2932 non-null   object \n",
      " 2   Household Number   2932 non-null   float64\n",
      " 3   Age                2932 non-null   int64  \n",
      " 4   Gender             2932 non-null   object \n",
      " 5   Marital            2932 non-null   object \n",
      " 6   Banked/Unbanked    2932 non-null   object \n",
      " 7   Credit             2932 non-null   object \n",
      " 8   Saving             2932 non-null   object \n",
      " 9   Remittances        2932 non-null   object \n",
      " 10  Education          2932 non-null   object \n",
      " 11  Income_Sources     2932 non-null   object \n",
      " 12  Q1213              2932 non-null   object \n",
      " 13  Region_N           2932 non-null   int32  \n",
      " 14  Area_type_N        2932 non-null   int32  \n",
      " 15  Gender_N           2932 non-null   int32  \n",
      " 16  Marital_N          2932 non-null   int32  \n",
      " 17  Banked/Unbanked_N  2932 non-null   int32  \n",
      " 18  Credit_N           2932 non-null   int32  \n",
      " 19  Saving_N           2932 non-null   int32  \n",
      " 20  Remittances_N      2932 non-null   int32  \n",
      " 21  Education_N        2932 non-null   int32  \n",
      " 22  Income_Sources_N   2932 non-null   int32  \n",
      " 23  Q1213_N            2932 non-null   int32  \n",
      "dtypes: float64(1), int32(11), int64(1), object(11)\n",
      "memory usage: 446.7+ KB\n"
     ]
    }
   ],
   "source": [
    "df.info()"
   ]
  },
  {
   "cell_type": "code",
   "execution_count": 115,
   "metadata": {},
   "outputs": [],
   "source": [
    "# Extract numerical columns\n",
    "df2 = df.drop(['Region', 'Area_type', 'Gender', 'Marital',\n",
    "       'Banked/Unbanked', 'Credit', 'Saving', 'Remittances', 'Education',\n",
    "       'Income_Sources', 'Q1213'], axis=1)"
   ]
  },
  {
   "cell_type": "code",
   "execution_count": 116,
   "metadata": {},
   "outputs": [
    {
     "data": {
      "text/html": [
       "<div>\n",
       "<style scoped>\n",
       "    .dataframe tbody tr th:only-of-type {\n",
       "        vertical-align: middle;\n",
       "    }\n",
       "\n",
       "    .dataframe tbody tr th {\n",
       "        vertical-align: top;\n",
       "    }\n",
       "\n",
       "    .dataframe thead th {\n",
       "        text-align: right;\n",
       "    }\n",
       "</style>\n",
       "<table border=\"1\" class=\"dataframe\">\n",
       "  <thead>\n",
       "    <tr style=\"text-align: right;\">\n",
       "      <th></th>\n",
       "      <th>Household Number</th>\n",
       "      <th>Age</th>\n",
       "      <th>Region_N</th>\n",
       "      <th>Area_type_N</th>\n",
       "      <th>Gender_N</th>\n",
       "      <th>Marital_N</th>\n",
       "      <th>Banked/Unbanked_N</th>\n",
       "      <th>Credit_N</th>\n",
       "      <th>Saving_N</th>\n",
       "      <th>Remittances_N</th>\n",
       "      <th>Education_N</th>\n",
       "      <th>Income_Sources_N</th>\n",
       "      <th>Q1213_N</th>\n",
       "    </tr>\n",
       "  </thead>\n",
       "  <tbody>\n",
       "    <tr>\n",
       "      <th>0</th>\n",
       "      <td>2.0</td>\n",
       "      <td>50</td>\n",
       "      <td>4</td>\n",
       "      <td>1</td>\n",
       "      <td>1</td>\n",
       "      <td>1</td>\n",
       "      <td>0</td>\n",
       "      <td>1</td>\n",
       "      <td>1</td>\n",
       "      <td>0</td>\n",
       "      <td>2</td>\n",
       "      <td>2</td>\n",
       "      <td>0</td>\n",
       "    </tr>\n",
       "    <tr>\n",
       "      <th>1</th>\n",
       "      <td>1.0</td>\n",
       "      <td>31</td>\n",
       "      <td>4</td>\n",
       "      <td>1</td>\n",
       "      <td>1</td>\n",
       "      <td>0</td>\n",
       "      <td>0</td>\n",
       "      <td>1</td>\n",
       "      <td>1</td>\n",
       "      <td>2</td>\n",
       "      <td>2</td>\n",
       "      <td>1</td>\n",
       "      <td>7</td>\n",
       "    </tr>\n",
       "    <tr>\n",
       "      <th>2</th>\n",
       "      <td>4.0</td>\n",
       "      <td>32</td>\n",
       "      <td>4</td>\n",
       "      <td>1</td>\n",
       "      <td>0</td>\n",
       "      <td>2</td>\n",
       "      <td>1</td>\n",
       "      <td>4</td>\n",
       "      <td>4</td>\n",
       "      <td>0</td>\n",
       "      <td>3</td>\n",
       "      <td>6</td>\n",
       "      <td>0</td>\n",
       "    </tr>\n",
       "    <tr>\n",
       "      <th>3</th>\n",
       "      <td>5.0</td>\n",
       "      <td>45</td>\n",
       "      <td>4</td>\n",
       "      <td>1</td>\n",
       "      <td>0</td>\n",
       "      <td>1</td>\n",
       "      <td>0</td>\n",
       "      <td>4</td>\n",
       "      <td>1</td>\n",
       "      <td>0</td>\n",
       "      <td>0</td>\n",
       "      <td>6</td>\n",
       "      <td>0</td>\n",
       "    </tr>\n",
       "    <tr>\n",
       "      <th>4</th>\n",
       "      <td>3.0</td>\n",
       "      <td>55</td>\n",
       "      <td>4</td>\n",
       "      <td>1</td>\n",
       "      <td>1</td>\n",
       "      <td>1</td>\n",
       "      <td>0</td>\n",
       "      <td>4</td>\n",
       "      <td>1</td>\n",
       "      <td>0</td>\n",
       "      <td>2</td>\n",
       "      <td>6</td>\n",
       "      <td>0</td>\n",
       "    </tr>\n",
       "  </tbody>\n",
       "</table>\n",
       "</div>"
      ],
      "text/plain": [
       "   Household Number  Age  Region_N  Area_type_N  Gender_N  Marital_N  \\\n",
       "0               2.0   50         4            1         1          1   \n",
       "1               1.0   31         4            1         1          0   \n",
       "2               4.0   32         4            1         0          2   \n",
       "3               5.0   45         4            1         0          1   \n",
       "4               3.0   55         4            1         1          1   \n",
       "\n",
       "   Banked/Unbanked_N  Credit_N  Saving_N  Remittances_N  Education_N  \\\n",
       "0                  0         1         1              0            2   \n",
       "1                  0         1         1              2            2   \n",
       "2                  1         4         4              0            3   \n",
       "3                  0         4         1              0            0   \n",
       "4                  0         4         1              0            2   \n",
       "\n",
       "   Income_Sources_N  Q1213_N  \n",
       "0                 2        0  \n",
       "1                 1        7  \n",
       "2                 6        0  \n",
       "3                 6        0  \n",
       "4                 6        0  "
      ]
     },
     "execution_count": 116,
     "metadata": {},
     "output_type": "execute_result"
    }
   ],
   "source": [
    "df2.head()"
   ]
  },
  {
   "cell_type": "code",
   "execution_count": 121,
   "metadata": {},
   "outputs": [],
   "source": [
    "## Export dataset for model building\n",
    "df2.to_csv('Data/train.csv', index=False)"
   ]
  },
  {
   "cell_type": "markdown",
   "metadata": {},
   "source": [
    "## Feature Engineering "
   ]
  },
  {
   "cell_type": "markdown",
   "metadata": {},
   "source": [
    "### 1. Univariate Selection"
   ]
  },
  {
   "cell_type": "markdown",
   "metadata": {},
   "source": [
    "Statistical tests can be used to select those features that have the strongest relationship with the output variable.\n",
    "\n",
    "Below I use the chi-squared (chi²) statistical test for non-negative features to select 10 of the best features from the Bank Account Prediction Dataset."
   ]
  },
  {
   "cell_type": "code",
   "execution_count": 124,
   "metadata": {},
   "outputs": [
    {
     "data": {
      "text/plain": [
       "Index(['Household Number', 'Age', 'Region_N', 'Area_type_N', 'Gender_N',\n",
       "       'Marital_N', 'Banked/Unbanked_N', 'Credit_N', 'Saving_N',\n",
       "       'Remittances_N', 'Education_N', 'Income_Sources_N', 'Q1213_N'],\n",
       "      dtype='object')"
      ]
     },
     "execution_count": 124,
     "metadata": {},
     "output_type": "execute_result"
    }
   ],
   "source": [
    "df2.columns"
   ]
  },
  {
   "cell_type": "code",
   "execution_count": 125,
   "metadata": {},
   "outputs": [],
   "source": [
    "X = df2[['Household Number', 'Age', 'Region_N', 'Area_type_N', 'Gender_N',\n",
    "       'Marital_N', 'Credit_N', 'Saving_N',\n",
    "       'Remittances_N', 'Education_N', 'Income_Sources_N', 'Q1213_N']]\n",
    "y = df2['Banked/Unbanked_N'] "
   ]
  },
  {
   "cell_type": "code",
   "execution_count": 127,
   "metadata": {},
   "outputs": [
    {
     "name": "stdout",
     "output_type": "stream",
     "text": [
      "               Specs       Score\n",
      "8      Remittances_N  557.485728\n",
      "9        Education_N  449.925038\n",
      "11           Q1213_N  182.746560\n",
      "3        Area_type_N  168.631378\n",
      "7           Saving_N  127.524927\n",
      "6           Credit_N   51.532366\n",
      "2           Region_N   28.959042\n",
      "10  Income_Sources_N   20.971973\n",
      "4           Gender_N   15.645346\n",
      "1                Age    1.343313\n"
     ]
    }
   ],
   "source": [
    "from sklearn.feature_selection import SelectKBest\n",
    "from sklearn.feature_selection import chi2\n",
    "\n",
    "#apply SelectKBest class to extract top 10 best features\n",
    "bestfeatures = SelectKBest(score_func=chi2, k=10)\n",
    "fit = bestfeatures.fit(X,y)\n",
    "dfscores = pd.DataFrame(fit.scores_)\n",
    "dfcolumns = pd.DataFrame(X.columns)\n",
    "#concat two dataframes for better visualization \n",
    "featureScores = pd.concat([dfcolumns,dfscores],axis=1)\n",
    "featureScores.columns = ['Specs','Score']  #naming the dataframe columns\n",
    "print(featureScores.nlargest(10,'Score'))  #print 10 best features"
   ]
  },
  {
   "cell_type": "markdown",
   "metadata": {},
   "source": [
    "### 2. Feature Importance\n",
    "We can get the feature importance of each feature in our dataset by using the feature importance property of the model.\n",
    "\n",
    "Feature importance gives us a score for each feature of our data, the higher the score more important or relevant is the feature towards our output variable.\n",
    "\n",
    "Feature importance is an inbuilt class that comes with Tree Based Classifiers, we will be using Extra Tree Classifier for extracting the top 10 features for the dataset."
   ]
  },
  {
   "cell_type": "code",
   "execution_count": 130,
   "metadata": {},
   "outputs": [
    {
     "name": "stdout",
     "output_type": "stream",
     "text": [
      "[0.03661299 0.04939773 0.0381871  0.05861674 0.01506083 0.02376769\n",
      " 0.05458718 0.48742387 0.0706876  0.08996225 0.04467437 0.03102166]\n"
     ]
    },
    {
     "data": {
      "image/png": "[encoded data removed]",
      "text/plain": [
       "<Figure size 432x288 with 1 Axes>"
      ]
     },
     "metadata": {
      "needs_background": "light"
     },
     "output_type": "display_data"
    }
   ],
   "source": [
    "from sklearn.ensemble import ExtraTreesClassifier\n",
    "\n",
    "model = ExtraTreesClassifier()\n",
    "model.fit(X,y)\n",
    "\n",
    "print(model.feature_importances_) #use inbuilt class feature_importances of tree based classifiers\n",
    "\n",
    "#plot graph of feature importances for better visualization\n",
    "feat_importances = pd.Series(model.feature_importances_, index=X.columns)\n",
    "feat_importances.nlargest(10).plot(kind='barh')\n",
    "plt.show()"
   ]
  },
  {
   "cell_type": "code",
   "execution_count": 132,
   "metadata": {},
   "outputs": [
    {
     "data": {
      "text/html": [
       "<div>\n",
       "<style scoped>\n",
       "    .dataframe tbody tr th:only-of-type {\n",
       "        vertical-align: middle;\n",
       "    }\n",
       "\n",
       "    .dataframe tbody tr th {\n",
       "        vertical-align: top;\n",
       "    }\n",
       "\n",
       "    .dataframe thead th {\n",
       "        text-align: right;\n",
       "    }\n",
       "</style>\n",
       "<table border=\"1\" class=\"dataframe\">\n",
       "  <thead>\n",
       "    <tr style=\"text-align: right;\">\n",
       "      <th></th>\n",
       "      <th>PC1</th>\n",
       "      <th>PC2</th>\n",
       "      <th>Banked/Unbanked_N</th>\n",
       "    </tr>\n",
       "  </thead>\n",
       "  <tbody>\n",
       "    <tr>\n",
       "      <th>0</th>\n",
       "      <td>11.656528</td>\n",
       "      <td>-2.908400</td>\n",
       "      <td>0</td>\n",
       "    </tr>\n",
       "    <tr>\n",
       "      <th>1</th>\n",
       "      <td>-7.424393</td>\n",
       "      <td>3.743960</td>\n",
       "      <td>0</td>\n",
       "    </tr>\n",
       "    <tr>\n",
       "      <th>2</th>\n",
       "      <td>-6.439378</td>\n",
       "      <td>-3.069126</td>\n",
       "      <td>1</td>\n",
       "    </tr>\n",
       "    <tr>\n",
       "      <th>3</th>\n",
       "      <td>6.631538</td>\n",
       "      <td>-2.820787</td>\n",
       "      <td>0</td>\n",
       "    </tr>\n",
       "    <tr>\n",
       "      <th>4</th>\n",
       "      <td>16.579812</td>\n",
       "      <td>-2.613851</td>\n",
       "      <td>0</td>\n",
       "    </tr>\n",
       "  </tbody>\n",
       "</table>\n",
       "</div>"
      ],
      "text/plain": [
       "         PC1       PC2  Banked/Unbanked_N\n",
       "0  11.656528 -2.908400                  0\n",
       "1  -7.424393  3.743960                  0\n",
       "2  -6.439378 -3.069126                  1\n",
       "3   6.631538 -2.820787                  0\n",
       "4  16.579812 -2.613851                  0"
      ]
     },
     "execution_count": 132,
     "metadata": {},
     "output_type": "execute_result"
    }
   ],
   "source": [
    "from sklearn.decomposition import PCA\n",
    "\n",
    "pca = PCA(n_components=2)\n",
    "X_pca = pca.fit_transform(X)\n",
    "PCA_df = pd.DataFrame(data = X_pca, columns = ['PC1', 'PC2'])\n",
    "PCA_df = pd.concat([PCA_df, df2['Banked/Unbanked_N']], axis = 1)\n",
    "PCA_df['Banked/Unbanked_N'] = LabelEncoder().fit_transform(PCA_df['Banked/Unbanked_N'])\n",
    "PCA_df.head()"
   ]
  },
  {
   "cell_type": "code",
   "execution_count": 133,
   "metadata": {},
   "outputs": [],
   "source": [
    "import time\n",
    "import numpy as np \n",
    "import pandas as pd \n",
    "import matplotlib.pyplot as plt\n",
    "from matplotlib.pyplot import figure\n",
    "import seaborn as sns\n",
    "from sklearn import preprocessing\n",
    "from sklearn.preprocessing import LabelEncoder\n",
    "from sklearn.preprocessing import StandardScaler\n",
    "from sklearn.model_selection import train_test_split\n",
    "from sklearn.metrics import classification_report,confusion_matrix\n",
    "from sklearn.ensemble import RandomForestClassifier"
   ]
  },
  {
   "cell_type": "code",
   "execution_count": 134,
   "metadata": {},
   "outputs": [],
   "source": [
    "def forest_test(X, Y):\n",
    "    X_Train, X_Test, Y_Train, Y_Test = train_test_split(X, Y, \n",
    "                                                        test_size = 0.30, \n",
    "                                                        random_state = 101)\n",
    "    start = time.process_time()\n",
    "    trainedforest = RandomForestClassifier(n_estimators=700).fit(X_Train,Y_Train)\n",
    "    print(time.process_time() - start)\n",
    "    predictionforest = trainedforest.predict(X_Test)\n",
    "    print(confusion_matrix(Y_Test,predictionforest))\n",
    "    print(classification_report(Y_Test,predictionforest))"
   ]
  },
  {
   "cell_type": "code",
   "execution_count": 135,
   "metadata": {},
   "outputs": [
    {
     "name": "stdout",
     "output_type": "stream",
     "text": [
      "2.90625\n",
      "[[277  31]\n",
      " [  1 571]]\n",
      "              precision    recall  f1-score   support\n",
      "\n",
      "           0       1.00      0.90      0.95       308\n",
      "           1       0.95      1.00      0.97       572\n",
      "\n",
      "    accuracy                           0.96       880\n",
      "   macro avg       0.97      0.95      0.96       880\n",
      "weighted avg       0.97      0.96      0.96       880\n",
      "\n"
     ]
    }
   ],
   "source": [
    "forest_test(X, y)"
   ]
  },
  {
   "cell_type": "code",
   "execution_count": 138,
   "metadata": {},
   "outputs": [
    {
     "data": {
      "image/png": "[encoded data removed]",
      "text/plain": [
       "<Figure size 640x640 with 1 Axes>"
      ]
     },
     "metadata": {},
     "output_type": "display_data"
    }
   ],
   "source": [
    "figure(num=None, figsize=(8, 8), dpi=80, facecolor='w', edgecolor='k')\n",
    "\n",
    "classes = [1, 0]\n",
    "colors = ['r', 'b']\n",
    "for clas, color in zip(classes, colors):\n",
    "    plt.scatter(PCA_df.loc[PCA_df['Banked/Unbanked_N'] == clas, 'PC1'], \n",
    "                PCA_df.loc[PCA_df['Banked/Unbanked_N'] == clas, 'PC2'], \n",
    "                c = color)\n",
    "    \n",
    "plt.xlabel('Principal Component 1', fontsize = 12)\n",
    "plt.ylabel('Principal Component 2', fontsize = 12)\n",
    "plt.title('2D PCA', fontsize = 15)\n",
    "plt.legend(['Banked', 'Unbanked'])\n",
    "plt.grid()"
   ]
  },
  {
   "cell_type": "code",
   "execution_count": 139,
   "metadata": {},
   "outputs": [
    {
     "name": "stdout",
     "output_type": "stream",
     "text": [
      "[240.3026758   18.45516201   9.08924387]\n",
      "4.21875\n",
      "[[143 165]\n",
      " [ 93 479]]\n",
      "              precision    recall  f1-score   support\n",
      "\n",
      "           0       0.61      0.46      0.53       308\n",
      "           1       0.74      0.84      0.79       572\n",
      "\n",
      "    accuracy                           0.71       880\n",
      "   macro avg       0.67      0.65      0.66       880\n",
      "weighted avg       0.70      0.71      0.70       880\n",
      "\n"
     ]
    }
   ],
   "source": [
    "pca = PCA(n_components=3,svd_solver='full')\n",
    "X_pca = pca.fit_transform(X)\n",
    "print(pca.explained_variance_)\n",
    "\n",
    "forest_test(X_pca, y)"
   ]
  },
  {
   "cell_type": "code",
   "execution_count": null,
   "metadata": {},
   "outputs": [],
   "source": []
  }
 ],
 "metadata": {
  "kernelspec": {
   "display_name": "Python 3",
   "language": "python",
   "name": "python3"
  },
  "language_info": {
   "codemirror_mode": {
    "name": "ipython",
    "version": 3
   },
   "file_extension": ".py",
   "mimetype": "text/x-python",
   "name": "python",
   "nbconvert_exporter": "python",
   "pygments_lexer": "ipython3",
   "version": "3.8.5"
  }
 },
 "nbformat": 4,
 "nbformat_minor": 4
}
