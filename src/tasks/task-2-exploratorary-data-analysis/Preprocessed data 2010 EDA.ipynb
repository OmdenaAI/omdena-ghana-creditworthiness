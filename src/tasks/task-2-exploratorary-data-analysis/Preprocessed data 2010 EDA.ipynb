{
 "cells": [
  {
   "cell_type": "markdown",
   "metadata": {},
   "source": [
    "## Import Libraries"
   ]
  },
  {
   "cell_type": "code",
   "execution_count": 1,
   "metadata": {},
   "outputs": [],
   "source": [
    "import pandas as pd\n",
    "import matplotlib.pyplot as plt\n",
    "import seaborn as sns\n",
    "%matplotlib inline\n",
    "sns.set()"
   ]
  },
  {
   "cell_type": "markdown",
   "metadata": {},
   "source": [
    "## Import Dataset"
   ]
  },
  {
   "cell_type": "code",
   "execution_count": 2,
   "metadata": {},
   "outputs": [],
   "source": [
    "df = pd.read_csv('Data/Processed Dataset 2010.csv')"
   ]
  },
  {
   "cell_type": "markdown",
   "metadata": {},
   "source": [
    "## Explore"
   ]
  },
  {
   "cell_type": "code",
   "execution_count": 3,
   "metadata": {},
   "outputs": [
    {
     "data": {
      "text/html": [
       "<div>\n",
       "<style scoped>\n",
       "    .dataframe tbody tr th:only-of-type {\n",
       "        vertical-align: middle;\n",
       "    }\n",
       "\n",
       "    .dataframe tbody tr th {\n",
       "        vertical-align: top;\n",
       "    }\n",
       "\n",
       "    .dataframe thead th {\n",
       "        text-align: right;\n",
       "    }\n",
       "</style>\n",
       "<table border=\"1\" class=\"dataframe\">\n",
       "  <thead>\n",
       "    <tr style=\"text-align: right;\">\n",
       "      <th></th>\n",
       "      <th>ID</th>\n",
       "      <th>Weight_Ind</th>\n",
       "      <th>Region</th>\n",
       "      <th>Area_type</th>\n",
       "      <th>Household Number</th>\n",
       "      <th>Q203_1</th>\n",
       "      <th>Q207a</th>\n",
       "      <th>Q207b</th>\n",
       "      <th>Q301a_1</th>\n",
       "      <th>Q301a_2</th>\n",
       "      <th>...</th>\n",
       "      <th>Gender</th>\n",
       "      <th>Income</th>\n",
       "      <th>Marital</th>\n",
       "      <th>Banked/Unbanked</th>\n",
       "      <th>Credit</th>\n",
       "      <th>Saving</th>\n",
       "      <th>Remittances</th>\n",
       "      <th>Education</th>\n",
       "      <th>Income_Sources</th>\n",
       "      <th>Age2</th>\n",
       "    </tr>\n",
       "  </thead>\n",
       "  <tbody>\n",
       "    <tr>\n",
       "      <th>0</th>\n",
       "      <td>1.0</td>\n",
       "      <td>1229.015015</td>\n",
       "      <td>Greater Accra</td>\n",
       "      <td>Urban</td>\n",
       "      <td>2.0</td>\n",
       "      <td>Broker /Representative from a financial instit...</td>\n",
       "      <td>Yes</td>\n",
       "      <td>Yes</td>\n",
       "      <td>Never had</td>\n",
       "      <td>Never had</td>\n",
       "      <td>...</td>\n",
       "      <td>Male</td>\n",
       "      <td>Yes</td>\n",
       "      <td>Married</td>\n",
       "      <td>Banked</td>\n",
       "      <td>Credit from family and friends</td>\n",
       "      <td>Saving at bank</td>\n",
       "      <td>Not remitting</td>\n",
       "      <td>Primary education</td>\n",
       "      <td>Formally employed Private</td>\n",
       "      <td>46+ yrs</td>\n",
       "    </tr>\n",
       "    <tr>\n",
       "      <th>1</th>\n",
       "      <td>2.0</td>\n",
       "      <td>1229.015015</td>\n",
       "      <td>Greater Accra</td>\n",
       "      <td>Urban</td>\n",
       "      <td>1.0</td>\n",
       "      <td>Broker /Representative from a financial instit...</td>\n",
       "      <td>Yes</td>\n",
       "      <td>Yes</td>\n",
       "      <td>Never had</td>\n",
       "      <td>Never had</td>\n",
       "      <td>...</td>\n",
       "      <td>Male</td>\n",
       "      <td>Yes</td>\n",
       "      <td>Divorced</td>\n",
       "      <td>Banked</td>\n",
       "      <td>Credit from family and friends</td>\n",
       "      <td>Saving at bank</td>\n",
       "      <td>Remitting informally</td>\n",
       "      <td>Primary education</td>\n",
       "      <td>Farming and Fishing</td>\n",
       "      <td>31 - 35 yrs</td>\n",
       "    </tr>\n",
       "    <tr>\n",
       "      <th>2</th>\n",
       "      <td>3.0</td>\n",
       "      <td>1229.015015</td>\n",
       "      <td>Greater Accra</td>\n",
       "      <td>Urban</td>\n",
       "      <td>4.0</td>\n",
       "      <td>Television</td>\n",
       "      <td>Yes</td>\n",
       "      <td>Yes</td>\n",
       "      <td>Never had</td>\n",
       "      <td>Never had</td>\n",
       "      <td>...</td>\n",
       "      <td>Female</td>\n",
       "      <td>Yes</td>\n",
       "      <td>Never married</td>\n",
       "      <td>Informal</td>\n",
       "      <td>Not borrowing</td>\n",
       "      <td>Saving informally</td>\n",
       "      <td>Not remitting</td>\n",
       "      <td>Secondary education</td>\n",
       "      <td>Self employed</td>\n",
       "      <td>31 - 35 yrs</td>\n",
       "    </tr>\n",
       "    <tr>\n",
       "      <th>3</th>\n",
       "      <td>4.0</td>\n",
       "      <td>1229.015015</td>\n",
       "      <td>Greater Accra</td>\n",
       "      <td>Urban</td>\n",
       "      <td>5.0</td>\n",
       "      <td>Television</td>\n",
       "      <td>Yes</td>\n",
       "      <td>Yes</td>\n",
       "      <td>Never had</td>\n",
       "      <td>Never had</td>\n",
       "      <td>...</td>\n",
       "      <td>Female</td>\n",
       "      <td>Yes</td>\n",
       "      <td>Married</td>\n",
       "      <td>Banked</td>\n",
       "      <td>Not borrowing</td>\n",
       "      <td>Saving at bank</td>\n",
       "      <td>Not remitting</td>\n",
       "      <td>No formal education</td>\n",
       "      <td>Self employed</td>\n",
       "      <td>41 - 45 yrs</td>\n",
       "    </tr>\n",
       "    <tr>\n",
       "      <th>4</th>\n",
       "      <td>5.0</td>\n",
       "      <td>1229.015015</td>\n",
       "      <td>Greater Accra</td>\n",
       "      <td>Urban</td>\n",
       "      <td>3.0</td>\n",
       "      <td>Television</td>\n",
       "      <td>Yes</td>\n",
       "      <td>Yes</td>\n",
       "      <td>Never had</td>\n",
       "      <td>Never had</td>\n",
       "      <td>...</td>\n",
       "      <td>Male</td>\n",
       "      <td>Yes</td>\n",
       "      <td>Married</td>\n",
       "      <td>Banked</td>\n",
       "      <td>Not borrowing</td>\n",
       "      <td>Saving at bank</td>\n",
       "      <td>Not remitting</td>\n",
       "      <td>Primary education</td>\n",
       "      <td>Self employed</td>\n",
       "      <td>46+ yrs</td>\n",
       "    </tr>\n",
       "  </tbody>\n",
       "</table>\n",
       "<p>5 rows × 42 columns</p>\n",
       "</div>"
      ],
      "text/plain": [
       "    ID   Weight_Ind         Region Area_type  Household Number  \\\n",
       "0  1.0  1229.015015  Greater Accra     Urban               2.0   \n",
       "1  2.0  1229.015015  Greater Accra     Urban               1.0   \n",
       "2  3.0  1229.015015  Greater Accra     Urban               4.0   \n",
       "3  4.0  1229.015015  Greater Accra     Urban               5.0   \n",
       "4  5.0  1229.015015  Greater Accra     Urban               3.0   \n",
       "\n",
       "                                              Q203_1 Q207a Q207b    Q301a_1  \\\n",
       "0  Broker /Representative from a financial instit...   Yes   Yes  Never had   \n",
       "1  Broker /Representative from a financial instit...   Yes   Yes  Never had   \n",
       "2                                         Television   Yes   Yes  Never had   \n",
       "3                                         Television   Yes   Yes  Never had   \n",
       "4                                         Television   Yes   Yes  Never had   \n",
       "\n",
       "     Q301a_2  ...  Gender Income        Marital Banked/Unbanked  \\\n",
       "0  Never had  ...    Male    Yes        Married          Banked   \n",
       "1  Never had  ...    Male    Yes       Divorced          Banked   \n",
       "2  Never had  ...  Female    Yes  Never married        Informal   \n",
       "3  Never had  ...  Female    Yes        Married          Banked   \n",
       "4  Never had  ...    Male    Yes        Married          Banked   \n",
       "\n",
       "                           Credit             Saving           Remittances  \\\n",
       "0  Credit from family and friends     Saving at bank         Not remitting   \n",
       "1  Credit from family and friends     Saving at bank  Remitting informally   \n",
       "2                   Not borrowing  Saving informally         Not remitting   \n",
       "3                   Not borrowing     Saving at bank         Not remitting   \n",
       "4                   Not borrowing     Saving at bank         Not remitting   \n",
       "\n",
       "             Education             Income_Sources         Age2  \n",
       "0    Primary education  Formally employed Private      46+ yrs  \n",
       "1    Primary education        Farming and Fishing  31 - 35 yrs  \n",
       "2  Secondary education              Self employed  31 - 35 yrs  \n",
       "3  No formal education              Self employed  41 - 45 yrs  \n",
       "4    Primary education              Self employed      46+ yrs  \n",
       "\n",
       "[5 rows x 42 columns]"
      ]
     },
     "execution_count": 3,
     "metadata": {},
     "output_type": "execute_result"
    }
   ],
   "source": [
    "df.head()"
   ]
  },
  {
   "cell_type": "markdown",
   "metadata": {},
   "source": [
    "From the df.info() we can  see some columns numbered. the column description are as follow:\n",
    "  * 203_1 How do you get financial information\n",
    "  * 207a Involved in making financial decisions\n",
    "  * 207b has money to spend as he wishes\n",
    "  * 301a had the following items\n",
    "    * 1 Bank current/ cheque account\n",
    "    * 2 Bank Investment account\n",
    "    * 3 Bank Savings account\n",
    "    * 4 Bank fixed deposit account\n",
    "    * 5 Bank Debit card\n",
    "    * 6 Bank Credit card\n",
    "    * 7 E - zwich\n",
    "    * 8 ATM card\n",
    "  * 303 used someone else bank account \n",
    "  * 304_1 Reason for using someone elses bank account\n",
    "  * 401_1 Reason for not having a bank account\n",
    "  * 503 Which service is used most often( Bank, ATM, Internet)\n",
    "  * 505b How do people get to financial instituitions\n",
    "  * 506 Do they do other activities on their way to financial institutions\n",
    "  * 507 Time spent going to financial institutions\n",
    "  * 601a Currently saving \n",
    "  * 601b_1 How do poeple save \n",
    "  * 1201 Is the person the main income earner of the household\n",
    "  * 1202 How they recieve income\n",
    "  * 1208 How much of their money passes through a bank account\n",
    "  * 1209 Reason for not allowing money to pass through banks\n",
    "  * 1213 Total personal income\n",
    "  * 1214 Total household income\n",
    "  "
   ]
  },
  {
   "cell_type": "code",
   "execution_count": 4,
   "metadata": {},
   "outputs": [
    {
     "name": "stdout",
     "output_type": "stream",
     "text": [
      "<class 'pandas.core.frame.DataFrame'>\n",
      "RangeIndex: 3454 entries, 0 to 3453\n",
      "Data columns (total 42 columns):\n",
      " #   Column            Non-Null Count  Dtype  \n",
      "---  ------            --------------  -----  \n",
      " 0   ID                3453 non-null   float64\n",
      " 1   Weight_Ind        3453 non-null   float64\n",
      " 2   Region            3453 non-null   object \n",
      " 3   Area_type         3453 non-null   object \n",
      " 4   Household Number  3453 non-null   float64\n",
      " 5   Q203_1            3453 non-null   object \n",
      " 6   Q207a             3453 non-null   object \n",
      " 7   Q207b             3453 non-null   object \n",
      " 8   Q301a_1           3453 non-null   object \n",
      " 9   Q301a_2           3453 non-null   object \n",
      " 10  Q301a_3           3453 non-null   object \n",
      " 11  Q301a_4           3453 non-null   object \n",
      " 12  Q301a_5           3453 non-null   object \n",
      " 13  Q301a_6           3453 non-null   object \n",
      " 14  Q301a_7           3453 non-null   object \n",
      " 15  Q301a_8           3453 non-null   object \n",
      " 16  Q303              3453 non-null   object \n",
      " 17  Q304_1            99 non-null     object \n",
      " 18  Q401_1            2079 non-null   object \n",
      " 19  Q503              3453 non-null   object \n",
      " 20  Q505b             1482 non-null   object \n",
      " 21  Q506              1186 non-null   object \n",
      " 22  Q507              1166 non-null   object \n",
      " 23  Q601a             3453 non-null   object \n",
      " 24  Q601b_1           2234 non-null   object \n",
      " 25  Q1201             3453 non-null   object \n",
      " 26  Q1202             3453 non-null   object \n",
      " 27  Q1208             3453 non-null   object \n",
      " 28  Q1209_1           2525 non-null   object \n",
      " 29  Q1213             3448 non-null   object \n",
      " 30  Q1214             3453 non-null   object \n",
      " 31  Age               3453 non-null   object \n",
      " 32  Gender            3453 non-null   object \n",
      " 33  Income            3453 non-null   object \n",
      " 34  Marital           3453 non-null   object \n",
      " 35  Banked/Unbanked   3454 non-null   object \n",
      " 36  Credit            3454 non-null   object \n",
      " 37  Saving            3454 non-null   object \n",
      " 38  Remittances       3454 non-null   object \n",
      " 39  Education         3454 non-null   object \n",
      " 40  Income_Sources    3454 non-null   object \n",
      " 41  Age2              3438 non-null   object \n",
      "dtypes: float64(3), object(39)\n",
      "memory usage: 1.1+ MB\n"
     ]
    }
   ],
   "source": [
    "df.info()"
   ]
  },
  {
   "cell_type": "code",
   "execution_count": 5,
   "metadata": {},
   "outputs": [
    {
     "data": {
      "text/plain": [
       "Index(['ID', 'Weight_Ind', 'Region', 'Area_type', 'Household Number', 'Q203_1',\n",
       "       'Q207a', 'Q207b', 'Q301a_1', 'Q301a_2', 'Q301a_3', 'Q301a_4', 'Q301a_5',\n",
       "       'Q301a_6', 'Q301a_7', 'Q301a_8', 'Q303', 'Q304_1', 'Q401_1', 'Q503',\n",
       "       'Q505b', 'Q506', 'Q507', 'Q601a', 'Q601b_1', 'Q1201', 'Q1202', 'Q1208',\n",
       "       'Q1209_1', 'Q1213', 'Q1214', 'Age', 'Gender', 'Income', 'Marital',\n",
       "       'Banked/Unbanked', 'Credit', 'Saving', 'Remittances', 'Education',\n",
       "       'Income_Sources', 'Age2'],\n",
       "      dtype='object')"
      ]
     },
     "execution_count": 5,
     "metadata": {},
     "output_type": "execute_result"
    }
   ],
   "source": [
    "df.columns"
   ]
  },
  {
   "cell_type": "markdown",
   "metadata": {},
   "source": [
    "## EDA"
   ]
  },
  {
   "cell_type": "markdown",
   "metadata": {},
   "source": [
    "### Region Analysis"
   ]
  },
  {
   "cell_type": "markdown",
   "metadata": {},
   "source": [
    "Check Avaliable regions from ghana: We have 10 regions."
   ]
  },
  {
   "cell_type": "code",
   "execution_count": 3,
   "metadata": {},
   "outputs": [
    {
     "data": {
      "text/plain": [
       "array(['Greater Accra', 'Ashanti', 'Western', 'Central', 'Volta',\n",
       "       'Eastern', 'Upper West', 'Brong Ahafo', 'Northern', 'Upper East',\n",
       "       nan], dtype=object)"
      ]
     },
     "execution_count": 3,
     "metadata": {},
     "output_type": "execute_result"
    }
   ],
   "source": [
    "df['Region'].unique()"
   ]
  },
  {
   "cell_type": "markdown",
   "metadata": {},
   "source": [
    "Next check the region area type: We have the urban & Rural Area type"
   ]
  },
  {
   "cell_type": "code",
   "execution_count": 4,
   "metadata": {},
   "outputs": [
    {
     "data": {
      "text/plain": [
       "array(['Urban', 'Rural', nan], dtype=object)"
      ]
     },
     "execution_count": 4,
     "metadata": {},
     "output_type": "execute_result"
    }
   ],
   "source": [
    "df['Area_type'].unique()"
   ]
  },
  {
   "cell_type": "markdown",
   "metadata": {},
   "source": [
    "Next we can check the number of individuals inteviewed see their distribution according to region"
   ]
  },
  {
   "cell_type": "code",
   "execution_count": 6,
   "metadata": {},
   "outputs": [
    {
     "data": {
      "text/plain": [
       "Ashanti          640\n",
       "Greater Accra    530\n",
       "Eastern          370\n",
       "Western          331\n",
       "Northern         327\n",
       "Brong Ahafo      325\n",
       "Volta            286\n",
       "Central          283\n",
       "Upper East       199\n",
       "Upper West       162\n",
       "Name: Region, dtype: int64"
      ]
     },
     "execution_count": 6,
     "metadata": {},
     "output_type": "execute_result"
    }
   ],
   "source": [
    "df['Region'].value_counts()"
   ]
  },
  {
   "cell_type": "code",
   "execution_count": 7,
   "metadata": {},
   "outputs": [
    {
     "data": {
      "text/plain": [
       "<AxesSubplot:xlabel='count', ylabel='Region'>"
      ]
     },
     "execution_count": 7,
     "metadata": {},
     "output_type": "execute_result"
    },
    {
     "data": {
      "image/png": "[encoded data removed]",
      "text/plain": [
       "<Figure size 432x288 with 1 Axes>"
      ]
     },
     "metadata": {},
     "output_type": "display_data"
    }
   ],
   "source": [
    "## plot for same\n",
    "sns.countplot(data=df, y='Region')"
   ]
  },
  {
   "cell_type": "code",
   "execution_count": 8,
   "metadata": {},
   "outputs": [
    {
     "data": {
      "text/plain": [
       "Rural    1985\n",
       "Urban    1468\n",
       "Name: Area_type, dtype: int64"
      ]
     },
     "execution_count": 8,
     "metadata": {},
     "output_type": "execute_result"
    }
   ],
   "source": [
    "df['Area_type'].value_counts()"
   ]
  },
  {
   "cell_type": "code",
   "execution_count": 9,
   "metadata": {},
   "outputs": [
    {
     "data": {
      "text/plain": [
       "<AxesSubplot:xlabel='count', ylabel='Area_type'>"
      ]
     },
     "execution_count": 9,
     "metadata": {},
     "output_type": "execute_result"
    },
    {
     "data": {
      "image/png": "[encoded data removed]",
      "text/plain": [
       "<Figure size 432x288 with 1 Axes>"
      ]
     },
     "metadata": {},
     "output_type": "display_data"
    }
   ],
   "source": [
    "sns.countplot(data=df, y='Area_type')"
   ]
  },
  {
   "cell_type": "markdown",
   "metadata": {},
   "source": [
    "From the above info, we can see that most individuals whow took part in the survey were from the rural area. Though the numbers were almost equal"
   ]
  },
  {
   "cell_type": "markdown",
   "metadata": {},
   "source": [
    "### Level of Education"
   ]
  },
  {
   "cell_type": "code",
   "execution_count": 11,
   "metadata": {},
   "outputs": [
    {
     "data": {
      "text/plain": [
       "Primary education                  1698\n",
       "No formal education                 901\n",
       "Secondary education                 560\n",
       "Tertiary education                  170\n",
       "Vocational/Specialised training      94\n",
       "Other/Dont know                      31\n",
       "Name: Education, dtype: int64"
      ]
     },
     "execution_count": 11,
     "metadata": {},
     "output_type": "execute_result"
    }
   ],
   "source": [
    "df['Education'].value_counts()"
   ]
  },
  {
   "cell_type": "code",
   "execution_count": 18,
   "metadata": {},
   "outputs": [
    {
     "data": {
      "text/plain": [
       "<AxesSubplot:xlabel='count', ylabel='Education'>"
      ]
     },
     "execution_count": 18,
     "metadata": {},
     "output_type": "execute_result"
    },
    {
     "data": {
      "image/png": "[encoded data removed]",
      "text/plain": [
       "<Figure size 432x288 with 1 Axes>"
      ]
     },
     "metadata": {},
     "output_type": "display_data"
    }
   ],
   "source": [
    "sns.countplot(data=df, y='Education')"
   ]
  },
  {
   "cell_type": "markdown",
   "metadata": {},
   "source": [
    "We get to see that most individuals only got to finish thier primary education"
   ]
  },
  {
   "cell_type": "markdown",
   "metadata": {},
   "source": [
    "### Banking, Savings and finance Analysis"
   ]
  },
  {
   "cell_type": "markdown",
   "metadata": {},
   "source": [
    "#### Banking Info"
   ]
  },
  {
   "cell_type": "code",
   "execution_count": 26,
   "metadata": {},
   "outputs": [
    {
     "data": {
      "text/plain": [
       "3454"
      ]
     },
     "execution_count": 26,
     "metadata": {},
     "output_type": "execute_result"
    }
   ],
   "source": [
    "df['Banked/Unbanked'].count()"
   ]
  },
  {
   "cell_type": "markdown",
   "metadata": {},
   "source": [
    "We Have 3454 responses for this question"
   ]
  },
  {
   "cell_type": "code",
   "execution_count": 21,
   "metadata": {},
   "outputs": [
    {
     "data": {
      "text/plain": [
       "Excluded                   1495\n",
       "Banked                     1190\n",
       "Informal                    538\n",
       "Other formal (non-bank)     231\n",
       "Name: Banked/Unbanked, dtype: int64"
      ]
     },
     "execution_count": 21,
     "metadata": {},
     "output_type": "execute_result"
    }
   ],
   "source": [
    "df['Banked/Unbanked'].value_counts()"
   ]
  },
  {
   "cell_type": "code",
   "execution_count": 22,
   "metadata": {},
   "outputs": [
    {
     "data": {
      "text/plain": [
       "<AxesSubplot:xlabel='count', ylabel='Banked/Unbanked'>"
      ]
     },
     "execution_count": 22,
     "metadata": {},
     "output_type": "execute_result"
    },
    {
     "data": {
      "image/png": "[encoded data removed]",
      "text/plain": [
       "<Figure size 432x288 with 1 Axes>"
      ]
     },
     "metadata": {},
     "output_type": "display_data"
    }
   ],
   "source": [
    "sns.countplot(data=df, y='Banked/Unbanked')"
   ]
  },
  {
   "cell_type": "markdown",
   "metadata": {},
   "source": [
    "#### Savings info"
   ]
  },
  {
   "cell_type": "code",
   "execution_count": 24,
   "metadata": {},
   "outputs": [
    {
     "data": {
      "text/plain": [
       "Saving at bank                       1038\n",
       "Not saving                            938\n",
       "Saving at home                        922\n",
       "Saving informally                     429\n",
       "Saving at other formal (non-bank)     127\n",
       "Name: Saving, dtype: int64"
      ]
     },
     "execution_count": 24,
     "metadata": {},
     "output_type": "execute_result"
    }
   ],
   "source": [
    "df['Saving'].value_counts()"
   ]
  },
  {
   "cell_type": "code",
   "execution_count": 28,
   "metadata": {},
   "outputs": [
    {
     "data": {
      "text/plain": [
       "<AxesSubplot:xlabel='count', ylabel='Saving'>"
      ]
     },
     "execution_count": 28,
     "metadata": {},
     "output_type": "execute_result"
    },
    {
     "data": {
      "image/png": "[encoded data removed]",
      "text/plain": [
       "<Figure size 432x288 with 1 Axes>"
      ]
     },
     "metadata": {},
     "output_type": "display_data"
    }
   ],
   "source": [
    "sns.countplot(data=df, y='Saving')"
   ]
  },
  {
   "cell_type": "markdown",
   "metadata": {},
   "source": [
    "#### Sources of income"
   ]
  },
  {
   "cell_type": "code",
   "execution_count": 29,
   "metadata": {},
   "outputs": [
    {
     "data": {
      "text/plain": [
       "Self employed                987\n",
       "Farming and Fishing          926\n",
       "Remittance Dependent         710\n",
       "Formally employed Private    438\n",
       "Informally employed          192\n",
       "Dont Know                    143\n",
       "Other Income                  58\n",
       "Name: Income_Sources, dtype: int64"
      ]
     },
     "execution_count": 29,
     "metadata": {},
     "output_type": "execute_result"
    }
   ],
   "source": [
    "df['Income_Sources'].value_counts()"
   ]
  },
  {
   "cell_type": "code",
   "execution_count": 30,
   "metadata": {},
   "outputs": [
    {
     "data": {
      "text/plain": [
       "<AxesSubplot:xlabel='count', ylabel='Income_Sources'>"
      ]
     },
     "execution_count": 30,
     "metadata": {},
     "output_type": "execute_result"
    },
    {
     "data": {
      "image/png": "[encoded data removed]",
      "text/plain": [
       "<Figure size 432x288 with 1 Axes>"
      ]
     },
     "metadata": {},
     "output_type": "display_data"
    }
   ],
   "source": [
    "sns.countplot(data=df, y='Income_Sources')"
   ]
  },
  {
   "cell_type": "markdown",
   "metadata": {},
   "source": [
    "#### Has a source of income "
   ]
  },
  {
   "cell_type": "code",
   "execution_count": 33,
   "metadata": {},
   "outputs": [
    {
     "data": {
      "text/plain": [
       "Yes                          2856\n",
       "No                            587\n",
       "Not answered/Missing Data      10\n",
       "Name: Income, dtype: int64"
      ]
     },
     "execution_count": 33,
     "metadata": {},
     "output_type": "execute_result"
    }
   ],
   "source": [
    "df['Income'].value_counts()"
   ]
  },
  {
   "cell_type": "code",
   "execution_count": 36,
   "metadata": {},
   "outputs": [
    {
     "data": {
      "text/plain": [
       "<AxesSubplot:xlabel='count', ylabel='Income_Sources'>"
      ]
     },
     "execution_count": 36,
     "metadata": {},
     "output_type": "execute_result"
    },
    {
     "data": {
      "image/png": "[encoded data removed]",
      "text/plain": [
       "<Figure size 432x288 with 1 Axes>"
      ]
     },
     "metadata": {},
     "output_type": "display_data"
    }
   ],
   "source": [
    "sns.countplot(data=df, y='Income_Sources', hue='Income')"
   ]
  },
  {
   "cell_type": "code",
   "execution_count": 37,
   "metadata": {},
   "outputs": [],
   "source": [
    "#### Checking the number of individuals using other peoples bank account"
   ]
  },
  {
   "cell_type": "code",
   "execution_count": 39,
   "metadata": {},
   "outputs": [
    {
     "data": {
      "text/plain": [
       "No     3354\n",
       "Yes      99\n",
       "Name: Q303, dtype: int64"
      ]
     },
     "execution_count": 39,
     "metadata": {},
     "output_type": "execute_result"
    }
   ],
   "source": [
    "df['Q303'].value_counts()"
   ]
  },
  {
   "cell_type": "code",
   "execution_count": 40,
   "metadata": {},
   "outputs": [
    {
     "data": {
      "text/plain": [
       "<AxesSubplot:xlabel='count', ylabel='Q303'>"
      ]
     },
     "execution_count": 40,
     "metadata": {},
     "output_type": "execute_result"
    },
    {
     "data": {
      "image/png": "[encoded data removed]",
      "text/plain": [
       "<Figure size 432x288 with 1 Axes>"
      ]
     },
     "metadata": {},
     "output_type": "display_data"
    }
   ],
   "source": [
    "sns.countplot(data=df, y='Q303')"
   ]
  },
  {
   "cell_type": "markdown",
   "metadata": {},
   "source": [
    "We have only 99 of them"
   ]
  },
  {
   "cell_type": "markdown",
   "metadata": {},
   "source": [
    "Check for reasons for using another persons bank account"
   ]
  },
  {
   "cell_type": "code",
   "execution_count": 42,
   "metadata": {},
   "outputs": [
    {
     "data": {
      "text/plain": [
       "I cannot afford my own account                           54\n",
       "I don't know how to open an account                      13\n",
       "Other                                                    11\n",
       "It is cheaper to share an account with another person     8\n",
       "I don't qualify for my own account                        8\n",
       "Don't know where to open an account                       3\n",
       "Am not allowed to operate my own account                  2\n",
       "Name: Q304_1, dtype: int64"
      ]
     },
     "execution_count": 42,
     "metadata": {},
     "output_type": "execute_result"
    }
   ],
   "source": [
    "df['Q304_1'].value_counts()"
   ]
  },
  {
   "cell_type": "code",
   "execution_count": 43,
   "metadata": {},
   "outputs": [
    {
     "data": {
      "text/plain": [
       "<AxesSubplot:xlabel='count', ylabel='Q304_1'>"
      ]
     },
     "execution_count": 43,
     "metadata": {},
     "output_type": "execute_result"
    },
    {
     "data": {
      "image/png": "[encoded data removed]",
      "text/plain": [
       "<Figure size 432x288 with 1 Axes>"
      ]
     },
     "metadata": {},
     "output_type": "display_data"
    }
   ],
   "source": [
    "sns.countplot(data=df, y='Q304_1')"
   ]
  },
  {
   "cell_type": "markdown",
   "metadata": {},
   "source": [
    "Checking for others, reasons for not having a bank account"
   ]
  },
  {
   "cell_type": "code",
   "execution_count": 44,
   "metadata": {},
   "outputs": [
    {
     "data": {
      "text/plain": [
       "I don't have enough money or income                                                           1180\n",
       "I don't have regular income                                                                    137\n",
       "The bank is far away                                                                            80\n",
       "It costs too much to get to the bank                                                            69\n",
       "Banks offer low interest or returns                                                             69\n",
       "Not answered/Missing Data                                                                       59\n",
       "Account charges and fees are too high  (e.g. Account opening fee, monthly maintenance fee)      55\n",
       "Banks are not interested in people like me                                                      54\n",
       "I don't have the time to go to a bank                                                           46\n",
       "Banks have inconvenient hours of operation                                                      44\n",
       "I can't read or write                                                                           44\n",
       "Bank queues                                                                                     38\n",
       "I feel unsafe leaving the bank with my money                                                    31\n",
       "Bank staff are discourteous or rude                                                             29\n",
       "Transactions take too long                                                                      29\n",
       "I don't need it                                                                                 23\n",
       "I cannot afford to maintain a minimum balance in the bank                                       16\n",
       "I don't understand the products and services because I have no information on them              14\n",
       "I don't trust banks or other financial institutions                                             13\n",
       "I don't have the right identity or reference documents                                          12\n",
       "The banking environment is intimidating                                                         11\n",
       "I prefer to use other options or services than a bank                                           10\n",
       "I am too young to qualify to open an account                                                     8\n",
       "Don't know                                                                                       4\n",
       "Other                                                                                            3\n",
       "I'm not allowed to go to a bank by my spouse                                                     1\n",
       "Name: Q401_1, dtype: int64"
      ]
     },
     "execution_count": 44,
     "metadata": {},
     "output_type": "execute_result"
    }
   ],
   "source": [
    "df['Q401_1'].value_counts()"
   ]
  },
  {
   "cell_type": "markdown",
   "metadata": {},
   "source": [
    "The main reason for individuals not having a bank account is due to low income"
   ]
  },
  {
   "cell_type": "code",
   "execution_count": null,
   "metadata": {},
   "outputs": [],
   "source": []
  }
 ],
 "metadata": {
  "kernelspec": {
   "display_name": "Python 3",
   "language": "python",
   "name": "python3"
  },
  "language_info": {
   "codemirror_mode": {
    "name": "ipython",
    "version": 3
   },
   "file_extension": ".py",
   "mimetype": "text/x-python",
   "name": "python",
   "nbconvert_exporter": "python",
   "pygments_lexer": "ipython3",
   "version": "3.8.5"
  }
 },
 "nbformat": 4,
 "nbformat_minor": 4
}
