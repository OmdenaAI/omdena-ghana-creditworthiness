{
 "cells": [
  {
   "cell_type": "code",
   "execution_count": 1,
   "metadata": {},
   "outputs": [],
   "source": [
    "import pandas as pd\n",
    "import seaborn as sns\n",
    "sns.set()"
   ]
  },
  {
   "cell_type": "code",
   "execution_count": 2,
   "metadata": {},
   "outputs": [],
   "source": [
    "df = pd.read_excel('Data/micro_gha_varname.xls')"
   ]
  },
  {
   "cell_type": "code",
   "execution_count": 3,
   "metadata": {},
   "outputs": [
    {
     "data": {
      "text/html": [
       "<div>\n",
       "<style scoped>\n",
       "    .dataframe tbody tr th:only-of-type {\n",
       "        vertical-align: middle;\n",
       "    }\n",
       "\n",
       "    .dataframe tbody tr th {\n",
       "        vertical-align: top;\n",
       "    }\n",
       "\n",
       "    .dataframe thead th {\n",
       "        text-align: right;\n",
       "    }\n",
       "</style>\n",
       "<table border=\"1\" class=\"dataframe\">\n",
       "  <thead>\n",
       "    <tr style=\"text-align: right;\">\n",
       "      <th></th>\n",
       "      <th>economy</th>\n",
       "      <th>economycode</th>\n",
       "      <th>wpid_random</th>\n",
       "      <th>wgt</th>\n",
       "      <th>female</th>\n",
       "      <th>age</th>\n",
       "      <th>educ</th>\n",
       "      <th>inc_q</th>\n",
       "      <th>emp_in</th>\n",
       "      <th>fin2</th>\n",
       "      <th>...</th>\n",
       "      <th>receive_wages</th>\n",
       "      <th>receive_transfers</th>\n",
       "      <th>receive_pension</th>\n",
       "      <th>receive_agriculture</th>\n",
       "      <th>pay_utilities</th>\n",
       "      <th>remittances</th>\n",
       "      <th>pay_onlne</th>\n",
       "      <th>pay_onlne_mobintbuy</th>\n",
       "      <th>pay_cash</th>\n",
       "      <th>pay_cash_mobintbuy</th>\n",
       "    </tr>\n",
       "  </thead>\n",
       "  <tbody>\n",
       "    <tr>\n",
       "      <th>0</th>\n",
       "      <td>Ghana</td>\n",
       "      <td>GHA</td>\n",
       "      <td>178454504</td>\n",
       "      <td>1.010208</td>\n",
       "      <td>Female</td>\n",
       "      <td>34</td>\n",
       "      <td>secondary</td>\n",
       "      <td>Middle 20%</td>\n",
       "      <td>out of workforce</td>\n",
       "      <td>no</td>\n",
       "      <td>...</td>\n",
       "      <td>Main source: Borrowing from a bank, empoyer, o...</td>\n",
       "      <td>4</td>\n",
       "      <td>4</td>\n",
       "      <td>4</td>\n",
       "      <td>4</td>\n",
       "      <td>1</td>\n",
       "      <td>no/dk/ref</td>\n",
       "      <td>NaN</td>\n",
       "      <td>no/dk/ref</td>\n",
       "      <td>NaN</td>\n",
       "    </tr>\n",
       "    <tr>\n",
       "      <th>1</th>\n",
       "      <td>Ghana</td>\n",
       "      <td>GHA</td>\n",
       "      <td>199057110</td>\n",
       "      <td>0.861258</td>\n",
       "      <td>Male</td>\n",
       "      <td>58</td>\n",
       "      <td>secondary</td>\n",
       "      <td>Second 20%</td>\n",
       "      <td>in workforce</td>\n",
       "      <td>no</td>\n",
       "      <td>...</td>\n",
       "      <td>Main source: Borrowing from a bank, empoyer, o...</td>\n",
       "      <td>4</td>\n",
       "      <td>4</td>\n",
       "      <td>1</td>\n",
       "      <td>2</td>\n",
       "      <td>5</td>\n",
       "      <td>no/dk/ref</td>\n",
       "      <td>NaN</td>\n",
       "      <td>no/dk/ref</td>\n",
       "      <td>NaN</td>\n",
       "    </tr>\n",
       "    <tr>\n",
       "      <th>2</th>\n",
       "      <td>Ghana</td>\n",
       "      <td>GHA</td>\n",
       "      <td>201173361</td>\n",
       "      <td>0.412885</td>\n",
       "      <td>Male</td>\n",
       "      <td>30</td>\n",
       "      <td>completed primary or less</td>\n",
       "      <td>Poorest 20%</td>\n",
       "      <td>in workforce</td>\n",
       "      <td>no</td>\n",
       "      <td>...</td>\n",
       "      <td>Main source: Selling assets</td>\n",
       "      <td>1</td>\n",
       "      <td>5</td>\n",
       "      <td>4</td>\n",
       "      <td>5</td>\n",
       "      <td>2</td>\n",
       "      <td>no/dk/ref</td>\n",
       "      <td>NaN</td>\n",
       "      <td>no/dk/ref</td>\n",
       "      <td>NaN</td>\n",
       "    </tr>\n",
       "    <tr>\n",
       "      <th>3</th>\n",
       "      <td>Ghana</td>\n",
       "      <td>GHA</td>\n",
       "      <td>202642794</td>\n",
       "      <td>0.868177</td>\n",
       "      <td>Male</td>\n",
       "      <td>99+</td>\n",
       "      <td>secondary</td>\n",
       "      <td>Fourth 20%</td>\n",
       "      <td>out of workforce</td>\n",
       "      <td>yes</td>\n",
       "      <td>...</td>\n",
       "      <td>Main source: Borrowing from a bank, empoyer, o...</td>\n",
       "      <td>4</td>\n",
       "      <td>4</td>\n",
       "      <td>4</td>\n",
       "      <td>4</td>\n",
       "      <td>2</td>\n",
       "      <td>no/dk/ref</td>\n",
       "      <td>NaN</td>\n",
       "      <td>no/dk/ref</td>\n",
       "      <td>NaN</td>\n",
       "    </tr>\n",
       "    <tr>\n",
       "      <th>4</th>\n",
       "      <td>Ghana</td>\n",
       "      <td>GHA</td>\n",
       "      <td>122316458</td>\n",
       "      <td>0.379809</td>\n",
       "      <td>Male</td>\n",
       "      <td>25</td>\n",
       "      <td>completed primary or less</td>\n",
       "      <td>Richest 20%</td>\n",
       "      <td>in workforce</td>\n",
       "      <td>no</td>\n",
       "      <td>...</td>\n",
       "      <td>Main source: Borrowing from a bank, empoyer, o...</td>\n",
       "      <td>4</td>\n",
       "      <td>4</td>\n",
       "      <td>4</td>\n",
       "      <td>4</td>\n",
       "      <td>5</td>\n",
       "      <td>no/dk/ref</td>\n",
       "      <td>NaN</td>\n",
       "      <td>no/dk/ref</td>\n",
       "      <td>NaN</td>\n",
       "    </tr>\n",
       "  </tbody>\n",
       "</table>\n",
       "<p>5 rows × 103 columns</p>\n",
       "</div>"
      ],
      "text/plain": [
       "  economy economycode  wpid_random       wgt  female  age  \\\n",
       "0   Ghana         GHA    178454504  1.010208  Female   34   \n",
       "1   Ghana         GHA    199057110  0.861258    Male   58   \n",
       "2   Ghana         GHA    201173361  0.412885    Male   30   \n",
       "3   Ghana         GHA    202642794  0.868177    Male  99+   \n",
       "4   Ghana         GHA    122316458  0.379809    Male   25   \n",
       "\n",
       "                        educ        inc_q            emp_in fin2  ...  \\\n",
       "0                  secondary   Middle 20%  out of workforce   no  ...   \n",
       "1                  secondary   Second 20%      in workforce   no  ...   \n",
       "2  completed primary or less  Poorest 20%      in workforce   no  ...   \n",
       "3                  secondary   Fourth 20%  out of workforce  yes  ...   \n",
       "4  completed primary or less  Richest 20%      in workforce   no  ...   \n",
       "\n",
       "                                       receive_wages receive_transfers  \\\n",
       "0  Main source: Borrowing from a bank, empoyer, o...                 4   \n",
       "1  Main source: Borrowing from a bank, empoyer, o...                 4   \n",
       "2                        Main source: Selling assets                 1   \n",
       "3  Main source: Borrowing from a bank, empoyer, o...                 4   \n",
       "4  Main source: Borrowing from a bank, empoyer, o...                 4   \n",
       "\n",
       "  receive_pension receive_agriculture pay_utilities remittances  pay_onlne  \\\n",
       "0               4                   4             4           1  no/dk/ref   \n",
       "1               4                   1             2           5  no/dk/ref   \n",
       "2               5                   4             5           2  no/dk/ref   \n",
       "3               4                   4             4           2  no/dk/ref   \n",
       "4               4                   4             4           5  no/dk/ref   \n",
       "\n",
       "  pay_onlne_mobintbuy   pay_cash pay_cash_mobintbuy  \n",
       "0                 NaN  no/dk/ref                NaN  \n",
       "1                 NaN  no/dk/ref                NaN  \n",
       "2                 NaN  no/dk/ref                NaN  \n",
       "3                 NaN  no/dk/ref                NaN  \n",
       "4                 NaN  no/dk/ref                NaN  \n",
       "\n",
       "[5 rows x 103 columns]"
      ]
     },
     "execution_count": 3,
     "metadata": {},
     "output_type": "execute_result"
    }
   ],
   "source": [
    "df.head()"
   ]
  },
  {
   "cell_type": "code",
   "execution_count": 4,
   "metadata": {},
   "outputs": [],
   "source": [
    "df2 = df[['female', 'age', 'educ', 'inc_q', 'emp_in', 'fin9']]"
   ]
  },
  {
   "cell_type": "code",
   "execution_count": 5,
   "metadata": {},
   "outputs": [
    {
     "data": {
      "text/html": [
       "<div>\n",
       "<style scoped>\n",
       "    .dataframe tbody tr th:only-of-type {\n",
       "        vertical-align: middle;\n",
       "    }\n",
       "\n",
       "    .dataframe tbody tr th {\n",
       "        vertical-align: top;\n",
       "    }\n",
       "\n",
       "    .dataframe thead th {\n",
       "        text-align: right;\n",
       "    }\n",
       "</style>\n",
       "<table border=\"1\" class=\"dataframe\">\n",
       "  <thead>\n",
       "    <tr style=\"text-align: right;\">\n",
       "      <th></th>\n",
       "      <th>female</th>\n",
       "      <th>age</th>\n",
       "      <th>educ</th>\n",
       "      <th>inc_q</th>\n",
       "      <th>emp_in</th>\n",
       "      <th>fin9</th>\n",
       "    </tr>\n",
       "  </thead>\n",
       "  <tbody>\n",
       "    <tr>\n",
       "      <th>0</th>\n",
       "      <td>Female</td>\n",
       "      <td>34</td>\n",
       "      <td>secondary</td>\n",
       "      <td>Middle 20%</td>\n",
       "      <td>out of workforce</td>\n",
       "      <td>no</td>\n",
       "    </tr>\n",
       "    <tr>\n",
       "      <th>1</th>\n",
       "      <td>Male</td>\n",
       "      <td>58</td>\n",
       "      <td>secondary</td>\n",
       "      <td>Second 20%</td>\n",
       "      <td>in workforce</td>\n",
       "      <td>NaN</td>\n",
       "    </tr>\n",
       "    <tr>\n",
       "      <th>2</th>\n",
       "      <td>Male</td>\n",
       "      <td>30</td>\n",
       "      <td>completed primary or less</td>\n",
       "      <td>Poorest 20%</td>\n",
       "      <td>in workforce</td>\n",
       "      <td>NaN</td>\n",
       "    </tr>\n",
       "    <tr>\n",
       "      <th>3</th>\n",
       "      <td>Male</td>\n",
       "      <td>99+</td>\n",
       "      <td>secondary</td>\n",
       "      <td>Fourth 20%</td>\n",
       "      <td>out of workforce</td>\n",
       "      <td>no</td>\n",
       "    </tr>\n",
       "    <tr>\n",
       "      <th>4</th>\n",
       "      <td>Male</td>\n",
       "      <td>25</td>\n",
       "      <td>completed primary or less</td>\n",
       "      <td>Richest 20%</td>\n",
       "      <td>in workforce</td>\n",
       "      <td>NaN</td>\n",
       "    </tr>\n",
       "  </tbody>\n",
       "</table>\n",
       "</div>"
      ],
      "text/plain": [
       "   female  age                       educ        inc_q            emp_in fin9\n",
       "0  Female   34                  secondary   Middle 20%  out of workforce   no\n",
       "1    Male   58                  secondary   Second 20%      in workforce  NaN\n",
       "2    Male   30  completed primary or less  Poorest 20%      in workforce  NaN\n",
       "3    Male  99+                  secondary   Fourth 20%  out of workforce   no\n",
       "4    Male   25  completed primary or less  Richest 20%      in workforce  NaN"
      ]
     },
     "execution_count": 5,
     "metadata": {},
     "output_type": "execute_result"
    }
   ],
   "source": [
    "df2.head()"
   ]
  },
  {
   "cell_type": "code",
   "execution_count": 6,
   "metadata": {},
   "outputs": [
    {
     "name": "stdout",
     "output_type": "stream",
     "text": [
      "<class 'pandas.core.frame.DataFrame'>\n",
      "RangeIndex: 1000 entries, 0 to 999\n",
      "Data columns (total 6 columns):\n",
      " #   Column  Non-Null Count  Dtype \n",
      "---  ------  --------------  ----- \n",
      " 0   female  1000 non-null   object\n",
      " 1   age     980 non-null    object\n",
      " 2   educ    1000 non-null   object\n",
      " 3   inc_q   1000 non-null   object\n",
      " 4   emp_in  1000 non-null   object\n",
      " 5   fin9    410 non-null    object\n",
      "dtypes: object(6)\n",
      "memory usage: 47.0+ KB\n"
     ]
    }
   ],
   "source": [
    "df2.info()"
   ]
  },
  {
   "cell_type": "code",
   "execution_count": 7,
   "metadata": {},
   "outputs": [
    {
     "data": {
      "text/plain": [
       "female      0\n",
       "age        20\n",
       "educ        0\n",
       "inc_q       0\n",
       "emp_in      0\n",
       "fin9      590\n",
       "dtype: int64"
      ]
     },
     "execution_count": 7,
     "metadata": {},
     "output_type": "execute_result"
    }
   ],
   "source": [
    "df2.isna().sum()"
   ]
  },
  {
   "cell_type": "markdown",
   "metadata": {},
   "source": [
    "## Descriptive Statistics"
   ]
  },
  {
   "cell_type": "markdown",
   "metadata": {},
   "source": [
    "### Distribution by gender"
   ]
  },
  {
   "cell_type": "code",
   "execution_count": 13,
   "metadata": {},
   "outputs": [
    {
     "data": {
      "text/plain": [
       "<AxesSubplot:xlabel='fin9', ylabel='count'>"
      ]
     },
     "execution_count": 13,
     "metadata": {},
     "output_type": "execute_result"
    },
    {
     "data": {
      "image/png": "[encoded data removed]",
      "text/plain": [
       "<Figure size 432x288 with 1 Axes>"
      ]
     },
     "metadata": {},
     "output_type": "display_data"
    }
   ],
   "source": [
    "sns.countplot(data=df2, x='fin9')"
   ]
  },
  {
   "cell_type": "code",
   "execution_count": 8,
   "metadata": {},
   "outputs": [
    {
     "data": {
      "text/plain": [
       "<AxesSubplot:xlabel='fin9', ylabel='count'>"
      ]
     },
     "execution_count": 8,
     "metadata": {},
     "output_type": "execute_result"
    },
    {
     "data": {
      "image/png": "[encoded data removed]",
      "text/plain": [
       "<Figure size 432x288 with 1 Axes>"
      ]
     },
     "metadata": {},
     "output_type": "display_data"
    }
   ],
   "source": [
    "sns.countplot(data=df2, hue='female', x='fin9')"
   ]
  },
  {
   "cell_type": "markdown",
   "metadata": {},
   "source": [
    "### Distribution by Employment status"
   ]
  },
  {
   "cell_type": "code",
   "execution_count": 9,
   "metadata": {},
   "outputs": [
    {
     "data": {
      "text/plain": [
       "<AxesSubplot:xlabel='fin9', ylabel='count'>"
      ]
     },
     "execution_count": 9,
     "metadata": {},
     "output_type": "execute_result"
    },
    {
     "data": {
      "image/png": "[encoded data removed]",
      "text/plain": [
       "<Figure size 432x288 with 1 Axes>"
      ]
     },
     "metadata": {},
     "output_type": "display_data"
    }
   ],
   "source": [
    "sns.countplot(data=df2, hue='emp_in', x='fin9')"
   ]
  },
  {
   "cell_type": "markdown",
   "metadata": {},
   "source": [
    "### Distribution by income quatile"
   ]
  },
  {
   "cell_type": "code",
   "execution_count": 10,
   "metadata": {},
   "outputs": [
    {
     "data": {
      "text/plain": [
       "<AxesSubplot:xlabel='fin9', ylabel='count'>"
      ]
     },
     "execution_count": 10,
     "metadata": {},
     "output_type": "execute_result"
    },
    {
     "data": {
      "image/png": "[encoded data removed]",
      "text/plain": [
       "<Figure size 432x288 with 1 Axes>"
      ]
     },
     "metadata": {},
     "output_type": "display_data"
    }
   ],
   "source": [
    "sns.countplot(data=df2, hue='inc_q', x='fin9')"
   ]
  },
  {
   "cell_type": "markdown",
   "metadata": {},
   "source": [
    "### Education level"
   ]
  },
  {
   "cell_type": "code",
   "execution_count": 11,
   "metadata": {},
   "outputs": [
    {
     "data": {
      "text/plain": [
       "<AxesSubplot:xlabel='count', ylabel='educ'>"
      ]
     },
     "execution_count": 11,
     "metadata": {},
     "output_type": "execute_result"
    },
    {
     "data": {
      "image/png": "[encoded data removed]",
      "text/plain": [
       "<Figure size 432x288 with 1 Axes>"
      ]
     },
     "metadata": {},
     "output_type": "display_data"
    }
   ],
   "source": [
    "sns.countplot(data=df2, y='educ', hue='fin9')"
   ]
  },
  {
   "cell_type": "code",
   "execution_count": 12,
   "metadata": {},
   "outputs": [],
   "source": [
    "df2.to_csv('train.csv', index=False)"
   ]
  }
 ],
 "metadata": {
  "kernelspec": {
   "display_name": "Python 3",
   "language": "python",
   "name": "python3"
  },
  "language_info": {
   "codemirror_mode": {
    "name": "ipython",
    "version": 3
   },
   "file_extension": ".py",
   "mimetype": "text/x-python",
   "name": "python",
   "nbconvert_exporter": "python",
   "pygments_lexer": "ipython3",
   "version": "3.8.5"
  }
 },
 "nbformat": 4,
 "nbformat_minor": 4
}
