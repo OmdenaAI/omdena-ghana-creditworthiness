{
 "cells": [
  {
   "cell_type": "code",
   "execution_count": 405,
   "metadata": {},
   "outputs": [],
   "source": [
    "import pandas as pd\n",
    "import pickle\n",
    "from statistics import mean\n",
    "import numpy as np\n",
    "from pathlib import Path\n",
    "\n",
    "# Output from Dawid's notebook (CIF_feat dataframe)\n",
    "# https://github.com/omdena/banking_unbanked/blob/feat-engineering/CIF_Clustering.ipynb\n",
    "CIF_df = pd.read_csv('../data/CIF_feat.csv')\n",
    "job_title = pd.read_excel('../data/JobTitle.xlsx',dtype={'CIF_NO':'Int64', 'job_title':str})\n",
    "\n",
    "# Faster loading of original transaction dataset\n",
    "if Path('../data/transaction.feather').is_file():\n",
    "    transaction_df = pd.read_feather('../data/transaction.feather')\n",
    "else:\n",
    "    transaction_df = pd.read_excel('../data/TRANSACTION DATA OF BANK X_OCT DES 2019.xlsx')\n",
    "    transaction_df.to_feather('../data/transaction.feather')\n",
    "    \n",
    "# Numbeo Scraped Dataset\n",
    "with open('../data/region_dict.pickle', 'rb') as handle:\n",
    "    region_living = pickle.load(handle)\n",
    "with open('../data/area_dict.pickle', 'rb') as handle:\n",
    "    area_living = pickle.load(handle)\n",
    "    \n",
    "# Indeed Scraped Dataset\n",
    "with open('../data/scraped_jobs.pickle', 'rb') as handle:\n",
    "    results_list = pickle.load(handle)"
   ]
  },
  {
   "cell_type": "code",
   "execution_count": 406,
   "metadata": {},
   "outputs": [
    {
     "name": "stderr",
     "output_type": "stream",
     "text": [
      "C:\\Users\\Jun\\Anaconda3\\lib\\site-packages\\ipykernel_launcher.py:3: SettingWithCopyWarning: \n",
      "A value is trying to be set on a copy of a slice from a DataFrame.\n",
      "Try using .loc[row_indexer,col_indexer] = value instead\n",
      "\n",
      "See the caveats in the documentation: http://pandas.pydata.org/pandas-docs/stable/user_guide/indexing.html#returning-a-view-versus-a-copy\n",
      "  This is separate from the ipykernel package so we can avoid doing imports until\n"
     ]
    }
   ],
   "source": [
    "def remove_suffix(df_):\n",
    "    for col in df_:\n",
    "        df_[col] = df_[col].str.replace('(AREA|REGION)\\s','')\n",
    "    return df_\n",
    "\n",
    "transaction_df[['REGION_ACCOUNT', 'AREA_ACCOUNT']] = remove_suffix(transaction_df[['REGION_ACCOUNT', 'AREA_ACCOUNT']])"
   ]
  },
  {
   "cell_type": "code",
   "execution_count": 407,
   "metadata": {},
   "outputs": [],
   "source": [
    "# Get CIF_NO's Main account based on the highest transaction amount (Will be used for the Area/Region based salary)\n",
    "CIF_main_acct = transaction_df.sort_values(['CIF_NO','AMT_TRX'], ascending=False).groupby('CIF_NO', as_index=False)['CIF_NO','AREA_ACCOUNT','AMT_TRX'].head(1)\n",
    "CIF_df = CIF_df.merge(CIF_main_acct[['CIF_NO','AREA_ACCOUNT']], on='CIF_NO',how='left')\n",
    "\n",
    "# Is_Religious based on voluntary religious contribution instead of obligatory zakat\n",
    "CIF_df['Is_Religious'] = np.where(CIF_df['INFAQ monthly_amount'] != 0, 1, 0)\n",
    "CIF_df['Is_Religious'].value_counts()\n",
    "\n",
    "# Is_Management based on management key words\n",
    "job_title['Is_Management'] = np.where(((job_title['Job Title'].str.contains('manager', case=False) == True)\\\n",
    "                                   | (job_title['Job Title'].str.contains('team leader', case=False) == True)\\\n",
    "                                   | (job_title['Job Title'].str.contains('head', case=False) == True))\\\n",
    "                                    , 1, 0)\n",
    "job_title = job_title[~job_title.CIF_NO.isna()]\n",
    "\n",
    "CIF_df = CIF_df.merge(job_title[['CIF_NO','Job Title','Is_Management']], on='CIF_NO',how='left')"
   ]
  },
  {
   "cell_type": "markdown",
   "metadata": {},
   "source": [
    "## Consolidate Salary Data (Indeed.com > AREA > REGIONAL)\n",
    "\n",
    "### Indeed Job Salary (Data Processing)"
   ]
  },
  {
   "cell_type": "code",
   "execution_count": 408,
   "metadata": {},
   "outputs": [
    {
     "data": {
      "text/html": [
       "<div>\n",
       "<style scoped>\n",
       "    .dataframe tbody tr th:only-of-type {\n",
       "        vertical-align: middle;\n",
       "    }\n",
       "\n",
       "    .dataframe tbody tr th {\n",
       "        vertical-align: top;\n",
       "    }\n",
       "\n",
       "    .dataframe thead th {\n",
       "        text-align: right;\n",
       "    }\n",
       "</style>\n",
       "<table border=\"1\" class=\"dataframe\">\n",
       "  <thead>\n",
       "    <tr style=\"text-align: right;\">\n",
       "      <th></th>\n",
       "      <th>Job Title</th>\n",
       "      <th>SALARY</th>\n",
       "    </tr>\n",
       "  </thead>\n",
       "  <tbody>\n",
       "    <tr>\n",
       "      <td>0</td>\n",
       "      <td>Account Maintenance Staff</td>\n",
       "      <td>2.750000e+06</td>\n",
       "    </tr>\n",
       "    <tr>\n",
       "      <td>7</td>\n",
       "      <td>Consumer Administration Staff</td>\n",
       "      <td>3.375000e+06</td>\n",
       "    </tr>\n",
       "    <tr>\n",
       "      <td>8</td>\n",
       "      <td>Customer Service</td>\n",
       "      <td>3.492155e+06</td>\n",
       "    </tr>\n",
       "    <tr>\n",
       "      <td>10</td>\n",
       "      <td>Teller</td>\n",
       "      <td>4.233108e+06</td>\n",
       "    </tr>\n",
       "    <tr>\n",
       "      <td>9</td>\n",
       "      <td>General Support Staff</td>\n",
       "      <td>4.450000e+06</td>\n",
       "    </tr>\n",
       "    <tr>\n",
       "      <td>6</td>\n",
       "      <td>Business Banking Staff</td>\n",
       "      <td>4.668750e+06</td>\n",
       "    </tr>\n",
       "    <tr>\n",
       "      <td>2</td>\n",
       "      <td>Back Office</td>\n",
       "      <td>6.285000e+06</td>\n",
       "    </tr>\n",
       "    <tr>\n",
       "      <td>1</td>\n",
       "      <td>Area Manager</td>\n",
       "      <td>7.366667e+06</td>\n",
       "    </tr>\n",
       "    <tr>\n",
       "      <td>3</td>\n",
       "      <td>Branch Manager</td>\n",
       "      <td>7.562500e+06</td>\n",
       "    </tr>\n",
       "    <tr>\n",
       "      <td>4</td>\n",
       "      <td>Branch Operations &amp; Service Manager</td>\n",
       "      <td>8.000000e+06</td>\n",
       "    </tr>\n",
       "    <tr>\n",
       "      <td>5</td>\n",
       "      <td>Business Banking Relationship Manager</td>\n",
       "      <td>1.006250e+07</td>\n",
       "    </tr>\n",
       "  </tbody>\n",
       "</table>\n",
       "</div>"
      ],
      "text/plain": [
       "                                Job Title        SALARY\n",
       "0               Account Maintenance Staff  2.750000e+06\n",
       "7           Consumer Administration Staff  3.375000e+06\n",
       "8                        Customer Service  3.492155e+06\n",
       "10                                 Teller  4.233108e+06\n",
       "9                   General Support Staff  4.450000e+06\n",
       "6                  Business Banking Staff  4.668750e+06\n",
       "2                             Back Office  6.285000e+06\n",
       "1                            Area Manager  7.366667e+06\n",
       "3                          Branch Manager  7.562500e+06\n",
       "4     Branch Operations & Service Manager  8.000000e+06\n",
       "5   Business Banking Relationship Manager  1.006250e+07"
      ]
     },
     "execution_count": 408,
     "metadata": {},
     "output_type": "execute_result"
    }
   ],
   "source": [
    "indeed_df = pd.DataFrame(results_list, columns=['QUERY','TITLE','COMPANY','LOCATION','SALARY']).drop_duplicates()\n",
    "indeed_df = indeed_df[indeed_df.SALARY != '']\n",
    "indeed_df.SALARY = indeed_df.SALARY.apply(lambda x: x.replace(' per bulan)','').replace(' ','').replace('Rp.','').replace('perbulan','').replace('.','').split('-'))\n",
    "indeed_df['SALARY_MAX'] = indeed_df.SALARY.apply(lambda x: max([float(i) for i in x]))\n",
    "indeed_df['SALARY_MIN'] = indeed_df.SALARY.apply(lambda x: min([float(i) for i in x]))\n",
    "indeed_df['SALARY'] = indeed_df.SALARY.apply(lambda x: mean([float(i) for i in x]))\n",
    "\n",
    "# # Ouput file for manual cleaning of job scraped\n",
    "# results_df.to_csv('../data/temp_results_df.csv')\n",
    "\n",
    "# Manually filtered\n",
    "indeed_df = pd.read_csv('../data/temp_results_df.csv')[['QUERY','TITLE3','SALARY','SALARY_MAX','SALARY_MIN']]\n",
    "indeed_df = indeed_df[indeed_df.TITLE3 != '0']\n",
    "indeed_df = indeed_df[['TITLE3','SALARY','SALARY_MAX','SALARY_MIN']].rename(columns={'TITLE3':'Job Title'})\n",
    "indeed_df = indeed_df.groupby('Job Title', as_index=False)['SALARY'].mean().sort_values('SALARY')\n",
    "indeed_df"
   ]
  },
  {
   "cell_type": "markdown",
   "metadata": {},
   "source": [
    "__Individual Income Tax__\n",
    "\n",
    "Ref: https://www.indonesia-investments.com/finance/tax-system/item277"
   ]
  },
  {
   "cell_type": "code",
   "execution_count": 422,
   "metadata": {},
   "outputs": [],
   "source": [
    "def deduct_income_tax(salary):\n",
    "    if salary * 12 < 50000000:\n",
    "        income_tax = 0.05\n",
    "    elif salary * 12 < 250000000:\n",
    "        income_tax = 0.15\n",
    "    elif salary * 12 < 500000000:\n",
    "        income_tax = 0.25\n",
    "    else:\n",
    "        income_tax = 0.30\n",
    "    return salary * (1-income_tax)"
   ]
  },
  {
   "cell_type": "code",
   "execution_count": 424,
   "metadata": {},
   "outputs": [],
   "source": [
    "indeed_df.SALARY = indeed_df.SALARY.apply(deduct_income_tax)"
   ]
  },
  {
   "cell_type": "code",
   "execution_count": 409,
   "metadata": {},
   "outputs": [],
   "source": [
    "CIF_df = CIF_df.merge(indeed_df, on='Job Title', how='left')"
   ]
  },
  {
   "cell_type": "markdown",
   "metadata": {},
   "source": [
    "### AREA/REGION Salary (Data Processing)\n",
    "Ref: https://www.numbeo.com/property-investment/\n",
    "\n",
    "Notebook: https://github.com/omdena/banking_unbanked/blob/master/code/ScrapeCostOfLiving.ipynb"
   ]
  },
  {
   "cell_type": "code",
   "execution_count": 411,
   "metadata": {},
   "outputs": [
    {
     "name": "stderr",
     "output_type": "stream",
     "text": [
      "C:\\Users\\Jun\\Anaconda3\\lib\\site-packages\\ipykernel_launcher.py:3: SettingWithCopyWarning: \n",
      "A value is trying to be set on a copy of a slice from a DataFrame.\n",
      "Try using .loc[row_indexer,col_indexer] = value instead\n",
      "\n",
      "See the caveats in the documentation: http://pandas.pydata.org/pandas-docs/stable/user_guide/indexing.html#returning-a-view-versus-a-copy\n",
      "  This is separate from the ipykernel package so we can avoid doing imports until\n"
     ]
    },
    {
     "data": {
      "text/html": [
       "<div>\n",
       "<style scoped>\n",
       "    .dataframe tbody tr th:only-of-type {\n",
       "        vertical-align: middle;\n",
       "    }\n",
       "\n",
       "    .dataframe tbody tr th {\n",
       "        vertical-align: top;\n",
       "    }\n",
       "\n",
       "    .dataframe thead th {\n",
       "        text-align: right;\n",
       "    }\n",
       "</style>\n",
       "<table border=\"1\" class=\"dataframe\">\n",
       "  <thead>\n",
       "    <tr style=\"text-align: right;\">\n",
       "      <th></th>\n",
       "      <th>REGION_ACCOUNT</th>\n",
       "      <th>AREA_ACCOUNT</th>\n",
       "    </tr>\n",
       "  </thead>\n",
       "  <tbody>\n",
       "    <tr>\n",
       "      <td>251</td>\n",
       "      <td>I/ MEDAN</td>\n",
       "      <td>ACEH</td>\n",
       "    </tr>\n",
       "    <tr>\n",
       "      <td>225</td>\n",
       "      <td>I/ MEDAN</td>\n",
       "      <td>MEDAN RAYA</td>\n",
       "    </tr>\n",
       "    <tr>\n",
       "      <td>51</td>\n",
       "      <td>I/ MEDAN</td>\n",
       "      <td>MEDAN KOTA</td>\n",
       "    </tr>\n",
       "    <tr>\n",
       "      <td>422</td>\n",
       "      <td>I/ MEDAN</td>\n",
       "      <td>BATAM</td>\n",
       "    </tr>\n",
       "    <tr>\n",
       "      <td>682</td>\n",
       "      <td>I/ MEDAN</td>\n",
       "      <td>PEMATANGSIANTAR</td>\n",
       "    </tr>\n",
       "  </tbody>\n",
       "</table>\n",
       "</div>"
      ],
      "text/plain": [
       "    REGION_ACCOUNT     AREA_ACCOUNT\n",
       "251       I/ MEDAN             ACEH\n",
       "225       I/ MEDAN       MEDAN RAYA\n",
       "51        I/ MEDAN       MEDAN KOTA\n",
       "422       I/ MEDAN            BATAM\n",
       "682       I/ MEDAN  PEMATANGSIANTAR"
      ]
     },
     "execution_count": 411,
     "metadata": {},
     "output_type": "execute_result"
    }
   ],
   "source": [
    "def remove_suffix(df):\n",
    "    for col in df:\n",
    "        df[col] = df[col].str.replace('(AREA|REGION)\\s','')\n",
    "    return df\n",
    "transaction_df[['REGION_ACCOUNT', 'AREA_ACCOUNT']] = remove_suffix(transaction_df[['REGION_ACCOUNT', 'AREA_ACCOUNT']])\n",
    "\n",
    "region_area_map = transaction_df[['REGION_ACCOUNT', 'AREA_ACCOUNT']].drop_duplicates().sort_values('REGION_ACCOUNT')\n",
    "region_area_map.head()"
   ]
  },
  {
   "cell_type": "code",
   "execution_count": 412,
   "metadata": {},
   "outputs": [],
   "source": [
    "region_df = pd.DataFrame.from_dict(region_living).transpose().reset_index(drop=False).rename(columns={'index':'REGION_ACCOUNT'})\n",
    "area_df = pd.DataFrame.from_dict(area_living).transpose().reset_index(drop=False).rename(columns={'index':'AREA_ACCOUNT'})\n",
    "\n",
    "for dataframe in [region_df, area_df]:\n",
    "    for col in dataframe:\n",
    "        if 'ACCOUNT' not in col:\n",
    "            dataframe[col] = dataframe[col].str[0].replace('?',np.nan).str.replace(',','').astype(float)"
   ]
  },
  {
   "cell_type": "code",
   "execution_count": 413,
   "metadata": {},
   "outputs": [],
   "source": [
    "selected_cols = ['REGION_ACCOUNT',\n",
    "                 'AREA_ACCOUNT',\n",
    "                 'Average Monthly Net Salary (After Tax)_REGION',\n",
    "                 'Average Monthly Net Salary (After Tax)_AREA',\n",
    "                 'Apartment (3 bedrooms) in City Centre_REGION',\n",
    "                 'Apartment (3 bedrooms) in City Centre_AREA',\n",
    "                 'Apartment (3 bedrooms) Outside of Centre_REGION',\n",
    "                 'Apartment (3 bedrooms) Outside of Centre_AREA']\n",
    "\n",
    "renamed_cols = ['REGION_ACCOUNT',\n",
    "                'AREA_ACCOUNT',\n",
    "                'NET_SALARY_REGION',\n",
    "                'NET_SALARY_AREA',\n",
    "                'RENTAL_CENTRE_REGION',\n",
    "                'RENTAL_CENTRE_AREA',\n",
    "                'RENTAL_OUTSIDE_REGION',\n",
    "                'RENTAL_OUTSIDE_AREA']"
   ]
  },
  {
   "cell_type": "code",
   "execution_count": 414,
   "metadata": {},
   "outputs": [],
   "source": [
    "location_df = region_area_map.merge(region_df, on='REGION_ACCOUNT',how='left').merge(area_df, on='AREA_ACCOUNT', how='left', suffixes=('_REGION','_AREA'))\n",
    "location_df = location_df[selected_cols]\n",
    "location_df.columns = renamed_cols\n",
    "\n",
    "location_df['NET_SALARY_AREA'].fillna(location_df['NET_SALARY_REGION'], inplace=True)\n",
    "\n",
    "location_df['RENTAL_CENTRE_AREA'].fillna(location_df['RENTAL_CENTRE_REGION'], inplace=True)\n",
    "location_df['RENTAL_OUTSIDE_AREA'].fillna(location_df['RENTAL_OUTSIDE_REGION'], inplace=True)\n",
    "\n",
    "# Replace NA with interpolation done on Salary\n",
    "location_df.set_index('NET_SALARY_AREA', inplace=True)\n",
    "for col in location_df:\n",
    "    if ('ACCOUNT' not in col) & (location_df[col].isna().sum() > 0):\n",
    "        location_df[col] = location_df[col].interpolate(method='index').ffill().bfill()\n",
    "location_df.reset_index(drop=False, inplace=True)"
   ]
  },
  {
   "cell_type": "code",
   "execution_count": 415,
   "metadata": {},
   "outputs": [],
   "source": [
    "# Replace NA with interpolation done on Salary\n",
    "location_df.set_index('NET_SALARY_AREA', inplace=True)\n",
    "for col in location_df:\n",
    "    if ('ACCOUNT' not in col) & (location_df[col].isna().sum() > 0):\n",
    "        location_df[col] = location_df[col].interpolate(method='index').ffill().bfill()\n",
    "location_df.reset_index(drop=False, inplace=True)"
   ]
  },
  {
   "cell_type": "code",
   "execution_count": 425,
   "metadata": {},
   "outputs": [
    {
     "data": {
      "text/html": [
       "<div>\n",
       "<style scoped>\n",
       "    .dataframe tbody tr th:only-of-type {\n",
       "        vertical-align: middle;\n",
       "    }\n",
       "\n",
       "    .dataframe tbody tr th {\n",
       "        vertical-align: top;\n",
       "    }\n",
       "\n",
       "    .dataframe thead th {\n",
       "        text-align: right;\n",
       "    }\n",
       "</style>\n",
       "<table border=\"1\" class=\"dataframe\">\n",
       "  <thead>\n",
       "    <tr style=\"text-align: right;\">\n",
       "      <th></th>\n",
       "      <th>CIF_NO</th>\n",
       "      <th>SALARY</th>\n",
       "      <th>NET_SALARY_AREA</th>\n",
       "    </tr>\n",
       "  </thead>\n",
       "  <tbody>\n",
       "    <tr>\n",
       "      <td>0</td>\n",
       "      <td>73000006</td>\n",
       "      <td>NaN</td>\n",
       "      <td>2998000.00</td>\n",
       "    </tr>\n",
       "    <tr>\n",
       "      <td>1</td>\n",
       "      <td>73000011</td>\n",
       "      <td>NaN</td>\n",
       "      <td>2998000.00</td>\n",
       "    </tr>\n",
       "    <tr>\n",
       "      <td>2</td>\n",
       "      <td>73000022</td>\n",
       "      <td>NaN</td>\n",
       "      <td>6478482.39</td>\n",
       "    </tr>\n",
       "    <tr>\n",
       "      <td>3</td>\n",
       "      <td>73000041</td>\n",
       "      <td>NaN</td>\n",
       "      <td>6478482.39</td>\n",
       "    </tr>\n",
       "    <tr>\n",
       "      <td>4</td>\n",
       "      <td>73000042</td>\n",
       "      <td>7.366667e+06</td>\n",
       "      <td>6478482.39</td>\n",
       "    </tr>\n",
       "  </tbody>\n",
       "</table>\n",
       "</div>"
      ],
      "text/plain": [
       "     CIF_NO        SALARY  NET_SALARY_AREA\n",
       "0  73000006           NaN       2998000.00\n",
       "1  73000011           NaN       2998000.00\n",
       "2  73000022           NaN       6478482.39\n",
       "3  73000041           NaN       6478482.39\n",
       "4  73000042  7.366667e+06       6478482.39"
      ]
     },
     "execution_count": 425,
     "metadata": {},
     "output_type": "execute_result"
    }
   ],
   "source": [
    "CIF_df = CIF_df.merge(location_df, on='AREA_ACCOUNT', how='left')\n",
    "CIF_df[['CIF_NO','SALARY','NET_SALARY_AREA']].head()"
   ]
  },
  {
   "cell_type": "code",
   "execution_count": null,
   "metadata": {},
   "outputs": [],
   "source": []
  }
 ],
 "metadata": {
  "kernelspec": {
   "display_name": "Python 3",
   "language": "python",
   "name": "python3"
  },
  "language_info": {
   "codemirror_mode": {
    "name": "ipython",
    "version": 3
   },
   "file_extension": ".py",
   "mimetype": "text/x-python",
   "name": "python",
   "nbconvert_exporter": "python",
   "pygments_lexer": "ipython3",
   "version": "3.7.4"
  }
 },
 "nbformat": 4,
 "nbformat_minor": 4
}
