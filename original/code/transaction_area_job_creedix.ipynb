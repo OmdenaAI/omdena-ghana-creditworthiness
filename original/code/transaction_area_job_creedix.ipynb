{
  "nbformat": 4,
  "nbformat_minor": 0,
  "metadata": {
    "colab": {
      "name": "transaction_area_job_creedix.ipynb",
      "provenance": []
    },
    "kernelspec": {
      "name": "python3",
      "display_name": "Python 3"
    }
  },
  "cells": [
    {
      "cell_type": "code",
      "metadata": {
        "id": "DvwFDK-6h1V_",
        "colab_type": "code",
        "colab": {}
      },
      "source": [
        "from google.colab import drive"
      ],
      "execution_count": 0,
      "outputs": []
    },
    {
      "cell_type": "code",
      "metadata": {
        "id": "980YUpn6h9N-",
        "colab_type": "code",
        "outputId": "c5c7b7f6-133e-40dd-a201-22f3e7c07d09",
        "colab": {
          "base_uri": "https://localhost:8080/",
          "height": 122
        }
      },
      "source": [
        "drive.mount('/content/gdrive')"
      ],
      "execution_count": 2,
      "outputs": [
        {
          "output_type": "stream",
          "text": [
            "Go to this URL in a browser: https://accounts.google.com/o/oauth2/auth?client_id=947318989803-6bn6qk8qdgf4n4g3pfee6491hc0brc4i.apps.googleusercontent.com&redirect_uri=urn%3aietf%3awg%3aoauth%3a2.0%3aoob&response_type=code&scope=email%20https%3a%2f%2fwww.googleapis.com%2fauth%2fdocs.test%20https%3a%2f%2fwww.googleapis.com%2fauth%2fdrive%20https%3a%2f%2fwww.googleapis.com%2fauth%2fdrive.photos.readonly%20https%3a%2f%2fwww.googleapis.com%2fauth%2fpeopleapi.readonly\n",
            "\n",
            "Enter your authorization code:\n",
            "··········\n",
            "Mounted at /content/gdrive\n"
          ],
          "name": "stdout"
        }
      ]
    },
    {
      "cell_type": "code",
      "metadata": {
        "id": "E5J4o8IouuYi",
        "colab_type": "code",
        "outputId": "0f83b5a4-ab0c-47fa-fbbb-cc5f8407436d",
        "colab": {
          "base_uri": "https://localhost:8080/",
          "height": 119
        }
      },
      "source": [
        "!ls \"/content/gdrive/My Drive/Omdena Creedix/data\""
      ],
      "execution_count": 3,
      "outputs": [
        {
          "output_type": "stream",
          "text": [
            " area_income.ipynb\t   'PDB All Provinces.xlsx'\n",
            "'CUSTOMER BANK X.xlsx'\t   'REGION vs AREA.xlsx'\n",
            " Job_Title.csv\t\t    testing_percapitaincome.ipynb\n",
            " job_titles.ipynb\t    transaction_creedix.ipynb\n",
            " PDB_All_Provinces.csv\t    transaction_data.csv\n",
            " PDB_All_Provinces.gsheet   transactions.xlsx\n"
          ],
          "name": "stdout"
        }
      ]
    },
    {
      "cell_type": "code",
      "metadata": {
        "id": "RyZ7GaAqh_Gd",
        "colab_type": "code",
        "colab": {}
      },
      "source": [
        "import pandas as pd\n",
        "import matplotlib.pyplot as plt\n",
        "import seaborn as sns\n",
        "import numpy as np"
      ],
      "execution_count": 0,
      "outputs": []
    },
    {
      "cell_type": "code",
      "metadata": {
        "id": "j9jI1pV2iDkx",
        "colab_type": "code",
        "colab": {}
      },
      "source": [
        "per_capita_income_data = '/content/gdrive/My Drive/Omdena Creedix/data/PDB_All_Provinces.csv'"
      ],
      "execution_count": 0,
      "outputs": []
    },
    {
      "cell_type": "code",
      "metadata": {
        "id": "VzJrcu1_iF4R",
        "colab_type": "code",
        "colab": {}
      },
      "source": [
        "data = pd.read_csv(per_capita_income_data,names= ['1997','1998','1999','2000','2001','2002','2003','2004','2005','2006','2007','2008','2009','2010','2011','2012','2013','2014','2015','2016'])"
      ],
      "execution_count": 0,
      "outputs": []
    },
    {
      "cell_type": "code",
      "metadata": {
        "id": "5-u_RuAgiIYB",
        "colab_type": "code",
        "outputId": "2bb98671-e021-4263-e29d-519e356f2400",
        "colab": {
          "base_uri": "https://localhost:8080/",
          "height": 204
        }
      },
      "source": [
        "data = data.dropna()\n",
        "data = data.drop(data.index[0])\n",
        "data.head()"
      ],
      "execution_count": 7,
      "outputs": [
        {
          "output_type": "execute_result",
          "data": {
            "text/html": [
              "<div>\n",
              "<style scoped>\n",
              "    .dataframe tbody tr th:only-of-type {\n",
              "        vertical-align: middle;\n",
              "    }\n",
              "\n",
              "    .dataframe tbody tr th {\n",
              "        vertical-align: top;\n",
              "    }\n",
              "\n",
              "    .dataframe thead th {\n",
              "        text-align: right;\n",
              "    }\n",
              "</style>\n",
              "<table border=\"1\" class=\"dataframe\">\n",
              "  <thead>\n",
              "    <tr style=\"text-align: right;\">\n",
              "      <th></th>\n",
              "      <th>1997</th>\n",
              "      <th>1998</th>\n",
              "      <th>1999</th>\n",
              "      <th>2000</th>\n",
              "      <th>2001</th>\n",
              "      <th>2002</th>\n",
              "      <th>2003</th>\n",
              "      <th>2004</th>\n",
              "      <th>2005</th>\n",
              "      <th>2006</th>\n",
              "      <th>2007</th>\n",
              "      <th>2008</th>\n",
              "      <th>2009</th>\n",
              "      <th>2010</th>\n",
              "      <th>2011</th>\n",
              "      <th>2012</th>\n",
              "      <th>2013</th>\n",
              "      <th>2014</th>\n",
              "      <th>2015</th>\n",
              "      <th>2016</th>\n",
              "    </tr>\n",
              "  </thead>\n",
              "  <tbody>\n",
              "    <tr>\n",
              "      <th>ACEH</th>\n",
              "      <td>128000</td>\n",
              "      <td>147000</td>\n",
              "      <td>171000</td>\n",
              "      <td>265000</td>\n",
              "      <td>300000</td>\n",
              "      <td>330000</td>\n",
              "      <td>425000</td>\n",
              "      <td>550000</td>\n",
              "      <td>620000</td>\n",
              "      <td>820000</td>\n",
              "      <td>850000</td>\n",
              "      <td>1000000</td>\n",
              "      <td>1200000</td>\n",
              "      <td>1300000</td>\n",
              "      <td>1350000</td>\n",
              "      <td>1400000</td>\n",
              "      <td>1550000</td>\n",
              "      <td>1750000</td>\n",
              "      <td>1900000.0</td>\n",
              "      <td>2118500</td>\n",
              "    </tr>\n",
              "    <tr>\n",
              "      <th>SUMATERA UTARA</th>\n",
              "      <td>151000</td>\n",
              "      <td>174000</td>\n",
              "      <td>210000</td>\n",
              "      <td>254000</td>\n",
              "      <td>340500</td>\n",
              "      <td>464000</td>\n",
              "      <td>505000</td>\n",
              "      <td>537000</td>\n",
              "      <td>600000</td>\n",
              "      <td>737794</td>\n",
              "      <td>761000</td>\n",
              "      <td>822205</td>\n",
              "      <td>905000</td>\n",
              "      <td>965000</td>\n",
              "      <td>1035500</td>\n",
              "      <td>1200000</td>\n",
              "      <td>1375000</td>\n",
              "      <td>1505850</td>\n",
              "      <td>1625000.0</td>\n",
              "      <td>1811875</td>\n",
              "    </tr>\n",
              "    <tr>\n",
              "      <th>SUMATERA BARAT</th>\n",
              "      <td>119000</td>\n",
              "      <td>137000</td>\n",
              "      <td>160000</td>\n",
              "      <td>200000</td>\n",
              "      <td>250000</td>\n",
              "      <td>385000</td>\n",
              "      <td>435000</td>\n",
              "      <td>480000</td>\n",
              "      <td>540000</td>\n",
              "      <td>650000</td>\n",
              "      <td>725000</td>\n",
              "      <td>800000</td>\n",
              "      <td>880000</td>\n",
              "      <td>940000</td>\n",
              "      <td>1055000</td>\n",
              "      <td>1150000</td>\n",
              "      <td>1350000</td>\n",
              "      <td>1490000</td>\n",
              "      <td>1615000.0</td>\n",
              "      <td>1800725</td>\n",
              "    </tr>\n",
              "    <tr>\n",
              "      <th>RIAU</th>\n",
              "      <td>151500</td>\n",
              "      <td>174000</td>\n",
              "      <td>218000</td>\n",
              "      <td>250700</td>\n",
              "      <td>329000</td>\n",
              "      <td>394000</td>\n",
              "      <td>437500</td>\n",
              "      <td>476900</td>\n",
              "      <td>551500</td>\n",
              "      <td>637000</td>\n",
              "      <td>710000</td>\n",
              "      <td>800000</td>\n",
              "      <td>901600</td>\n",
              "      <td>1016000</td>\n",
              "      <td>1120000</td>\n",
              "      <td>1238000</td>\n",
              "      <td>1400000</td>\n",
              "      <td>1700000</td>\n",
              "      <td>1878000.0</td>\n",
              "      <td>2095000</td>\n",
              "    </tr>\n",
              "    <tr>\n",
              "      <th>JAMBI</th>\n",
              "      <td>119500</td>\n",
              "      <td>137500</td>\n",
              "      <td>150000</td>\n",
              "      <td>173000</td>\n",
              "      <td>245000</td>\n",
              "      <td>304000</td>\n",
              "      <td>390000</td>\n",
              "      <td>425000</td>\n",
              "      <td>485000</td>\n",
              "      <td>563000</td>\n",
              "      <td>658000</td>\n",
              "      <td>724000</td>\n",
              "      <td>800000</td>\n",
              "      <td>900000</td>\n",
              "      <td>1028000</td>\n",
              "      <td>1142500</td>\n",
              "      <td>1300000</td>\n",
              "      <td>1502300</td>\n",
              "      <td>1710000.0</td>\n",
              "      <td>1906650</td>\n",
              "    </tr>\n",
              "  </tbody>\n",
              "</table>\n",
              "</div>"
            ],
            "text/plain": [
              "                  1997    1998    1999  ...     2014       2015     2016\n",
              "ACEH            128000  147000  171000  ...  1750000  1900000.0  2118500\n",
              "SUMATERA UTARA  151000  174000  210000  ...  1505850  1625000.0  1811875\n",
              "SUMATERA BARAT  119000  137000  160000  ...  1490000  1615000.0  1800725\n",
              "RIAU            151500  174000  218000  ...  1700000  1878000.0  2095000\n",
              "JAMBI           119500  137500  150000  ...  1502300  1710000.0  1906650\n",
              "\n",
              "[5 rows x 20 columns]"
            ]
          },
          "metadata": {
            "tags": []
          },
          "execution_count": 7
        }
      ]
    },
    {
      "cell_type": "code",
      "metadata": {
        "id": "RnOTXQqmiJ8d",
        "colab_type": "code",
        "colab": {}
      },
      "source": [
        "data = data.stack().reset_index().rename(columns={'level_0':'District','level_1':'Year',0:'Income'})"
      ],
      "execution_count": 0,
      "outputs": []
    },
    {
      "cell_type": "code",
      "metadata": {
        "id": "VczQsSwiiMv7",
        "colab_type": "code",
        "colab": {}
      },
      "source": [
        "data.Income = data.Income.apply(lambda x: str(x).replace('-','')).fillna(0).replace('', np.nan).fillna(0).astype(float)"
      ],
      "execution_count": 0,
      "outputs": []
    },
    {
      "cell_type": "code",
      "metadata": {
        "id": "bOyqo8EjiPgJ",
        "colab_type": "code",
        "outputId": "39df78a5-6afa-4639-982c-6c43824b6d9c",
        "colab": {
          "base_uri": "https://localhost:8080/",
          "height": 204
        }
      },
      "source": [
        "data.head()"
      ],
      "execution_count": 10,
      "outputs": [
        {
          "output_type": "execute_result",
          "data": {
            "text/html": [
              "<div>\n",
              "<style scoped>\n",
              "    .dataframe tbody tr th:only-of-type {\n",
              "        vertical-align: middle;\n",
              "    }\n",
              "\n",
              "    .dataframe tbody tr th {\n",
              "        vertical-align: top;\n",
              "    }\n",
              "\n",
              "    .dataframe thead th {\n",
              "        text-align: right;\n",
              "    }\n",
              "</style>\n",
              "<table border=\"1\" class=\"dataframe\">\n",
              "  <thead>\n",
              "    <tr style=\"text-align: right;\">\n",
              "      <th></th>\n",
              "      <th>District</th>\n",
              "      <th>Year</th>\n",
              "      <th>Income</th>\n",
              "    </tr>\n",
              "  </thead>\n",
              "  <tbody>\n",
              "    <tr>\n",
              "      <th>0</th>\n",
              "      <td>ACEH</td>\n",
              "      <td>1997</td>\n",
              "      <td>128000.0</td>\n",
              "    </tr>\n",
              "    <tr>\n",
              "      <th>1</th>\n",
              "      <td>ACEH</td>\n",
              "      <td>1998</td>\n",
              "      <td>147000.0</td>\n",
              "    </tr>\n",
              "    <tr>\n",
              "      <th>2</th>\n",
              "      <td>ACEH</td>\n",
              "      <td>1999</td>\n",
              "      <td>171000.0</td>\n",
              "    </tr>\n",
              "    <tr>\n",
              "      <th>3</th>\n",
              "      <td>ACEH</td>\n",
              "      <td>2000</td>\n",
              "      <td>265000.0</td>\n",
              "    </tr>\n",
              "    <tr>\n",
              "      <th>4</th>\n",
              "      <td>ACEH</td>\n",
              "      <td>2001</td>\n",
              "      <td>300000.0</td>\n",
              "    </tr>\n",
              "  </tbody>\n",
              "</table>\n",
              "</div>"
            ],
            "text/plain": [
              "  District  Year    Income\n",
              "0     ACEH  1997  128000.0\n",
              "1     ACEH  1998  147000.0\n",
              "2     ACEH  1999  171000.0\n",
              "3     ACEH  2000  265000.0\n",
              "4     ACEH  2001  300000.0"
            ]
          },
          "metadata": {
            "tags": []
          },
          "execution_count": 10
        }
      ]
    },
    {
      "cell_type": "code",
      "metadata": {
        "id": "7NYvib2IiQ8b",
        "colab_type": "code",
        "outputId": "2572314a-1694-4a27-d6ea-1f49988f5047",
        "colab": {
          "base_uri": "https://localhost:8080/",
          "height": 591
        }
      },
      "source": [
        "fig = plt.gcf()\n",
        "fig.set_size_inches(12, 8)\n",
        "legend_out = True\n",
        "sns.lineplot(x='Year', y='Income', hue='District', data=data)\n",
        "#plt.legend(loc='right')\n",
        "plt.legend(bbox_to_anchor=(1.05, 1), loc=2, borderaxespad=0.)"
      ],
      "execution_count": 0,
      "outputs": [
        {
          "output_type": "execute_result",
          "data": {
            "text/plain": [
              "<matplotlib.legend.Legend at 0x7fd783d02f98>"
            ]
          },
          "metadata": {
            "tags": []
          },
          "execution_count": 12
        },
        {
          "output_type": "display_data",
          "data": {
            "image/png": "[encoded data removed]",
            "text/plain": [
              "<Figure size 864x576 with 1 Axes>"
            ]
          },
          "metadata": {
            "tags": []
          }
        }
      ]
    },
    {
      "cell_type": "code",
      "metadata": {
        "id": "cxCWQYPXiWlL",
        "colab_type": "code",
        "outputId": "0032a6e4-3936-4243-9812-0c7524c0c9e2",
        "colab": {
          "base_uri": "https://localhost:8080/",
          "height": 359
        }
      },
      "source": [
        "#five year per capita income 2012-2016\n",
        "five_year = data[data['Year'] >'2011']\n",
        "five_year.head(10)"
      ],
      "execution_count": 11,
      "outputs": [
        {
          "output_type": "execute_result",
          "data": {
            "text/html": [
              "<div>\n",
              "<style scoped>\n",
              "    .dataframe tbody tr th:only-of-type {\n",
              "        vertical-align: middle;\n",
              "    }\n",
              "\n",
              "    .dataframe tbody tr th {\n",
              "        vertical-align: top;\n",
              "    }\n",
              "\n",
              "    .dataframe thead th {\n",
              "        text-align: right;\n",
              "    }\n",
              "</style>\n",
              "<table border=\"1\" class=\"dataframe\">\n",
              "  <thead>\n",
              "    <tr style=\"text-align: right;\">\n",
              "      <th></th>\n",
              "      <th>District</th>\n",
              "      <th>Year</th>\n",
              "      <th>Income</th>\n",
              "    </tr>\n",
              "  </thead>\n",
              "  <tbody>\n",
              "    <tr>\n",
              "      <th>15</th>\n",
              "      <td>ACEH</td>\n",
              "      <td>2012</td>\n",
              "      <td>1400000.0</td>\n",
              "    </tr>\n",
              "    <tr>\n",
              "      <th>16</th>\n",
              "      <td>ACEH</td>\n",
              "      <td>2013</td>\n",
              "      <td>1550000.0</td>\n",
              "    </tr>\n",
              "    <tr>\n",
              "      <th>17</th>\n",
              "      <td>ACEH</td>\n",
              "      <td>2014</td>\n",
              "      <td>1750000.0</td>\n",
              "    </tr>\n",
              "    <tr>\n",
              "      <th>18</th>\n",
              "      <td>ACEH</td>\n",
              "      <td>2015</td>\n",
              "      <td>1900000.0</td>\n",
              "    </tr>\n",
              "    <tr>\n",
              "      <th>19</th>\n",
              "      <td>ACEH</td>\n",
              "      <td>2016</td>\n",
              "      <td>2118500.0</td>\n",
              "    </tr>\n",
              "    <tr>\n",
              "      <th>35</th>\n",
              "      <td>SUMATERA UTARA</td>\n",
              "      <td>2012</td>\n",
              "      <td>1200000.0</td>\n",
              "    </tr>\n",
              "    <tr>\n",
              "      <th>36</th>\n",
              "      <td>SUMATERA UTARA</td>\n",
              "      <td>2013</td>\n",
              "      <td>1375000.0</td>\n",
              "    </tr>\n",
              "    <tr>\n",
              "      <th>37</th>\n",
              "      <td>SUMATERA UTARA</td>\n",
              "      <td>2014</td>\n",
              "      <td>1505850.0</td>\n",
              "    </tr>\n",
              "    <tr>\n",
              "      <th>38</th>\n",
              "      <td>SUMATERA UTARA</td>\n",
              "      <td>2015</td>\n",
              "      <td>1625000.0</td>\n",
              "    </tr>\n",
              "    <tr>\n",
              "      <th>39</th>\n",
              "      <td>SUMATERA UTARA</td>\n",
              "      <td>2016</td>\n",
              "      <td>1811875.0</td>\n",
              "    </tr>\n",
              "  </tbody>\n",
              "</table>\n",
              "</div>"
            ],
            "text/plain": [
              "          District  Year     Income\n",
              "15            ACEH  2012  1400000.0\n",
              "16            ACEH  2013  1550000.0\n",
              "17            ACEH  2014  1750000.0\n",
              "18            ACEH  2015  1900000.0\n",
              "19            ACEH  2016  2118500.0\n",
              "35  SUMATERA UTARA  2012  1200000.0\n",
              "36  SUMATERA UTARA  2013  1375000.0\n",
              "37  SUMATERA UTARA  2014  1505850.0\n",
              "38  SUMATERA UTARA  2015  1625000.0\n",
              "39  SUMATERA UTARA  2016  1811875.0"
            ]
          },
          "metadata": {
            "tags": []
          },
          "execution_count": 11
        }
      ]
    },
    {
      "cell_type": "code",
      "metadata": {
        "id": "pUEo6MVoimMX",
        "colab_type": "code",
        "outputId": "804b59d0-4035-4fa5-aaa8-f8265c0b6415",
        "colab": {
          "base_uri": "https://localhost:8080/",
          "height": 591
        }
      },
      "source": [
        "fig = plt.gcf()\n",
        "fig.set_size_inches(12, 8)\n",
        "legend_out = True\n",
        "sns.lineplot(x='Year', y='Income', hue='District', data=five_year)\n",
        "#plt.legend(loc='right')\n",
        "plt.legend(bbox_to_anchor=(1.05, 1), loc=2, borderaxespad=0.)"
      ],
      "execution_count": 0,
      "outputs": [
        {
          "output_type": "execute_result",
          "data": {
            "text/plain": [
              "<matplotlib.legend.Legend at 0x7fd78368a198>"
            ]
          },
          "metadata": {
            "tags": []
          },
          "execution_count": 14
        },
        {
          "output_type": "display_data",
          "data": {
            "image/png": "[encoded data removed]",
            "text/plain": [
              "<Figure size 864x576 with 1 Axes>"
            ]
          },
          "metadata": {
            "tags": []
          }
        }
      ]
    },
    {
      "cell_type": "code",
      "metadata": {
        "id": "61OzLibEiwnq",
        "colab_type": "code",
        "colab": {}
      },
      "source": [
        "#Looking to get a per capita income score based on previous 5 years per capita income data.\n",
        "median_income = five_year.groupby(['District'])['Income'].median()"
      ],
      "execution_count": 0,
      "outputs": []
    },
    {
      "cell_type": "code",
      "metadata": {
        "id": "ZTulIentjmcM",
        "colab_type": "code",
        "outputId": "98a6644f-a36f-4790-8225-0629eb05501a",
        "colab": {
          "base_uri": "https://localhost:8080/",
          "height": 646
        }
      },
      "source": [
        "median_income"
      ],
      "execution_count": 13,
      "outputs": [
        {
          "output_type": "execute_result",
          "data": {
            "text/plain": [
              "District\n",
              "ACEH                    1750000.0\n",
              "BALI                    1542600.0\n",
              "BANTEN                  1325000.0\n",
              "BENGKULU                1350000.0\n",
              "DI YOGYAKARTA            947114.0\n",
              "DKI JAKARTA             2441000.0\n",
              "GORONTALO               1325000.0\n",
              "INDONESIA               1584391.0\n",
              "JAMBI                   1502300.0\n",
              "JAWA BARAT              1000000.0\n",
              "JAWA TENGAH              830000.0\n",
              "JAWA TIMUR               866250.0\n",
              "KALIMANTAN BARAT        1380000.0\n",
              "KALIMANTAN SELATAN      1620000.0\n",
              "KALIMANTAN TENGAH       1723970.0\n",
              "KALIMANTAN TIMUR        1886315.0\n",
              "KALIMANTAN UTARA              0.0\n",
              "KEP. BANGKA BELITUNG    1640000.0\n",
              "KEP. RIAU               1665000.0\n",
              "LAMPUNG                 1399037.0\n",
              "MALUKU                  1415000.0\n",
              "MALUKU UTARA            1440746.0\n",
              "NUSA TENGGARA BARAT     1210000.0\n",
              "NUSA TENGGARA TIMUR     1150000.0\n",
              "PAPUA                   2040000.0\n",
              "PAPUA BARAT             1870000.0\n",
              "RIAU                    1700000.0\n",
              "SULAWESI BARAT          1400000.0\n",
              "SULAWESI SELATAN        1800000.0\n",
              "SULAWESI TENGAH         1250000.0\n",
              "SULAWESI TENGGARA       1400000.0\n",
              "SULAWESI UTARA          1900000.0\n",
              "SUMATERA BARAT          1490000.0\n",
              "SUMATERA SELATAN        1825000.0\n",
              "SUMATERA UTARA          1505850.0\n",
              "Name: Income, dtype: float64"
            ]
          },
          "metadata": {
            "tags": []
          },
          "execution_count": 13
        }
      ]
    },
    {
      "cell_type": "code",
      "metadata": {
        "id": "vc8GZNRBjofS",
        "colab_type": "code",
        "colab": {}
      },
      "source": [
        "data = {'District': ['ACEH','BALI','BANTEN','BENGKULU','DI YOGYAKARTA','DKI JAKARTA','GORONTALO','INDONESIA','JAMBI','JAWA BARAT','JAWA TENGAH','JAWA TIMUR','KALIMANTAN BARAT','KALIMANTAN SELATAN','KALIMANTAN TENGAH','KALIMANTAN TIMUR',\n",
        "                      'KALIMANTAN UTARA','KEP. BANGKA BELITUNG','KEP. RIAU','LAMPUNG','MALUKU','MALUKU UTARA','NUSA TENGGARA BARAT','NUSA TENGGARA TIMUR','PAPUA','PAPUA BARAT','RIAU','SULAWESI BARAT','SULAWESI SELATAN',\n",
        "                      'SULAWESI TENGAH','SULAWESI TENGGARA','SULAWESI UTARA','SUMATERA BARAT','SUMATERA SELATAN','SUMATERA UTARA'], 'Median':[1750000., 1542600., 1325000., 1350000.,  947114., 2441000.,\n",
        "        1325000., 1584391., 1502300., 1000000.,  830000.,  866250.,\n",
        "        1380000., 1620000., 1723970., 1886315.,       0., 1640000.,\n",
        "        1665000., 1399037., 1415000., 1440746., 1210000., 1150000.,\n",
        "        2040000., 1870000., 1700000., 1400000., 1800000., 1250000.,\n",
        "        1400000., 1900000., 1490000., 1825000., 1505850.]}"
      ],
      "execution_count": 0,
      "outputs": []
    },
    {
      "cell_type": "code",
      "metadata": {
        "id": "VMDA6-RTjs_o",
        "colab_type": "code",
        "outputId": "7a32c7f2-121f-4471-9a7d-c13eeab07d32",
        "colab": {
          "base_uri": "https://localhost:8080/",
          "height": 204
        }
      },
      "source": [
        "df = pd.DataFrame(data)\n",
        "df.head()"
      ],
      "execution_count": 15,
      "outputs": [
        {
          "output_type": "execute_result",
          "data": {
            "text/html": [
              "<div>\n",
              "<style scoped>\n",
              "    .dataframe tbody tr th:only-of-type {\n",
              "        vertical-align: middle;\n",
              "    }\n",
              "\n",
              "    .dataframe tbody tr th {\n",
              "        vertical-align: top;\n",
              "    }\n",
              "\n",
              "    .dataframe thead th {\n",
              "        text-align: right;\n",
              "    }\n",
              "</style>\n",
              "<table border=\"1\" class=\"dataframe\">\n",
              "  <thead>\n",
              "    <tr style=\"text-align: right;\">\n",
              "      <th></th>\n",
              "      <th>District</th>\n",
              "      <th>Median</th>\n",
              "    </tr>\n",
              "  </thead>\n",
              "  <tbody>\n",
              "    <tr>\n",
              "      <th>0</th>\n",
              "      <td>ACEH</td>\n",
              "      <td>1750000.0</td>\n",
              "    </tr>\n",
              "    <tr>\n",
              "      <th>1</th>\n",
              "      <td>BALI</td>\n",
              "      <td>1542600.0</td>\n",
              "    </tr>\n",
              "    <tr>\n",
              "      <th>2</th>\n",
              "      <td>BANTEN</td>\n",
              "      <td>1325000.0</td>\n",
              "    </tr>\n",
              "    <tr>\n",
              "      <th>3</th>\n",
              "      <td>BENGKULU</td>\n",
              "      <td>1350000.0</td>\n",
              "    </tr>\n",
              "    <tr>\n",
              "      <th>4</th>\n",
              "      <td>DI YOGYAKARTA</td>\n",
              "      <td>947114.0</td>\n",
              "    </tr>\n",
              "  </tbody>\n",
              "</table>\n",
              "</div>"
            ],
            "text/plain": [
              "        District     Median\n",
              "0           ACEH  1750000.0\n",
              "1           BALI  1542600.0\n",
              "2         BANTEN  1325000.0\n",
              "3       BENGKULU  1350000.0\n",
              "4  DI YOGYAKARTA   947114.0"
            ]
          },
          "metadata": {
            "tags": []
          },
          "execution_count": 15
        }
      ]
    },
    {
      "cell_type": "code",
      "metadata": {
        "id": "RvwAPttnju9-",
        "colab_type": "code",
        "colab": {}
      },
      "source": [
        "df['pci_score'] = df.apply(lambda x: (x['Median']/1000000.0),axis=1)\n",
        "df['pci_score'] = df['pci_score'].apply(np.ceil)"
      ],
      "execution_count": 0,
      "outputs": []
    },
    {
      "cell_type": "code",
      "metadata": {
        "id": "dcLA4HlHjy1B",
        "colab_type": "code",
        "outputId": "a3949251-169a-47a6-8dda-207cc7f38e0e",
        "colab": {
          "base_uri": "https://localhost:8080/",
          "height": 204
        }
      },
      "source": [
        "df.head()"
      ],
      "execution_count": 17,
      "outputs": [
        {
          "output_type": "execute_result",
          "data": {
            "text/html": [
              "<div>\n",
              "<style scoped>\n",
              "    .dataframe tbody tr th:only-of-type {\n",
              "        vertical-align: middle;\n",
              "    }\n",
              "\n",
              "    .dataframe tbody tr th {\n",
              "        vertical-align: top;\n",
              "    }\n",
              "\n",
              "    .dataframe thead th {\n",
              "        text-align: right;\n",
              "    }\n",
              "</style>\n",
              "<table border=\"1\" class=\"dataframe\">\n",
              "  <thead>\n",
              "    <tr style=\"text-align: right;\">\n",
              "      <th></th>\n",
              "      <th>District</th>\n",
              "      <th>Median</th>\n",
              "      <th>pci_score</th>\n",
              "    </tr>\n",
              "  </thead>\n",
              "  <tbody>\n",
              "    <tr>\n",
              "      <th>0</th>\n",
              "      <td>ACEH</td>\n",
              "      <td>1750000.0</td>\n",
              "      <td>2.0</td>\n",
              "    </tr>\n",
              "    <tr>\n",
              "      <th>1</th>\n",
              "      <td>BALI</td>\n",
              "      <td>1542600.0</td>\n",
              "      <td>2.0</td>\n",
              "    </tr>\n",
              "    <tr>\n",
              "      <th>2</th>\n",
              "      <td>BANTEN</td>\n",
              "      <td>1325000.0</td>\n",
              "      <td>2.0</td>\n",
              "    </tr>\n",
              "    <tr>\n",
              "      <th>3</th>\n",
              "      <td>BENGKULU</td>\n",
              "      <td>1350000.0</td>\n",
              "      <td>2.0</td>\n",
              "    </tr>\n",
              "    <tr>\n",
              "      <th>4</th>\n",
              "      <td>DI YOGYAKARTA</td>\n",
              "      <td>947114.0</td>\n",
              "      <td>1.0</td>\n",
              "    </tr>\n",
              "  </tbody>\n",
              "</table>\n",
              "</div>"
            ],
            "text/plain": [
              "        District     Median  pci_score\n",
              "0           ACEH  1750000.0        2.0\n",
              "1           BALI  1542600.0        2.0\n",
              "2         BANTEN  1325000.0        2.0\n",
              "3       BENGKULU  1350000.0        2.0\n",
              "4  DI YOGYAKARTA   947114.0        1.0"
            ]
          },
          "metadata": {
            "tags": []
          },
          "execution_count": 17
        }
      ]
    },
    {
      "cell_type": "code",
      "metadata": {
        "id": "3-z3YtDfvUkh",
        "colab_type": "code",
        "colab": {}
      },
      "source": [
        "area_district = df.drop(['Median'],axis=1)"
      ],
      "execution_count": 0,
      "outputs": []
    },
    {
      "cell_type": "code",
      "metadata": {
        "id": "QVjDby78v016",
        "colab_type": "code",
        "colab": {}
      },
      "source": [
        "five_year = pd.merge(five_year, df, on='District')"
      ],
      "execution_count": 0,
      "outputs": []
    },
    {
      "cell_type": "code",
      "metadata": {
        "id": "Z6Vv2R5Fv3Sg",
        "colab_type": "code",
        "outputId": "0d1287a8-2980-46d9-a5ff-7f827939c643",
        "colab": {
          "base_uri": "https://localhost:8080/",
          "height": 204
        }
      },
      "source": [
        "five_year.head()"
      ],
      "execution_count": 20,
      "outputs": [
        {
          "output_type": "execute_result",
          "data": {
            "text/html": [
              "<div>\n",
              "<style scoped>\n",
              "    .dataframe tbody tr th:only-of-type {\n",
              "        vertical-align: middle;\n",
              "    }\n",
              "\n",
              "    .dataframe tbody tr th {\n",
              "        vertical-align: top;\n",
              "    }\n",
              "\n",
              "    .dataframe thead th {\n",
              "        text-align: right;\n",
              "    }\n",
              "</style>\n",
              "<table border=\"1\" class=\"dataframe\">\n",
              "  <thead>\n",
              "    <tr style=\"text-align: right;\">\n",
              "      <th></th>\n",
              "      <th>District</th>\n",
              "      <th>Year</th>\n",
              "      <th>Income</th>\n",
              "      <th>Median</th>\n",
              "      <th>pci_score</th>\n",
              "    </tr>\n",
              "  </thead>\n",
              "  <tbody>\n",
              "    <tr>\n",
              "      <th>0</th>\n",
              "      <td>ACEH</td>\n",
              "      <td>2012</td>\n",
              "      <td>1400000.0</td>\n",
              "      <td>1750000.0</td>\n",
              "      <td>2.0</td>\n",
              "    </tr>\n",
              "    <tr>\n",
              "      <th>1</th>\n",
              "      <td>ACEH</td>\n",
              "      <td>2013</td>\n",
              "      <td>1550000.0</td>\n",
              "      <td>1750000.0</td>\n",
              "      <td>2.0</td>\n",
              "    </tr>\n",
              "    <tr>\n",
              "      <th>2</th>\n",
              "      <td>ACEH</td>\n",
              "      <td>2014</td>\n",
              "      <td>1750000.0</td>\n",
              "      <td>1750000.0</td>\n",
              "      <td>2.0</td>\n",
              "    </tr>\n",
              "    <tr>\n",
              "      <th>3</th>\n",
              "      <td>ACEH</td>\n",
              "      <td>2015</td>\n",
              "      <td>1900000.0</td>\n",
              "      <td>1750000.0</td>\n",
              "      <td>2.0</td>\n",
              "    </tr>\n",
              "    <tr>\n",
              "      <th>4</th>\n",
              "      <td>ACEH</td>\n",
              "      <td>2016</td>\n",
              "      <td>2118500.0</td>\n",
              "      <td>1750000.0</td>\n",
              "      <td>2.0</td>\n",
              "    </tr>\n",
              "  </tbody>\n",
              "</table>\n",
              "</div>"
            ],
            "text/plain": [
              "  District  Year     Income     Median  pci_score\n",
              "0     ACEH  2012  1400000.0  1750000.0        2.0\n",
              "1     ACEH  2013  1550000.0  1750000.0        2.0\n",
              "2     ACEH  2014  1750000.0  1750000.0        2.0\n",
              "3     ACEH  2015  1900000.0  1750000.0        2.0\n",
              "4     ACEH  2016  2118500.0  1750000.0        2.0"
            ]
          },
          "metadata": {
            "tags": []
          },
          "execution_count": 20
        }
      ]
    },
    {
      "cell_type": "code",
      "metadata": {
        "id": "uwzmYbiCv44Z",
        "colab_type": "code",
        "colab": {}
      },
      "source": [
        "#only get the districts with the PCI score\n",
        "area_district = five_year.drop(['Year','Income','Median'],axis=1)"
      ],
      "execution_count": 0,
      "outputs": []
    },
    {
      "cell_type": "code",
      "metadata": {
        "id": "2xAXZp1GzvRA",
        "colab_type": "code",
        "outputId": "8b4b0493-cc07-4163-a8d8-979a949e8f55",
        "colab": {
          "base_uri": "https://localhost:8080/",
          "height": 514
        }
      },
      "source": [
        "area_district.head(15)"
      ],
      "execution_count": 22,
      "outputs": [
        {
          "output_type": "execute_result",
          "data": {
            "text/html": [
              "<div>\n",
              "<style scoped>\n",
              "    .dataframe tbody tr th:only-of-type {\n",
              "        vertical-align: middle;\n",
              "    }\n",
              "\n",
              "    .dataframe tbody tr th {\n",
              "        vertical-align: top;\n",
              "    }\n",
              "\n",
              "    .dataframe thead th {\n",
              "        text-align: right;\n",
              "    }\n",
              "</style>\n",
              "<table border=\"1\" class=\"dataframe\">\n",
              "  <thead>\n",
              "    <tr style=\"text-align: right;\">\n",
              "      <th></th>\n",
              "      <th>District</th>\n",
              "      <th>pci_score</th>\n",
              "    </tr>\n",
              "  </thead>\n",
              "  <tbody>\n",
              "    <tr>\n",
              "      <th>0</th>\n",
              "      <td>ACEH</td>\n",
              "      <td>2.0</td>\n",
              "    </tr>\n",
              "    <tr>\n",
              "      <th>1</th>\n",
              "      <td>ACEH</td>\n",
              "      <td>2.0</td>\n",
              "    </tr>\n",
              "    <tr>\n",
              "      <th>2</th>\n",
              "      <td>ACEH</td>\n",
              "      <td>2.0</td>\n",
              "    </tr>\n",
              "    <tr>\n",
              "      <th>3</th>\n",
              "      <td>ACEH</td>\n",
              "      <td>2.0</td>\n",
              "    </tr>\n",
              "    <tr>\n",
              "      <th>4</th>\n",
              "      <td>ACEH</td>\n",
              "      <td>2.0</td>\n",
              "    </tr>\n",
              "    <tr>\n",
              "      <th>5</th>\n",
              "      <td>SUMATERA UTARA</td>\n",
              "      <td>2.0</td>\n",
              "    </tr>\n",
              "    <tr>\n",
              "      <th>6</th>\n",
              "      <td>SUMATERA UTARA</td>\n",
              "      <td>2.0</td>\n",
              "    </tr>\n",
              "    <tr>\n",
              "      <th>7</th>\n",
              "      <td>SUMATERA UTARA</td>\n",
              "      <td>2.0</td>\n",
              "    </tr>\n",
              "    <tr>\n",
              "      <th>8</th>\n",
              "      <td>SUMATERA UTARA</td>\n",
              "      <td>2.0</td>\n",
              "    </tr>\n",
              "    <tr>\n",
              "      <th>9</th>\n",
              "      <td>SUMATERA UTARA</td>\n",
              "      <td>2.0</td>\n",
              "    </tr>\n",
              "    <tr>\n",
              "      <th>10</th>\n",
              "      <td>SUMATERA BARAT</td>\n",
              "      <td>2.0</td>\n",
              "    </tr>\n",
              "    <tr>\n",
              "      <th>11</th>\n",
              "      <td>SUMATERA BARAT</td>\n",
              "      <td>2.0</td>\n",
              "    </tr>\n",
              "    <tr>\n",
              "      <th>12</th>\n",
              "      <td>SUMATERA BARAT</td>\n",
              "      <td>2.0</td>\n",
              "    </tr>\n",
              "    <tr>\n",
              "      <th>13</th>\n",
              "      <td>SUMATERA BARAT</td>\n",
              "      <td>2.0</td>\n",
              "    </tr>\n",
              "    <tr>\n",
              "      <th>14</th>\n",
              "      <td>SUMATERA BARAT</td>\n",
              "      <td>2.0</td>\n",
              "    </tr>\n",
              "  </tbody>\n",
              "</table>\n",
              "</div>"
            ],
            "text/plain": [
              "          District  pci_score\n",
              "0             ACEH        2.0\n",
              "1             ACEH        2.0\n",
              "2             ACEH        2.0\n",
              "3             ACEH        2.0\n",
              "4             ACEH        2.0\n",
              "5   SUMATERA UTARA        2.0\n",
              "6   SUMATERA UTARA        2.0\n",
              "7   SUMATERA UTARA        2.0\n",
              "8   SUMATERA UTARA        2.0\n",
              "9   SUMATERA UTARA        2.0\n",
              "10  SUMATERA BARAT        2.0\n",
              "11  SUMATERA BARAT        2.0\n",
              "12  SUMATERA BARAT        2.0\n",
              "13  SUMATERA BARAT        2.0\n",
              "14  SUMATERA BARAT        2.0"
            ]
          },
          "metadata": {
            "tags": []
          },
          "execution_count": 22
        }
      ]
    },
    {
      "cell_type": "code",
      "metadata": {
        "id": "_gKK4yzIzyA3",
        "colab_type": "code",
        "colab": {}
      },
      "source": [
        "transactions_data = '/content/gdrive/My Drive/Omdena Creedix/data/transaction_data.csv'"
      ],
      "execution_count": 0,
      "outputs": []
    },
    {
      "cell_type": "code",
      "metadata": {
        "id": "cNGswNxGz2iD",
        "colab_type": "code",
        "colab": {}
      },
      "source": [
        "trans = pd.read_csv(transactions_data)"
      ],
      "execution_count": 0,
      "outputs": []
    },
    {
      "cell_type": "code",
      "metadata": {
        "id": "58g9B08Cz4Kx",
        "colab_type": "code",
        "outputId": "f3dbad00-bf57-4d67-b2d2-579762e14b59",
        "colab": {
          "base_uri": "https://localhost:8080/",
          "height": 204
        }
      },
      "source": [
        "trans.head()"
      ],
      "execution_count": 25,
      "outputs": [
        {
          "output_type": "execute_result",
          "data": {
            "text/html": [
              "<div>\n",
              "<style scoped>\n",
              "    .dataframe tbody tr th:only-of-type {\n",
              "        vertical-align: middle;\n",
              "    }\n",
              "\n",
              "    .dataframe tbody tr th {\n",
              "        vertical-align: top;\n",
              "    }\n",
              "\n",
              "    .dataframe thead th {\n",
              "        text-align: right;\n",
              "    }\n",
              "</style>\n",
              "<table border=\"1\" class=\"dataframe\">\n",
              "  <thead>\n",
              "    <tr style=\"text-align: right;\">\n",
              "      <th></th>\n",
              "      <th>CIF_NO</th>\n",
              "      <th>TRX_DATE</th>\n",
              "      <th>RECID</th>\n",
              "      <th>TIME</th>\n",
              "      <th>ACCOUNT_NO</th>\n",
              "      <th>AT_CHG_CODE</th>\n",
              "      <th>AT_CHG_DESC</th>\n",
              "      <th>CHANNEL</th>\n",
              "      <th>CHANNEL2</th>\n",
              "      <th>CATEGORY</th>\n",
              "      <th>DETAIL_CATEGORY</th>\n",
              "      <th>ISSUER</th>\n",
              "      <th>STATUS</th>\n",
              "      <th>AREA_ACCOUNT</th>\n",
              "      <th>REGION_ACCOUNT</th>\n",
              "      <th>AMT_TRX</th>\n",
              "    </tr>\n",
              "  </thead>\n",
              "  <tbody>\n",
              "    <tr>\n",
              "      <th>0</th>\n",
              "      <td>75227151</td>\n",
              "      <td>2019-10-16</td>\n",
              "      <td>FT19289WB8FL;1</td>\n",
              "      <td>14:57</td>\n",
              "      <td>7036330313</td>\n",
              "      <td>40111917</td>\n",
              "      <td>TRF BANKX TO PRIMA - BANKXMOBILE</td>\n",
              "      <td>MOBILE</td>\n",
              "      <td>MOBILE</td>\n",
              "      <td>TRANSFER</td>\n",
              "      <td>TRANSFER PRIMA</td>\n",
              "      <td>0</td>\n",
              "      <td>YES</td>\n",
              "      <td>AREA BALIKPAPAN</td>\n",
              "      <td>REGION VII/ BANJARMASIN</td>\n",
              "      <td>670000.0</td>\n",
              "    </tr>\n",
              "    <tr>\n",
              "      <th>1</th>\n",
              "      <td>75227151</td>\n",
              "      <td>2019-10-09</td>\n",
              "      <td>FT192827FX5M;1</td>\n",
              "      <td>16:05</td>\n",
              "      <td>7036330313</td>\n",
              "      <td>40111117</td>\n",
              "      <td>TRF BANKX TO BANKX - BANKXMOBILE</td>\n",
              "      <td>MOBILE</td>\n",
              "      <td>MOBILE</td>\n",
              "      <td>TRANSFER</td>\n",
              "      <td>TRANSFER PINBUK</td>\n",
              "      <td>0</td>\n",
              "      <td>YES</td>\n",
              "      <td>AREA BALIKPAPAN</td>\n",
              "      <td>REGION VII/ BANJARMASIN</td>\n",
              "      <td>20000.0</td>\n",
              "    </tr>\n",
              "    <tr>\n",
              "      <th>2</th>\n",
              "      <td>75227151</td>\n",
              "      <td>2019-10-25</td>\n",
              "      <td>FT19298TCCWJ;1</td>\n",
              "      <td>20:31</td>\n",
              "      <td>7036330313</td>\n",
              "      <td>40111117</td>\n",
              "      <td>TRF BANKX TO BANKX - BANKXMOBILE</td>\n",
              "      <td>MOBILE</td>\n",
              "      <td>MOBILE</td>\n",
              "      <td>TRANSFER</td>\n",
              "      <td>TRANSFER PINBUK</td>\n",
              "      <td>0</td>\n",
              "      <td>YES</td>\n",
              "      <td>AREA BALIKPAPAN</td>\n",
              "      <td>REGION VII/ BANJARMASIN</td>\n",
              "      <td>186000.0</td>\n",
              "    </tr>\n",
              "    <tr>\n",
              "      <th>3</th>\n",
              "      <td>75227151</td>\n",
              "      <td>2019-10-08</td>\n",
              "      <td>FT19281B8Y42;1</td>\n",
              "      <td>19:21</td>\n",
              "      <td>7036330313</td>\n",
              "      <td>40111117</td>\n",
              "      <td>TRF BANKX TO BANKX - BANKXMOBILE</td>\n",
              "      <td>MOBILE</td>\n",
              "      <td>MOBILE</td>\n",
              "      <td>TRANSFER</td>\n",
              "      <td>TRANSFER PINBUK</td>\n",
              "      <td>0</td>\n",
              "      <td>YES</td>\n",
              "      <td>AREA BALIKPAPAN</td>\n",
              "      <td>REGION VII/ BANJARMASIN</td>\n",
              "      <td>70000.0</td>\n",
              "    </tr>\n",
              "    <tr>\n",
              "      <th>4</th>\n",
              "      <td>75227151</td>\n",
              "      <td>2019-10-09</td>\n",
              "      <td>FT19282XLLMN;1</td>\n",
              "      <td>07:28</td>\n",
              "      <td>7036330313</td>\n",
              "      <td>40111117</td>\n",
              "      <td>TRF BANKX TO BANKX - BANKXMOBILE</td>\n",
              "      <td>MOBILE</td>\n",
              "      <td>MOBILE</td>\n",
              "      <td>TRANSFER</td>\n",
              "      <td>TRANSFER PINBUK</td>\n",
              "      <td>0</td>\n",
              "      <td>YES</td>\n",
              "      <td>AREA BALIKPAPAN</td>\n",
              "      <td>REGION VII/ BANJARMASIN</td>\n",
              "      <td>40000.0</td>\n",
              "    </tr>\n",
              "  </tbody>\n",
              "</table>\n",
              "</div>"
            ],
            "text/plain": [
              "     CIF_NO    TRX_DATE  ...           REGION_ACCOUNT   AMT_TRX\n",
              "0  75227151  2019-10-16  ...  REGION VII/ BANJARMASIN  670000.0\n",
              "1  75227151  2019-10-09  ...  REGION VII/ BANJARMASIN   20000.0\n",
              "2  75227151  2019-10-25  ...  REGION VII/ BANJARMASIN  186000.0\n",
              "3  75227151  2019-10-08  ...  REGION VII/ BANJARMASIN   70000.0\n",
              "4  75227151  2019-10-09  ...  REGION VII/ BANJARMASIN   40000.0\n",
              "\n",
              "[5 rows x 16 columns]"
            ]
          },
          "metadata": {
            "tags": []
          },
          "execution_count": 25
        }
      ]
    },
    {
      "cell_type": "code",
      "metadata": {
        "id": "L0nlQE9Iz56Z",
        "colab_type": "code",
        "colab": {}
      },
      "source": [
        "def get_area(x):\n",
        "  return x.split('/ ')[1]"
      ],
      "execution_count": 0,
      "outputs": []
    },
    {
      "cell_type": "code",
      "metadata": {
        "id": "wPt3ASRbz80n",
        "colab_type": "code",
        "colab": {}
      },
      "source": [
        "trans['AREA'] = trans.apply(lambda row : get_area(row['REGION_ACCOUNT']), axis=1)"
      ],
      "execution_count": 0,
      "outputs": []
    },
    {
      "cell_type": "code",
      "metadata": {
        "id": "fv4N674Cz_wt",
        "colab_type": "code",
        "outputId": "b1ebcc9f-14bd-46b8-d3ab-41d59e24fdff",
        "colab": {
          "base_uri": "https://localhost:8080/",
          "height": 289
        }
      },
      "source": [
        "trans.head()"
      ],
      "execution_count": 28,
      "outputs": [
        {
          "output_type": "execute_result",
          "data": {
            "text/html": [
              "<div>\n",
              "<style scoped>\n",
              "    .dataframe tbody tr th:only-of-type {\n",
              "        vertical-align: middle;\n",
              "    }\n",
              "\n",
              "    .dataframe tbody tr th {\n",
              "        vertical-align: top;\n",
              "    }\n",
              "\n",
              "    .dataframe thead th {\n",
              "        text-align: right;\n",
              "    }\n",
              "</style>\n",
              "<table border=\"1\" class=\"dataframe\">\n",
              "  <thead>\n",
              "    <tr style=\"text-align: right;\">\n",
              "      <th></th>\n",
              "      <th>CIF_NO</th>\n",
              "      <th>TRX_DATE</th>\n",
              "      <th>RECID</th>\n",
              "      <th>TIME</th>\n",
              "      <th>ACCOUNT_NO</th>\n",
              "      <th>AT_CHG_CODE</th>\n",
              "      <th>AT_CHG_DESC</th>\n",
              "      <th>CHANNEL</th>\n",
              "      <th>CHANNEL2</th>\n",
              "      <th>CATEGORY</th>\n",
              "      <th>DETAIL_CATEGORY</th>\n",
              "      <th>ISSUER</th>\n",
              "      <th>STATUS</th>\n",
              "      <th>AREA_ACCOUNT</th>\n",
              "      <th>REGION_ACCOUNT</th>\n",
              "      <th>AMT_TRX</th>\n",
              "      <th>AREA</th>\n",
              "    </tr>\n",
              "  </thead>\n",
              "  <tbody>\n",
              "    <tr>\n",
              "      <th>0</th>\n",
              "      <td>75227151</td>\n",
              "      <td>2019-10-16</td>\n",
              "      <td>FT19289WB8FL;1</td>\n",
              "      <td>14:57</td>\n",
              "      <td>7036330313</td>\n",
              "      <td>40111917</td>\n",
              "      <td>TRF BANKX TO PRIMA - BANKXMOBILE</td>\n",
              "      <td>MOBILE</td>\n",
              "      <td>MOBILE</td>\n",
              "      <td>TRANSFER</td>\n",
              "      <td>TRANSFER PRIMA</td>\n",
              "      <td>0</td>\n",
              "      <td>YES</td>\n",
              "      <td>AREA BALIKPAPAN</td>\n",
              "      <td>REGION VII/ BANJARMASIN</td>\n",
              "      <td>670000.0</td>\n",
              "      <td>BANJARMASIN</td>\n",
              "    </tr>\n",
              "    <tr>\n",
              "      <th>1</th>\n",
              "      <td>75227151</td>\n",
              "      <td>2019-10-09</td>\n",
              "      <td>FT192827FX5M;1</td>\n",
              "      <td>16:05</td>\n",
              "      <td>7036330313</td>\n",
              "      <td>40111117</td>\n",
              "      <td>TRF BANKX TO BANKX - BANKXMOBILE</td>\n",
              "      <td>MOBILE</td>\n",
              "      <td>MOBILE</td>\n",
              "      <td>TRANSFER</td>\n",
              "      <td>TRANSFER PINBUK</td>\n",
              "      <td>0</td>\n",
              "      <td>YES</td>\n",
              "      <td>AREA BALIKPAPAN</td>\n",
              "      <td>REGION VII/ BANJARMASIN</td>\n",
              "      <td>20000.0</td>\n",
              "      <td>BANJARMASIN</td>\n",
              "    </tr>\n",
              "    <tr>\n",
              "      <th>2</th>\n",
              "      <td>75227151</td>\n",
              "      <td>2019-10-25</td>\n",
              "      <td>FT19298TCCWJ;1</td>\n",
              "      <td>20:31</td>\n",
              "      <td>7036330313</td>\n",
              "      <td>40111117</td>\n",
              "      <td>TRF BANKX TO BANKX - BANKXMOBILE</td>\n",
              "      <td>MOBILE</td>\n",
              "      <td>MOBILE</td>\n",
              "      <td>TRANSFER</td>\n",
              "      <td>TRANSFER PINBUK</td>\n",
              "      <td>0</td>\n",
              "      <td>YES</td>\n",
              "      <td>AREA BALIKPAPAN</td>\n",
              "      <td>REGION VII/ BANJARMASIN</td>\n",
              "      <td>186000.0</td>\n",
              "      <td>BANJARMASIN</td>\n",
              "    </tr>\n",
              "    <tr>\n",
              "      <th>3</th>\n",
              "      <td>75227151</td>\n",
              "      <td>2019-10-08</td>\n",
              "      <td>FT19281B8Y42;1</td>\n",
              "      <td>19:21</td>\n",
              "      <td>7036330313</td>\n",
              "      <td>40111117</td>\n",
              "      <td>TRF BANKX TO BANKX - BANKXMOBILE</td>\n",
              "      <td>MOBILE</td>\n",
              "      <td>MOBILE</td>\n",
              "      <td>TRANSFER</td>\n",
              "      <td>TRANSFER PINBUK</td>\n",
              "      <td>0</td>\n",
              "      <td>YES</td>\n",
              "      <td>AREA BALIKPAPAN</td>\n",
              "      <td>REGION VII/ BANJARMASIN</td>\n",
              "      <td>70000.0</td>\n",
              "      <td>BANJARMASIN</td>\n",
              "    </tr>\n",
              "    <tr>\n",
              "      <th>4</th>\n",
              "      <td>75227151</td>\n",
              "      <td>2019-10-09</td>\n",
              "      <td>FT19282XLLMN;1</td>\n",
              "      <td>07:28</td>\n",
              "      <td>7036330313</td>\n",
              "      <td>40111117</td>\n",
              "      <td>TRF BANKX TO BANKX - BANKXMOBILE</td>\n",
              "      <td>MOBILE</td>\n",
              "      <td>MOBILE</td>\n",
              "      <td>TRANSFER</td>\n",
              "      <td>TRANSFER PINBUK</td>\n",
              "      <td>0</td>\n",
              "      <td>YES</td>\n",
              "      <td>AREA BALIKPAPAN</td>\n",
              "      <td>REGION VII/ BANJARMASIN</td>\n",
              "      <td>40000.0</td>\n",
              "      <td>BANJARMASIN</td>\n",
              "    </tr>\n",
              "  </tbody>\n",
              "</table>\n",
              "</div>"
            ],
            "text/plain": [
              "     CIF_NO    TRX_DATE  ...   AMT_TRX         AREA\n",
              "0  75227151  2019-10-16  ...  670000.0  BANJARMASIN\n",
              "1  75227151  2019-10-09  ...   20000.0  BANJARMASIN\n",
              "2  75227151  2019-10-25  ...  186000.0  BANJARMASIN\n",
              "3  75227151  2019-10-08  ...   70000.0  BANJARMASIN\n",
              "4  75227151  2019-10-09  ...   40000.0  BANJARMASIN\n",
              "\n",
              "[5 rows x 17 columns]"
            ]
          },
          "metadata": {
            "tags": []
          },
          "execution_count": 28
        }
      ]
    },
    {
      "cell_type": "code",
      "metadata": {
        "id": "Ouw5nGDQ0BL6",
        "colab_type": "code",
        "outputId": "3fd8ca9a-a93a-4441-d726-bca8ff5292cc",
        "colab": {
          "base_uri": "https://localhost:8080/",
          "height": 328
        }
      },
      "source": [
        "trans.groupby(['AREA']).count()"
      ],
      "execution_count": 29,
      "outputs": [
        {
          "output_type": "execute_result",
          "data": {
            "text/html": [
              "<div>\n",
              "<style scoped>\n",
              "    .dataframe tbody tr th:only-of-type {\n",
              "        vertical-align: middle;\n",
              "    }\n",
              "\n",
              "    .dataframe tbody tr th {\n",
              "        vertical-align: top;\n",
              "    }\n",
              "\n",
              "    .dataframe thead th {\n",
              "        text-align: right;\n",
              "    }\n",
              "</style>\n",
              "<table border=\"1\" class=\"dataframe\">\n",
              "  <thead>\n",
              "    <tr style=\"text-align: right;\">\n",
              "      <th></th>\n",
              "      <th>CIF_NO</th>\n",
              "      <th>TRX_DATE</th>\n",
              "      <th>RECID</th>\n",
              "      <th>TIME</th>\n",
              "      <th>ACCOUNT_NO</th>\n",
              "      <th>AT_CHG_CODE</th>\n",
              "      <th>AT_CHG_DESC</th>\n",
              "      <th>CHANNEL</th>\n",
              "      <th>CHANNEL2</th>\n",
              "      <th>CATEGORY</th>\n",
              "      <th>DETAIL_CATEGORY</th>\n",
              "      <th>ISSUER</th>\n",
              "      <th>STATUS</th>\n",
              "      <th>AREA_ACCOUNT</th>\n",
              "      <th>REGION_ACCOUNT</th>\n",
              "      <th>AMT_TRX</th>\n",
              "    </tr>\n",
              "    <tr>\n",
              "      <th>AREA</th>\n",
              "      <th></th>\n",
              "      <th></th>\n",
              "      <th></th>\n",
              "      <th></th>\n",
              "      <th></th>\n",
              "      <th></th>\n",
              "      <th></th>\n",
              "      <th></th>\n",
              "      <th></th>\n",
              "      <th></th>\n",
              "      <th></th>\n",
              "      <th></th>\n",
              "      <th></th>\n",
              "      <th></th>\n",
              "      <th></th>\n",
              "      <th></th>\n",
              "    </tr>\n",
              "  </thead>\n",
              "  <tbody>\n",
              "    <tr>\n",
              "      <th>BANDUNG</th>\n",
              "      <td>70456</td>\n",
              "      <td>70456</td>\n",
              "      <td>70456</td>\n",
              "      <td>70456</td>\n",
              "      <td>70456</td>\n",
              "      <td>70456</td>\n",
              "      <td>70065</td>\n",
              "      <td>70456</td>\n",
              "      <td>70449</td>\n",
              "      <td>69869</td>\n",
              "      <td>69869</td>\n",
              "      <td>59323</td>\n",
              "      <td>69868</td>\n",
              "      <td>70456</td>\n",
              "      <td>70456</td>\n",
              "      <td>70456</td>\n",
              "    </tr>\n",
              "    <tr>\n",
              "      <th>BANJARMASIN</th>\n",
              "      <td>56026</td>\n",
              "      <td>56026</td>\n",
              "      <td>56026</td>\n",
              "      <td>56026</td>\n",
              "      <td>56026</td>\n",
              "      <td>56026</td>\n",
              "      <td>55852</td>\n",
              "      <td>56026</td>\n",
              "      <td>56026</td>\n",
              "      <td>55798</td>\n",
              "      <td>55798</td>\n",
              "      <td>52428</td>\n",
              "      <td>55796</td>\n",
              "      <td>56026</td>\n",
              "      <td>56026</td>\n",
              "      <td>56026</td>\n",
              "    </tr>\n",
              "    <tr>\n",
              "      <th>JAKARTA</th>\n",
              "      <td>321230</td>\n",
              "      <td>321230</td>\n",
              "      <td>321230</td>\n",
              "      <td>321230</td>\n",
              "      <td>321230</td>\n",
              "      <td>321230</td>\n",
              "      <td>320533</td>\n",
              "      <td>321230</td>\n",
              "      <td>321228</td>\n",
              "      <td>320110</td>\n",
              "      <td>320110</td>\n",
              "      <td>273967</td>\n",
              "      <td>320110</td>\n",
              "      <td>321230</td>\n",
              "      <td>321230</td>\n",
              "      <td>321230</td>\n",
              "    </tr>\n",
              "    <tr>\n",
              "      <th>MAKASSAR</th>\n",
              "      <td>63153</td>\n",
              "      <td>63153</td>\n",
              "      <td>63153</td>\n",
              "      <td>63153</td>\n",
              "      <td>63153</td>\n",
              "      <td>63153</td>\n",
              "      <td>62989</td>\n",
              "      <td>63153</td>\n",
              "      <td>63153</td>\n",
              "      <td>62914</td>\n",
              "      <td>62914</td>\n",
              "      <td>57538</td>\n",
              "      <td>62914</td>\n",
              "      <td>63153</td>\n",
              "      <td>63153</td>\n",
              "      <td>63153</td>\n",
              "    </tr>\n",
              "    <tr>\n",
              "      <th>MEDAN</th>\n",
              "      <td>117489</td>\n",
              "      <td>117489</td>\n",
              "      <td>117489</td>\n",
              "      <td>117489</td>\n",
              "      <td>117489</td>\n",
              "      <td>117489</td>\n",
              "      <td>116540</td>\n",
              "      <td>116956</td>\n",
              "      <td>116956</td>\n",
              "      <td>116339</td>\n",
              "      <td>116339</td>\n",
              "      <td>106725</td>\n",
              "      <td>116339</td>\n",
              "      <td>117489</td>\n",
              "      <td>117489</td>\n",
              "      <td>117489</td>\n",
              "    </tr>\n",
              "    <tr>\n",
              "      <th>PALEMBANG</th>\n",
              "      <td>72410</td>\n",
              "      <td>72410</td>\n",
              "      <td>72410</td>\n",
              "      <td>72410</td>\n",
              "      <td>72410</td>\n",
              "      <td>72410</td>\n",
              "      <td>71321</td>\n",
              "      <td>72410</td>\n",
              "      <td>72409</td>\n",
              "      <td>70964</td>\n",
              "      <td>70964</td>\n",
              "      <td>64600</td>\n",
              "      <td>70963</td>\n",
              "      <td>72410</td>\n",
              "      <td>72410</td>\n",
              "      <td>72410</td>\n",
              "    </tr>\n",
              "    <tr>\n",
              "      <th>SEMARANG</th>\n",
              "      <td>75857</td>\n",
              "      <td>75857</td>\n",
              "      <td>75857</td>\n",
              "      <td>75857</td>\n",
              "      <td>75857</td>\n",
              "      <td>75857</td>\n",
              "      <td>75362</td>\n",
              "      <td>75857</td>\n",
              "      <td>75857</td>\n",
              "      <td>75303</td>\n",
              "      <td>75303</td>\n",
              "      <td>66247</td>\n",
              "      <td>75303</td>\n",
              "      <td>75857</td>\n",
              "      <td>75857</td>\n",
              "      <td>75857</td>\n",
              "    </tr>\n",
              "    <tr>\n",
              "      <th>SURABAYA</th>\n",
              "      <td>90050</td>\n",
              "      <td>90050</td>\n",
              "      <td>90050</td>\n",
              "      <td>90050</td>\n",
              "      <td>90050</td>\n",
              "      <td>90050</td>\n",
              "      <td>89930</td>\n",
              "      <td>90049</td>\n",
              "      <td>90049</td>\n",
              "      <td>89876</td>\n",
              "      <td>89876</td>\n",
              "      <td>78967</td>\n",
              "      <td>89875</td>\n",
              "      <td>90050</td>\n",
              "      <td>90050</td>\n",
              "      <td>90050</td>\n",
              "    </tr>\n",
              "  </tbody>\n",
              "</table>\n",
              "</div>"
            ],
            "text/plain": [
              "             CIF_NO  TRX_DATE   RECID  ...  AREA_ACCOUNT  REGION_ACCOUNT  AMT_TRX\n",
              "AREA                                   ...                                       \n",
              "BANDUNG       70456     70456   70456  ...         70456           70456    70456\n",
              "BANJARMASIN   56026     56026   56026  ...         56026           56026    56026\n",
              "JAKARTA      321230    321230  321230  ...        321230          321230   321230\n",
              "MAKASSAR      63153     63153   63153  ...         63153           63153    63153\n",
              "MEDAN        117489    117489  117489  ...        117489          117489   117489\n",
              "PALEMBANG     72410     72410   72410  ...         72410           72410    72410\n",
              "SEMARANG      75857     75857   75857  ...         75857           75857    75857\n",
              "SURABAYA      90050     90050   90050  ...         90050           90050    90050\n",
              "\n",
              "[8 rows x 16 columns]"
            ]
          },
          "metadata": {
            "tags": []
          },
          "execution_count": 29
        }
      ]
    },
    {
      "cell_type": "code",
      "metadata": {
        "id": "tTNjrilN0DPF",
        "colab_type": "code",
        "outputId": "9045b478-57c5-4401-bb9d-7bde761b0ebd",
        "colab": {
          "base_uri": "https://localhost:8080/",
          "height": 187
        }
      },
      "source": [
        "trans.groupby('AREA')['CIF_NO'].nunique()"
      ],
      "execution_count": 30,
      "outputs": [
        {
          "output_type": "execute_result",
          "data": {
            "text/plain": [
              "AREA\n",
              "BANDUNG         769\n",
              "BANJARMASIN     604\n",
              "JAKARTA        3157\n",
              "MAKASSAR        637\n",
              "MEDAN          1264\n",
              "PALEMBANG       852\n",
              "SEMARANG        873\n",
              "SURABAYA       1044\n",
              "Name: CIF_NO, dtype: int64"
            ]
          },
          "metadata": {
            "tags": []
          },
          "execution_count": 30
        }
      ]
    },
    {
      "cell_type": "code",
      "metadata": {
        "id": "0W_mS5lC0E_t",
        "colab_type": "code",
        "colab": {}
      },
      "source": [
        "data = {'AREA': ['BANDUNG','BANJARMASIN','JAKARTA','MAKASSAR','MEDAN','PALEMBANG','SEMARANG','SURABAYA'], 'District':['Jawa Barat','KALIMANTAN SELATAN','DKI JAKARTA','SUMATERA SELATAN',\n",
        "                                                                                                                      'SUMATERA UTARA','SUMATERA SELATAN','Jawa','Jawa Timur']}"
      ],
      "execution_count": 0,
      "outputs": []
    },
    {
      "cell_type": "code",
      "metadata": {
        "id": "lJyVFoFm0JiC",
        "colab_type": "code",
        "outputId": "a791d28b-61ea-4aa6-c97f-5373abe7f222",
        "colab": {
          "base_uri": "https://localhost:8080/",
          "height": 204
        }
      },
      "source": [
        "df = pd.DataFrame(data)\n",
        "df.head()"
      ],
      "execution_count": 32,
      "outputs": [
        {
          "output_type": "execute_result",
          "data": {
            "text/html": [
              "<div>\n",
              "<style scoped>\n",
              "    .dataframe tbody tr th:only-of-type {\n",
              "        vertical-align: middle;\n",
              "    }\n",
              "\n",
              "    .dataframe tbody tr th {\n",
              "        vertical-align: top;\n",
              "    }\n",
              "\n",
              "    .dataframe thead th {\n",
              "        text-align: right;\n",
              "    }\n",
              "</style>\n",
              "<table border=\"1\" class=\"dataframe\">\n",
              "  <thead>\n",
              "    <tr style=\"text-align: right;\">\n",
              "      <th></th>\n",
              "      <th>AREA</th>\n",
              "      <th>District</th>\n",
              "    </tr>\n",
              "  </thead>\n",
              "  <tbody>\n",
              "    <tr>\n",
              "      <th>0</th>\n",
              "      <td>BANDUNG</td>\n",
              "      <td>Jawa Barat</td>\n",
              "    </tr>\n",
              "    <tr>\n",
              "      <th>1</th>\n",
              "      <td>BANJARMASIN</td>\n",
              "      <td>KALIMANTAN SELATAN</td>\n",
              "    </tr>\n",
              "    <tr>\n",
              "      <th>2</th>\n",
              "      <td>JAKARTA</td>\n",
              "      <td>DKI JAKARTA</td>\n",
              "    </tr>\n",
              "    <tr>\n",
              "      <th>3</th>\n",
              "      <td>MAKASSAR</td>\n",
              "      <td>SUMATERA SELATAN</td>\n",
              "    </tr>\n",
              "    <tr>\n",
              "      <th>4</th>\n",
              "      <td>MEDAN</td>\n",
              "      <td>SUMATERA UTARA</td>\n",
              "    </tr>\n",
              "  </tbody>\n",
              "</table>\n",
              "</div>"
            ],
            "text/plain": [
              "          AREA            District\n",
              "0      BANDUNG          Jawa Barat\n",
              "1  BANJARMASIN  KALIMANTAN SELATAN\n",
              "2      JAKARTA         DKI JAKARTA\n",
              "3     MAKASSAR    SUMATERA SELATAN\n",
              "4        MEDAN      SUMATERA UTARA"
            ]
          },
          "metadata": {
            "tags": []
          },
          "execution_count": 32
        }
      ]
    },
    {
      "cell_type": "code",
      "metadata": {
        "id": "PhefWGtw0LSH",
        "colab_type": "code",
        "colab": {}
      },
      "source": [
        "trans_area = pd.merge(trans,df, on='AREA')"
      ],
      "execution_count": 0,
      "outputs": []
    },
    {
      "cell_type": "code",
      "metadata": {
        "id": "JPFYb-4L0N2I",
        "colab_type": "code",
        "outputId": "2036232a-f0b2-41d7-d683-168a55b6b133",
        "colab": {
          "base_uri": "https://localhost:8080/",
          "height": 289
        }
      },
      "source": [
        "trans_area.head()"
      ],
      "execution_count": 34,
      "outputs": [
        {
          "output_type": "execute_result",
          "data": {
            "text/html": [
              "<div>\n",
              "<style scoped>\n",
              "    .dataframe tbody tr th:only-of-type {\n",
              "        vertical-align: middle;\n",
              "    }\n",
              "\n",
              "    .dataframe tbody tr th {\n",
              "        vertical-align: top;\n",
              "    }\n",
              "\n",
              "    .dataframe thead th {\n",
              "        text-align: right;\n",
              "    }\n",
              "</style>\n",
              "<table border=\"1\" class=\"dataframe\">\n",
              "  <thead>\n",
              "    <tr style=\"text-align: right;\">\n",
              "      <th></th>\n",
              "      <th>CIF_NO</th>\n",
              "      <th>TRX_DATE</th>\n",
              "      <th>RECID</th>\n",
              "      <th>TIME</th>\n",
              "      <th>ACCOUNT_NO</th>\n",
              "      <th>AT_CHG_CODE</th>\n",
              "      <th>AT_CHG_DESC</th>\n",
              "      <th>CHANNEL</th>\n",
              "      <th>CHANNEL2</th>\n",
              "      <th>CATEGORY</th>\n",
              "      <th>DETAIL_CATEGORY</th>\n",
              "      <th>ISSUER</th>\n",
              "      <th>STATUS</th>\n",
              "      <th>AREA_ACCOUNT</th>\n",
              "      <th>REGION_ACCOUNT</th>\n",
              "      <th>AMT_TRX</th>\n",
              "      <th>AREA</th>\n",
              "      <th>District</th>\n",
              "    </tr>\n",
              "  </thead>\n",
              "  <tbody>\n",
              "    <tr>\n",
              "      <th>0</th>\n",
              "      <td>75227151</td>\n",
              "      <td>2019-10-16</td>\n",
              "      <td>FT19289WB8FL;1</td>\n",
              "      <td>14:57</td>\n",
              "      <td>7036330313</td>\n",
              "      <td>40111917</td>\n",
              "      <td>TRF BANKX TO PRIMA - BANKXMOBILE</td>\n",
              "      <td>MOBILE</td>\n",
              "      <td>MOBILE</td>\n",
              "      <td>TRANSFER</td>\n",
              "      <td>TRANSFER PRIMA</td>\n",
              "      <td>0</td>\n",
              "      <td>YES</td>\n",
              "      <td>AREA BALIKPAPAN</td>\n",
              "      <td>REGION VII/ BANJARMASIN</td>\n",
              "      <td>670000.0</td>\n",
              "      <td>BANJARMASIN</td>\n",
              "      <td>KALIMANTAN SELATAN</td>\n",
              "    </tr>\n",
              "    <tr>\n",
              "      <th>1</th>\n",
              "      <td>75227151</td>\n",
              "      <td>2019-10-09</td>\n",
              "      <td>FT192827FX5M;1</td>\n",
              "      <td>16:05</td>\n",
              "      <td>7036330313</td>\n",
              "      <td>40111117</td>\n",
              "      <td>TRF BANKX TO BANKX - BANKXMOBILE</td>\n",
              "      <td>MOBILE</td>\n",
              "      <td>MOBILE</td>\n",
              "      <td>TRANSFER</td>\n",
              "      <td>TRANSFER PINBUK</td>\n",
              "      <td>0</td>\n",
              "      <td>YES</td>\n",
              "      <td>AREA BALIKPAPAN</td>\n",
              "      <td>REGION VII/ BANJARMASIN</td>\n",
              "      <td>20000.0</td>\n",
              "      <td>BANJARMASIN</td>\n",
              "      <td>KALIMANTAN SELATAN</td>\n",
              "    </tr>\n",
              "    <tr>\n",
              "      <th>2</th>\n",
              "      <td>75227151</td>\n",
              "      <td>2019-10-25</td>\n",
              "      <td>FT19298TCCWJ;1</td>\n",
              "      <td>20:31</td>\n",
              "      <td>7036330313</td>\n",
              "      <td>40111117</td>\n",
              "      <td>TRF BANKX TO BANKX - BANKXMOBILE</td>\n",
              "      <td>MOBILE</td>\n",
              "      <td>MOBILE</td>\n",
              "      <td>TRANSFER</td>\n",
              "      <td>TRANSFER PINBUK</td>\n",
              "      <td>0</td>\n",
              "      <td>YES</td>\n",
              "      <td>AREA BALIKPAPAN</td>\n",
              "      <td>REGION VII/ BANJARMASIN</td>\n",
              "      <td>186000.0</td>\n",
              "      <td>BANJARMASIN</td>\n",
              "      <td>KALIMANTAN SELATAN</td>\n",
              "    </tr>\n",
              "    <tr>\n",
              "      <th>3</th>\n",
              "      <td>75227151</td>\n",
              "      <td>2019-10-08</td>\n",
              "      <td>FT19281B8Y42;1</td>\n",
              "      <td>19:21</td>\n",
              "      <td>7036330313</td>\n",
              "      <td>40111117</td>\n",
              "      <td>TRF BANKX TO BANKX - BANKXMOBILE</td>\n",
              "      <td>MOBILE</td>\n",
              "      <td>MOBILE</td>\n",
              "      <td>TRANSFER</td>\n",
              "      <td>TRANSFER PINBUK</td>\n",
              "      <td>0</td>\n",
              "      <td>YES</td>\n",
              "      <td>AREA BALIKPAPAN</td>\n",
              "      <td>REGION VII/ BANJARMASIN</td>\n",
              "      <td>70000.0</td>\n",
              "      <td>BANJARMASIN</td>\n",
              "      <td>KALIMANTAN SELATAN</td>\n",
              "    </tr>\n",
              "    <tr>\n",
              "      <th>4</th>\n",
              "      <td>75227151</td>\n",
              "      <td>2019-10-09</td>\n",
              "      <td>FT19282XLLMN;1</td>\n",
              "      <td>07:28</td>\n",
              "      <td>7036330313</td>\n",
              "      <td>40111117</td>\n",
              "      <td>TRF BANKX TO BANKX - BANKXMOBILE</td>\n",
              "      <td>MOBILE</td>\n",
              "      <td>MOBILE</td>\n",
              "      <td>TRANSFER</td>\n",
              "      <td>TRANSFER PINBUK</td>\n",
              "      <td>0</td>\n",
              "      <td>YES</td>\n",
              "      <td>AREA BALIKPAPAN</td>\n",
              "      <td>REGION VII/ BANJARMASIN</td>\n",
              "      <td>40000.0</td>\n",
              "      <td>BANJARMASIN</td>\n",
              "      <td>KALIMANTAN SELATAN</td>\n",
              "    </tr>\n",
              "  </tbody>\n",
              "</table>\n",
              "</div>"
            ],
            "text/plain": [
              "     CIF_NO    TRX_DATE  ...         AREA            District\n",
              "0  75227151  2019-10-16  ...  BANJARMASIN  KALIMANTAN SELATAN\n",
              "1  75227151  2019-10-09  ...  BANJARMASIN  KALIMANTAN SELATAN\n",
              "2  75227151  2019-10-25  ...  BANJARMASIN  KALIMANTAN SELATAN\n",
              "3  75227151  2019-10-08  ...  BANJARMASIN  KALIMANTAN SELATAN\n",
              "4  75227151  2019-10-09  ...  BANJARMASIN  KALIMANTAN SELATAN\n",
              "\n",
              "[5 rows x 18 columns]"
            ]
          },
          "metadata": {
            "tags": []
          },
          "execution_count": 34
        }
      ]
    },
    {
      "cell_type": "code",
      "metadata": {
        "id": "fuKHscJW0PtE",
        "colab_type": "code",
        "colab": {}
      },
      "source": [
        "trans_area = pd.merge(trans_area,area_district,on='District')"
      ],
      "execution_count": 0,
      "outputs": []
    },
    {
      "cell_type": "code",
      "metadata": {
        "id": "Yq5CFgBJ0TjH",
        "colab_type": "code",
        "outputId": "d47511d7-e415-44f6-a9b2-5c9785fbd614",
        "colab": {
          "base_uri": "https://localhost:8080/",
          "height": 374
        }
      },
      "source": [
        "trans_area.head()"
      ],
      "execution_count": 36,
      "outputs": [
        {
          "output_type": "execute_result",
          "data": {
            "text/html": [
              "<div>\n",
              "<style scoped>\n",
              "    .dataframe tbody tr th:only-of-type {\n",
              "        vertical-align: middle;\n",
              "    }\n",
              "\n",
              "    .dataframe tbody tr th {\n",
              "        vertical-align: top;\n",
              "    }\n",
              "\n",
              "    .dataframe thead th {\n",
              "        text-align: right;\n",
              "    }\n",
              "</style>\n",
              "<table border=\"1\" class=\"dataframe\">\n",
              "  <thead>\n",
              "    <tr style=\"text-align: right;\">\n",
              "      <th></th>\n",
              "      <th>CIF_NO</th>\n",
              "      <th>TRX_DATE</th>\n",
              "      <th>RECID</th>\n",
              "      <th>TIME</th>\n",
              "      <th>ACCOUNT_NO</th>\n",
              "      <th>AT_CHG_CODE</th>\n",
              "      <th>AT_CHG_DESC</th>\n",
              "      <th>CHANNEL</th>\n",
              "      <th>CHANNEL2</th>\n",
              "      <th>CATEGORY</th>\n",
              "      <th>DETAIL_CATEGORY</th>\n",
              "      <th>ISSUER</th>\n",
              "      <th>STATUS</th>\n",
              "      <th>AREA_ACCOUNT</th>\n",
              "      <th>REGION_ACCOUNT</th>\n",
              "      <th>AMT_TRX</th>\n",
              "      <th>AREA</th>\n",
              "      <th>District</th>\n",
              "      <th>pci_score</th>\n",
              "    </tr>\n",
              "  </thead>\n",
              "  <tbody>\n",
              "    <tr>\n",
              "      <th>0</th>\n",
              "      <td>75227151</td>\n",
              "      <td>2019-10-16</td>\n",
              "      <td>FT19289WB8FL;1</td>\n",
              "      <td>14:57</td>\n",
              "      <td>7036330313</td>\n",
              "      <td>40111917</td>\n",
              "      <td>TRF BANKX TO PRIMA - BANKXMOBILE</td>\n",
              "      <td>MOBILE</td>\n",
              "      <td>MOBILE</td>\n",
              "      <td>TRANSFER</td>\n",
              "      <td>TRANSFER PRIMA</td>\n",
              "      <td>0</td>\n",
              "      <td>YES</td>\n",
              "      <td>AREA BALIKPAPAN</td>\n",
              "      <td>REGION VII/ BANJARMASIN</td>\n",
              "      <td>670000.0</td>\n",
              "      <td>BANJARMASIN</td>\n",
              "      <td>KALIMANTAN SELATAN</td>\n",
              "      <td>2.0</td>\n",
              "    </tr>\n",
              "    <tr>\n",
              "      <th>1</th>\n",
              "      <td>75227151</td>\n",
              "      <td>2019-10-16</td>\n",
              "      <td>FT19289WB8FL;1</td>\n",
              "      <td>14:57</td>\n",
              "      <td>7036330313</td>\n",
              "      <td>40111917</td>\n",
              "      <td>TRF BANKX TO PRIMA - BANKXMOBILE</td>\n",
              "      <td>MOBILE</td>\n",
              "      <td>MOBILE</td>\n",
              "      <td>TRANSFER</td>\n",
              "      <td>TRANSFER PRIMA</td>\n",
              "      <td>0</td>\n",
              "      <td>YES</td>\n",
              "      <td>AREA BALIKPAPAN</td>\n",
              "      <td>REGION VII/ BANJARMASIN</td>\n",
              "      <td>670000.0</td>\n",
              "      <td>BANJARMASIN</td>\n",
              "      <td>KALIMANTAN SELATAN</td>\n",
              "      <td>2.0</td>\n",
              "    </tr>\n",
              "    <tr>\n",
              "      <th>2</th>\n",
              "      <td>75227151</td>\n",
              "      <td>2019-10-16</td>\n",
              "      <td>FT19289WB8FL;1</td>\n",
              "      <td>14:57</td>\n",
              "      <td>7036330313</td>\n",
              "      <td>40111917</td>\n",
              "      <td>TRF BANKX TO PRIMA - BANKXMOBILE</td>\n",
              "      <td>MOBILE</td>\n",
              "      <td>MOBILE</td>\n",
              "      <td>TRANSFER</td>\n",
              "      <td>TRANSFER PRIMA</td>\n",
              "      <td>0</td>\n",
              "      <td>YES</td>\n",
              "      <td>AREA BALIKPAPAN</td>\n",
              "      <td>REGION VII/ BANJARMASIN</td>\n",
              "      <td>670000.0</td>\n",
              "      <td>BANJARMASIN</td>\n",
              "      <td>KALIMANTAN SELATAN</td>\n",
              "      <td>2.0</td>\n",
              "    </tr>\n",
              "    <tr>\n",
              "      <th>3</th>\n",
              "      <td>75227151</td>\n",
              "      <td>2019-10-16</td>\n",
              "      <td>FT19289WB8FL;1</td>\n",
              "      <td>14:57</td>\n",
              "      <td>7036330313</td>\n",
              "      <td>40111917</td>\n",
              "      <td>TRF BANKX TO PRIMA - BANKXMOBILE</td>\n",
              "      <td>MOBILE</td>\n",
              "      <td>MOBILE</td>\n",
              "      <td>TRANSFER</td>\n",
              "      <td>TRANSFER PRIMA</td>\n",
              "      <td>0</td>\n",
              "      <td>YES</td>\n",
              "      <td>AREA BALIKPAPAN</td>\n",
              "      <td>REGION VII/ BANJARMASIN</td>\n",
              "      <td>670000.0</td>\n",
              "      <td>BANJARMASIN</td>\n",
              "      <td>KALIMANTAN SELATAN</td>\n",
              "      <td>2.0</td>\n",
              "    </tr>\n",
              "    <tr>\n",
              "      <th>4</th>\n",
              "      <td>75227151</td>\n",
              "      <td>2019-10-16</td>\n",
              "      <td>FT19289WB8FL;1</td>\n",
              "      <td>14:57</td>\n",
              "      <td>7036330313</td>\n",
              "      <td>40111917</td>\n",
              "      <td>TRF BANKX TO PRIMA - BANKXMOBILE</td>\n",
              "      <td>MOBILE</td>\n",
              "      <td>MOBILE</td>\n",
              "      <td>TRANSFER</td>\n",
              "      <td>TRANSFER PRIMA</td>\n",
              "      <td>0</td>\n",
              "      <td>YES</td>\n",
              "      <td>AREA BALIKPAPAN</td>\n",
              "      <td>REGION VII/ BANJARMASIN</td>\n",
              "      <td>670000.0</td>\n",
              "      <td>BANJARMASIN</td>\n",
              "      <td>KALIMANTAN SELATAN</td>\n",
              "      <td>2.0</td>\n",
              "    </tr>\n",
              "  </tbody>\n",
              "</table>\n",
              "</div>"
            ],
            "text/plain": [
              "     CIF_NO    TRX_DATE  ...            District pci_score\n",
              "0  75227151  2019-10-16  ...  KALIMANTAN SELATAN       2.0\n",
              "1  75227151  2019-10-16  ...  KALIMANTAN SELATAN       2.0\n",
              "2  75227151  2019-10-16  ...  KALIMANTAN SELATAN       2.0\n",
              "3  75227151  2019-10-16  ...  KALIMANTAN SELATAN       2.0\n",
              "4  75227151  2019-10-16  ...  KALIMANTAN SELATAN       2.0\n",
              "\n",
              "[5 rows x 19 columns]"
            ]
          },
          "metadata": {
            "tags": []
          },
          "execution_count": 36
        }
      ]
    },
    {
      "cell_type": "code",
      "metadata": {
        "id": "YaqCqsOpwAMj",
        "colab_type": "code",
        "outputId": "769027ae-6de5-4e61-9c87-e904de712beb",
        "colab": {
          "base_uri": "https://localhost:8080/",
          "height": 136
        }
      },
      "source": [
        "trans_area.groupby(['pci_score','AREA'])['CIF_NO'].nunique()"
      ],
      "execution_count": 37,
      "outputs": [
        {
          "output_type": "execute_result",
          "data": {
            "text/plain": [
              "pci_score  AREA       \n",
              "2.0        BANJARMASIN     604\n",
              "           MAKASSAR        637\n",
              "           MEDAN          1264\n",
              "           PALEMBANG       852\n",
              "3.0        JAKARTA        3157\n",
              "Name: CIF_NO, dtype: int64"
            ]
          },
          "metadata": {
            "tags": []
          },
          "execution_count": 37
        }
      ]
    },
    {
      "cell_type": "code",
      "metadata": {
        "id": "vIsrCb3LmVxt",
        "colab_type": "code",
        "colab": {}
      },
      "source": [
        "job_title = '/content/gdrive/My Drive/Omdena Creedix/data/Job_Title.csv'"
      ],
      "execution_count": 0,
      "outputs": []
    },
    {
      "cell_type": "code",
      "metadata": {
        "id": "0CSEgSt7mbWo",
        "colab_type": "code",
        "colab": {}
      },
      "source": [
        "job = pd.read_csv(job_title)"
      ],
      "execution_count": 0,
      "outputs": []
    },
    {
      "cell_type": "code",
      "metadata": {
        "id": "Kd6sfXc1mdPP",
        "colab_type": "code",
        "colab": {
          "base_uri": "https://localhost:8080/",
          "height": 34
        },
        "outputId": "d6bf0052-48b6-4248-b10b-f14fd0bbb39f"
      },
      "source": [
        "job.columns"
      ],
      "execution_count": 40,
      "outputs": [
        {
          "output_type": "execute_result",
          "data": {
            "text/plain": [
              "Index(['CIF_NO', 'Job Title'], dtype='object')"
            ]
          },
          "metadata": {
            "tags": []
          },
          "execution_count": 40
        }
      ]
    },
    {
      "cell_type": "code",
      "metadata": {
        "id": "IIwqek7Ime9c",
        "colab_type": "code",
        "colab": {
          "base_uri": "https://localhost:8080/",
          "height": 68
        },
        "outputId": "97082c4a-a948-450b-95a5-5f9cfd4b1539"
      },
      "source": [
        "job.dtypes"
      ],
      "execution_count": 41,
      "outputs": [
        {
          "output_type": "execute_result",
          "data": {
            "text/plain": [
              "CIF_NO       float64\n",
              "Job Title     object\n",
              "dtype: object"
            ]
          },
          "metadata": {
            "tags": []
          },
          "execution_count": 41
        }
      ]
    },
    {
      "cell_type": "code",
      "metadata": {
        "id": "iq7MjiHmmgz9",
        "colab_type": "code",
        "colab": {
          "base_uri": "https://localhost:8080/",
          "height": 204
        },
        "outputId": "c203daf9-5d7a-447f-c449-fd52c23ab12f"
      },
      "source": [
        "job.head()"
      ],
      "execution_count": 42,
      "outputs": [
        {
          "output_type": "execute_result",
          "data": {
            "text/html": [
              "<div>\n",
              "<style scoped>\n",
              "    .dataframe tbody tr th:only-of-type {\n",
              "        vertical-align: middle;\n",
              "    }\n",
              "\n",
              "    .dataframe tbody tr th {\n",
              "        vertical-align: top;\n",
              "    }\n",
              "\n",
              "    .dataframe thead th {\n",
              "        text-align: right;\n",
              "    }\n",
              "</style>\n",
              "<table border=\"1\" class=\"dataframe\">\n",
              "  <thead>\n",
              "    <tr style=\"text-align: right;\">\n",
              "      <th></th>\n",
              "      <th>CIF_NO</th>\n",
              "      <th>Job Title</th>\n",
              "    </tr>\n",
              "  </thead>\n",
              "  <tbody>\n",
              "    <tr>\n",
              "      <th>0</th>\n",
              "      <td>73122693.0</td>\n",
              "      <td>Area Manager</td>\n",
              "    </tr>\n",
              "    <tr>\n",
              "      <th>1</th>\n",
              "      <td>73152323.0</td>\n",
              "      <td>Regional Business Strategy &amp; Support Manager</td>\n",
              "    </tr>\n",
              "    <tr>\n",
              "      <th>2</th>\n",
              "      <td>73171319.0</td>\n",
              "      <td>Posting Control Officer</td>\n",
              "    </tr>\n",
              "    <tr>\n",
              "      <th>3</th>\n",
              "      <td>73266627.0</td>\n",
              "      <td>Professional Staff</td>\n",
              "    </tr>\n",
              "    <tr>\n",
              "      <th>4</th>\n",
              "      <td>73266639.0</td>\n",
              "      <td>Head Office Audit Department Head</td>\n",
              "    </tr>\n",
              "  </tbody>\n",
              "</table>\n",
              "</div>"
            ],
            "text/plain": [
              "       CIF_NO                                     Job Title\n",
              "0  73122693.0                                  Area Manager\n",
              "1  73152323.0  Regional Business Strategy & Support Manager\n",
              "2  73171319.0                       Posting Control Officer\n",
              "3  73266627.0                            Professional Staff\n",
              "4  73266639.0             Head Office Audit Department Head"
            ]
          },
          "metadata": {
            "tags": []
          },
          "execution_count": 42
        }
      ]
    },
    {
      "cell_type": "code",
      "metadata": {
        "id": "Uj23-s8bmiqO",
        "colab_type": "code",
        "colab": {
          "base_uri": "https://localhost:8080/",
          "height": 68
        },
        "outputId": "ef5634a3-796f-495a-fc62-c840d3b5e420"
      },
      "source": [
        "job.isna().sum()"
      ],
      "execution_count": 43,
      "outputs": [
        {
          "output_type": "execute_result",
          "data": {
            "text/plain": [
              "CIF_NO       1\n",
              "Job Title    0\n",
              "dtype: int64"
            ]
          },
          "metadata": {
            "tags": []
          },
          "execution_count": 43
        }
      ]
    },
    {
      "cell_type": "code",
      "metadata": {
        "id": "KRr01v1_mk-e",
        "colab_type": "code",
        "colab": {}
      },
      "source": [
        "job = job.dropna()"
      ],
      "execution_count": 0,
      "outputs": []
    },
    {
      "cell_type": "code",
      "metadata": {
        "id": "ZQr1CQA-mnRh",
        "colab_type": "code",
        "colab": {}
      },
      "source": [
        "job[\"CIF_NO\"] = job[\"CIF_NO\"].astype(int)"
      ],
      "execution_count": 0,
      "outputs": []
    },
    {
      "cell_type": "code",
      "metadata": {
        "id": "D00DcW2Umpsv",
        "colab_type": "code",
        "colab": {
          "base_uri": "https://localhost:8080/",
          "height": 68
        },
        "outputId": "33452649-b045-4a72-da65-6c5e9fae0f6a"
      },
      "source": [
        "job.dtypes"
      ],
      "execution_count": 46,
      "outputs": [
        {
          "output_type": "execute_result",
          "data": {
            "text/plain": [
              "CIF_NO        int64\n",
              "Job Title    object\n",
              "dtype: object"
            ]
          },
          "metadata": {
            "tags": []
          },
          "execution_count": 46
        }
      ]
    },
    {
      "cell_type": "code",
      "metadata": {
        "id": "q5sltJe4msAu",
        "colab_type": "code",
        "colab": {}
      },
      "source": [
        "job_merge = pd.merge(trans_area, job, on='CIF_NO')"
      ],
      "execution_count": 0,
      "outputs": []
    },
    {
      "cell_type": "code",
      "metadata": {
        "id": "m__Gpp6_mw9m",
        "colab_type": "code",
        "colab": {
          "base_uri": "https://localhost:8080/",
          "height": 411
        },
        "outputId": "85a07b8f-2d31-474a-80a4-805500ad3f33"
      },
      "source": [
        "job_merge.head()"
      ],
      "execution_count": 48,
      "outputs": [
        {
          "output_type": "execute_result",
          "data": {
            "text/html": [
              "<div>\n",
              "<style scoped>\n",
              "    .dataframe tbody tr th:only-of-type {\n",
              "        vertical-align: middle;\n",
              "    }\n",
              "\n",
              "    .dataframe tbody tr th {\n",
              "        vertical-align: top;\n",
              "    }\n",
              "\n",
              "    .dataframe thead th {\n",
              "        text-align: right;\n",
              "    }\n",
              "</style>\n",
              "<table border=\"1\" class=\"dataframe\">\n",
              "  <thead>\n",
              "    <tr style=\"text-align: right;\">\n",
              "      <th></th>\n",
              "      <th>CIF_NO</th>\n",
              "      <th>TRX_DATE</th>\n",
              "      <th>RECID</th>\n",
              "      <th>TIME</th>\n",
              "      <th>ACCOUNT_NO</th>\n",
              "      <th>AT_CHG_CODE</th>\n",
              "      <th>AT_CHG_DESC</th>\n",
              "      <th>CHANNEL</th>\n",
              "      <th>CHANNEL2</th>\n",
              "      <th>CATEGORY</th>\n",
              "      <th>DETAIL_CATEGORY</th>\n",
              "      <th>ISSUER</th>\n",
              "      <th>STATUS</th>\n",
              "      <th>AREA_ACCOUNT</th>\n",
              "      <th>REGION_ACCOUNT</th>\n",
              "      <th>AMT_TRX</th>\n",
              "      <th>AREA</th>\n",
              "      <th>District</th>\n",
              "      <th>pci_score</th>\n",
              "      <th>Job Title</th>\n",
              "    </tr>\n",
              "  </thead>\n",
              "  <tbody>\n",
              "    <tr>\n",
              "      <th>0</th>\n",
              "      <td>75227151</td>\n",
              "      <td>2019-10-16</td>\n",
              "      <td>FT19289WB8FL;1</td>\n",
              "      <td>14:57</td>\n",
              "      <td>7036330313</td>\n",
              "      <td>40111917</td>\n",
              "      <td>TRF BANKX TO PRIMA - BANKXMOBILE</td>\n",
              "      <td>MOBILE</td>\n",
              "      <td>MOBILE</td>\n",
              "      <td>TRANSFER</td>\n",
              "      <td>TRANSFER PRIMA</td>\n",
              "      <td>0</td>\n",
              "      <td>YES</td>\n",
              "      <td>AREA BALIKPAPAN</td>\n",
              "      <td>REGION VII/ BANJARMASIN</td>\n",
              "      <td>670000.0</td>\n",
              "      <td>BANJARMASIN</td>\n",
              "      <td>KALIMANTAN SELATAN</td>\n",
              "      <td>2.0</td>\n",
              "      <td>Pawning Staff</td>\n",
              "    </tr>\n",
              "    <tr>\n",
              "      <th>1</th>\n",
              "      <td>75227151</td>\n",
              "      <td>2019-10-16</td>\n",
              "      <td>FT19289WB8FL;1</td>\n",
              "      <td>14:57</td>\n",
              "      <td>7036330313</td>\n",
              "      <td>40111917</td>\n",
              "      <td>TRF BANKX TO PRIMA - BANKXMOBILE</td>\n",
              "      <td>MOBILE</td>\n",
              "      <td>MOBILE</td>\n",
              "      <td>TRANSFER</td>\n",
              "      <td>TRANSFER PRIMA</td>\n",
              "      <td>0</td>\n",
              "      <td>YES</td>\n",
              "      <td>AREA BALIKPAPAN</td>\n",
              "      <td>REGION VII/ BANJARMASIN</td>\n",
              "      <td>670000.0</td>\n",
              "      <td>BANJARMASIN</td>\n",
              "      <td>KALIMANTAN SELATAN</td>\n",
              "      <td>2.0</td>\n",
              "      <td>Pawning Staff</td>\n",
              "    </tr>\n",
              "    <tr>\n",
              "      <th>2</th>\n",
              "      <td>75227151</td>\n",
              "      <td>2019-10-16</td>\n",
              "      <td>FT19289WB8FL;1</td>\n",
              "      <td>14:57</td>\n",
              "      <td>7036330313</td>\n",
              "      <td>40111917</td>\n",
              "      <td>TRF BANKX TO PRIMA - BANKXMOBILE</td>\n",
              "      <td>MOBILE</td>\n",
              "      <td>MOBILE</td>\n",
              "      <td>TRANSFER</td>\n",
              "      <td>TRANSFER PRIMA</td>\n",
              "      <td>0</td>\n",
              "      <td>YES</td>\n",
              "      <td>AREA BALIKPAPAN</td>\n",
              "      <td>REGION VII/ BANJARMASIN</td>\n",
              "      <td>670000.0</td>\n",
              "      <td>BANJARMASIN</td>\n",
              "      <td>KALIMANTAN SELATAN</td>\n",
              "      <td>2.0</td>\n",
              "      <td>Pawning Staff</td>\n",
              "    </tr>\n",
              "    <tr>\n",
              "      <th>3</th>\n",
              "      <td>75227151</td>\n",
              "      <td>2019-10-16</td>\n",
              "      <td>FT19289WB8FL;1</td>\n",
              "      <td>14:57</td>\n",
              "      <td>7036330313</td>\n",
              "      <td>40111917</td>\n",
              "      <td>TRF BANKX TO PRIMA - BANKXMOBILE</td>\n",
              "      <td>MOBILE</td>\n",
              "      <td>MOBILE</td>\n",
              "      <td>TRANSFER</td>\n",
              "      <td>TRANSFER PRIMA</td>\n",
              "      <td>0</td>\n",
              "      <td>YES</td>\n",
              "      <td>AREA BALIKPAPAN</td>\n",
              "      <td>REGION VII/ BANJARMASIN</td>\n",
              "      <td>670000.0</td>\n",
              "      <td>BANJARMASIN</td>\n",
              "      <td>KALIMANTAN SELATAN</td>\n",
              "      <td>2.0</td>\n",
              "      <td>Pawning Staff</td>\n",
              "    </tr>\n",
              "    <tr>\n",
              "      <th>4</th>\n",
              "      <td>75227151</td>\n",
              "      <td>2019-10-16</td>\n",
              "      <td>FT19289WB8FL;1</td>\n",
              "      <td>14:57</td>\n",
              "      <td>7036330313</td>\n",
              "      <td>40111917</td>\n",
              "      <td>TRF BANKX TO PRIMA - BANKXMOBILE</td>\n",
              "      <td>MOBILE</td>\n",
              "      <td>MOBILE</td>\n",
              "      <td>TRANSFER</td>\n",
              "      <td>TRANSFER PRIMA</td>\n",
              "      <td>0</td>\n",
              "      <td>YES</td>\n",
              "      <td>AREA BALIKPAPAN</td>\n",
              "      <td>REGION VII/ BANJARMASIN</td>\n",
              "      <td>670000.0</td>\n",
              "      <td>BANJARMASIN</td>\n",
              "      <td>KALIMANTAN SELATAN</td>\n",
              "      <td>2.0</td>\n",
              "      <td>Pawning Staff</td>\n",
              "    </tr>\n",
              "  </tbody>\n",
              "</table>\n",
              "</div>"
            ],
            "text/plain": [
              "     CIF_NO    TRX_DATE  ... pci_score      Job Title\n",
              "0  75227151  2019-10-16  ...       2.0  Pawning Staff\n",
              "1  75227151  2019-10-16  ...       2.0  Pawning Staff\n",
              "2  75227151  2019-10-16  ...       2.0  Pawning Staff\n",
              "3  75227151  2019-10-16  ...       2.0  Pawning Staff\n",
              "4  75227151  2019-10-16  ...       2.0  Pawning Staff\n",
              "\n",
              "[5 rows x 20 columns]"
            ]
          },
          "metadata": {
            "tags": []
          },
          "execution_count": 48
        }
      ]
    },
    {
      "cell_type": "code",
      "metadata": {
        "id": "8XLG3n4hmxh-",
        "colab_type": "code",
        "colab": {
          "base_uri": "https://localhost:8080/",
          "height": 374
        },
        "outputId": "b40631f7-f6ef-4d49-9e9b-3c33a188c276"
      },
      "source": [
        "job_merge.isna().sum()"
      ],
      "execution_count": 49,
      "outputs": [
        {
          "output_type": "execute_result",
          "data": {
            "text/plain": [
              "CIF_NO                  0\n",
              "TRX_DATE                0\n",
              "RECID                   0\n",
              "TIME                    0\n",
              "ACCOUNT_NO              0\n",
              "AT_CHG_CODE             0\n",
              "AT_CHG_DESC         15365\n",
              "CHANNEL              2665\n",
              "CHANNEL2             2680\n",
              "CATEGORY            20915\n",
              "DETAIL_CATEGORY     20915\n",
              "ISSUER             375250\n",
              "STATUS              20930\n",
              "AREA_ACCOUNT            0\n",
              "REGION_ACCOUNT          0\n",
              "AMT_TRX                 0\n",
              "AREA                    0\n",
              "District                0\n",
              "pci_score               0\n",
              "Job Title               0\n",
              "dtype: int64"
            ]
          },
          "metadata": {
            "tags": []
          },
          "execution_count": 49
        }
      ]
    },
    {
      "cell_type": "code",
      "metadata": {
        "id": "cq_KauNvLGNq",
        "colab_type": "code",
        "colab": {
          "base_uri": "https://localhost:8080/",
          "height": 34
        },
        "outputId": "baa8da6f-66d5-47be-cbe7-86d29f0f482a"
      },
      "source": [
        "job_merge.shape"
      ],
      "execution_count": 55,
      "outputs": [
        {
          "output_type": "execute_result",
          "data": {
            "text/plain": [
              "(2776275, 20)"
            ]
          },
          "metadata": {
            "tags": []
          },
          "execution_count": 55
        }
      ]
    },
    {
      "cell_type": "code",
      "metadata": {
        "id": "NbqdK7XomzuV",
        "colab_type": "code",
        "colab": {}
      },
      "source": [
        "job_merge =  job_merge.dropna()"
      ],
      "execution_count": 0,
      "outputs": []
    },
    {
      "cell_type": "code",
      "metadata": {
        "id": "m0Cwwwtjm4G-",
        "colab_type": "code",
        "colab": {
          "base_uri": "https://localhost:8080/",
          "height": 411
        },
        "outputId": "348a288b-bc78-481b-989a-ac7337016716"
      },
      "source": [
        "job_merge.head()"
      ],
      "execution_count": 51,
      "outputs": [
        {
          "output_type": "execute_result",
          "data": {
            "text/html": [
              "<div>\n",
              "<style scoped>\n",
              "    .dataframe tbody tr th:only-of-type {\n",
              "        vertical-align: middle;\n",
              "    }\n",
              "\n",
              "    .dataframe tbody tr th {\n",
              "        vertical-align: top;\n",
              "    }\n",
              "\n",
              "    .dataframe thead th {\n",
              "        text-align: right;\n",
              "    }\n",
              "</style>\n",
              "<table border=\"1\" class=\"dataframe\">\n",
              "  <thead>\n",
              "    <tr style=\"text-align: right;\">\n",
              "      <th></th>\n",
              "      <th>CIF_NO</th>\n",
              "      <th>TRX_DATE</th>\n",
              "      <th>RECID</th>\n",
              "      <th>TIME</th>\n",
              "      <th>ACCOUNT_NO</th>\n",
              "      <th>AT_CHG_CODE</th>\n",
              "      <th>AT_CHG_DESC</th>\n",
              "      <th>CHANNEL</th>\n",
              "      <th>CHANNEL2</th>\n",
              "      <th>CATEGORY</th>\n",
              "      <th>DETAIL_CATEGORY</th>\n",
              "      <th>ISSUER</th>\n",
              "      <th>STATUS</th>\n",
              "      <th>AREA_ACCOUNT</th>\n",
              "      <th>REGION_ACCOUNT</th>\n",
              "      <th>AMT_TRX</th>\n",
              "      <th>AREA</th>\n",
              "      <th>District</th>\n",
              "      <th>pci_score</th>\n",
              "      <th>Job Title</th>\n",
              "    </tr>\n",
              "  </thead>\n",
              "  <tbody>\n",
              "    <tr>\n",
              "      <th>0</th>\n",
              "      <td>75227151</td>\n",
              "      <td>2019-10-16</td>\n",
              "      <td>FT19289WB8FL;1</td>\n",
              "      <td>14:57</td>\n",
              "      <td>7036330313</td>\n",
              "      <td>40111917</td>\n",
              "      <td>TRF BANKX TO PRIMA - BANKXMOBILE</td>\n",
              "      <td>MOBILE</td>\n",
              "      <td>MOBILE</td>\n",
              "      <td>TRANSFER</td>\n",
              "      <td>TRANSFER PRIMA</td>\n",
              "      <td>0</td>\n",
              "      <td>YES</td>\n",
              "      <td>AREA BALIKPAPAN</td>\n",
              "      <td>REGION VII/ BANJARMASIN</td>\n",
              "      <td>670000.0</td>\n",
              "      <td>BANJARMASIN</td>\n",
              "      <td>KALIMANTAN SELATAN</td>\n",
              "      <td>2.0</td>\n",
              "      <td>Pawning Staff</td>\n",
              "    </tr>\n",
              "    <tr>\n",
              "      <th>1</th>\n",
              "      <td>75227151</td>\n",
              "      <td>2019-10-16</td>\n",
              "      <td>FT19289WB8FL;1</td>\n",
              "      <td>14:57</td>\n",
              "      <td>7036330313</td>\n",
              "      <td>40111917</td>\n",
              "      <td>TRF BANKX TO PRIMA - BANKXMOBILE</td>\n",
              "      <td>MOBILE</td>\n",
              "      <td>MOBILE</td>\n",
              "      <td>TRANSFER</td>\n",
              "      <td>TRANSFER PRIMA</td>\n",
              "      <td>0</td>\n",
              "      <td>YES</td>\n",
              "      <td>AREA BALIKPAPAN</td>\n",
              "      <td>REGION VII/ BANJARMASIN</td>\n",
              "      <td>670000.0</td>\n",
              "      <td>BANJARMASIN</td>\n",
              "      <td>KALIMANTAN SELATAN</td>\n",
              "      <td>2.0</td>\n",
              "      <td>Pawning Staff</td>\n",
              "    </tr>\n",
              "    <tr>\n",
              "      <th>2</th>\n",
              "      <td>75227151</td>\n",
              "      <td>2019-10-16</td>\n",
              "      <td>FT19289WB8FL;1</td>\n",
              "      <td>14:57</td>\n",
              "      <td>7036330313</td>\n",
              "      <td>40111917</td>\n",
              "      <td>TRF BANKX TO PRIMA - BANKXMOBILE</td>\n",
              "      <td>MOBILE</td>\n",
              "      <td>MOBILE</td>\n",
              "      <td>TRANSFER</td>\n",
              "      <td>TRANSFER PRIMA</td>\n",
              "      <td>0</td>\n",
              "      <td>YES</td>\n",
              "      <td>AREA BALIKPAPAN</td>\n",
              "      <td>REGION VII/ BANJARMASIN</td>\n",
              "      <td>670000.0</td>\n",
              "      <td>BANJARMASIN</td>\n",
              "      <td>KALIMANTAN SELATAN</td>\n",
              "      <td>2.0</td>\n",
              "      <td>Pawning Staff</td>\n",
              "    </tr>\n",
              "    <tr>\n",
              "      <th>3</th>\n",
              "      <td>75227151</td>\n",
              "      <td>2019-10-16</td>\n",
              "      <td>FT19289WB8FL;1</td>\n",
              "      <td>14:57</td>\n",
              "      <td>7036330313</td>\n",
              "      <td>40111917</td>\n",
              "      <td>TRF BANKX TO PRIMA - BANKXMOBILE</td>\n",
              "      <td>MOBILE</td>\n",
              "      <td>MOBILE</td>\n",
              "      <td>TRANSFER</td>\n",
              "      <td>TRANSFER PRIMA</td>\n",
              "      <td>0</td>\n",
              "      <td>YES</td>\n",
              "      <td>AREA BALIKPAPAN</td>\n",
              "      <td>REGION VII/ BANJARMASIN</td>\n",
              "      <td>670000.0</td>\n",
              "      <td>BANJARMASIN</td>\n",
              "      <td>KALIMANTAN SELATAN</td>\n",
              "      <td>2.0</td>\n",
              "      <td>Pawning Staff</td>\n",
              "    </tr>\n",
              "    <tr>\n",
              "      <th>4</th>\n",
              "      <td>75227151</td>\n",
              "      <td>2019-10-16</td>\n",
              "      <td>FT19289WB8FL;1</td>\n",
              "      <td>14:57</td>\n",
              "      <td>7036330313</td>\n",
              "      <td>40111917</td>\n",
              "      <td>TRF BANKX TO PRIMA - BANKXMOBILE</td>\n",
              "      <td>MOBILE</td>\n",
              "      <td>MOBILE</td>\n",
              "      <td>TRANSFER</td>\n",
              "      <td>TRANSFER PRIMA</td>\n",
              "      <td>0</td>\n",
              "      <td>YES</td>\n",
              "      <td>AREA BALIKPAPAN</td>\n",
              "      <td>REGION VII/ BANJARMASIN</td>\n",
              "      <td>670000.0</td>\n",
              "      <td>BANJARMASIN</td>\n",
              "      <td>KALIMANTAN SELATAN</td>\n",
              "      <td>2.0</td>\n",
              "      <td>Pawning Staff</td>\n",
              "    </tr>\n",
              "  </tbody>\n",
              "</table>\n",
              "</div>"
            ],
            "text/plain": [
              "     CIF_NO    TRX_DATE  ... pci_score      Job Title\n",
              "0  75227151  2019-10-16  ...       2.0  Pawning Staff\n",
              "1  75227151  2019-10-16  ...       2.0  Pawning Staff\n",
              "2  75227151  2019-10-16  ...       2.0  Pawning Staff\n",
              "3  75227151  2019-10-16  ...       2.0  Pawning Staff\n",
              "4  75227151  2019-10-16  ...       2.0  Pawning Staff\n",
              "\n",
              "[5 rows x 20 columns]"
            ]
          },
          "metadata": {
            "tags": []
          },
          "execution_count": 51
        }
      ]
    },
    {
      "cell_type": "code",
      "metadata": {
        "id": "9cDVgXBRm5v4",
        "colab_type": "code",
        "colab": {
          "base_uri": "https://localhost:8080/",
          "height": 374
        },
        "outputId": "e6f2a0e9-6cb4-4fe1-e890-1c9e384433a5"
      },
      "source": [
        "job_merge.isna().sum()"
      ],
      "execution_count": 52,
      "outputs": [
        {
          "output_type": "execute_result",
          "data": {
            "text/plain": [
              "CIF_NO             0\n",
              "TRX_DATE           0\n",
              "RECID              0\n",
              "TIME               0\n",
              "ACCOUNT_NO         0\n",
              "AT_CHG_CODE        0\n",
              "AT_CHG_DESC        0\n",
              "CHANNEL            0\n",
              "CHANNEL2           0\n",
              "CATEGORY           0\n",
              "DETAIL_CATEGORY    0\n",
              "ISSUER             0\n",
              "STATUS             0\n",
              "AREA_ACCOUNT       0\n",
              "REGION_ACCOUNT     0\n",
              "AMT_TRX            0\n",
              "AREA               0\n",
              "District           0\n",
              "pci_score          0\n",
              "Job Title          0\n",
              "dtype: int64"
            ]
          },
          "metadata": {
            "tags": []
          },
          "execution_count": 52
        }
      ]
    },
    {
      "cell_type": "code",
      "metadata": {
        "id": "hp2anUjLLAJB",
        "colab_type": "code",
        "colab": {
          "base_uri": "https://localhost:8080/",
          "height": 34
        },
        "outputId": "086c8ddb-c0b7-46f4-cd94-69e7ce09c28a"
      },
      "source": [
        "job_merge.shape"
      ],
      "execution_count": 54,
      "outputs": [
        {
          "output_type": "execute_result",
          "data": {
            "text/plain": [
              "(2776275, 20)"
            ]
          },
          "metadata": {
            "tags": []
          },
          "execution_count": 54
        }
      ]
    },
    {
      "cell_type": "code",
      "metadata": {
        "id": "8anBARCjm8L2",
        "colab_type": "code",
        "colab": {
          "base_uri": "https://localhost:8080/",
          "height": 238
        },
        "outputId": "df80b759-d54e-4d45-f544-553c8054ca82"
      },
      "source": [
        "job_merge.groupby('Job Title')['CIF_NO'].nunique()"
      ],
      "execution_count": 53,
      "outputs": [
        {
          "output_type": "execute_result",
          "data": {
            "text/plain": [
              "Job Title\n",
              "ALMA Officer                             1\n",
              "ATM & SSPP Operations Section Head       1\n",
              "ATM & SSPP Operations Staff              2\n",
              "ATM Cash Reconsiliation Section Head     1\n",
              "ATM Cash Reconsiliation Staff            1\n",
              "                                        ..\n",
              "Wholesale Risk Officer                  15\n",
              "Wholesale Specialist                     1\n",
              "Withholding Tax Section Head             1\n",
              "Withholding Tax Staff                    2\n",
              "Workforce Planning Analyst               1\n",
              "Name: CIF_NO, Length: 742, dtype: int64"
            ]
          },
          "metadata": {
            "tags": []
          },
          "execution_count": 53
        }
      ]
    },
    {
      "cell_type": "code",
      "metadata": {
        "id": "BwM3w0GXnAEy",
        "colab_type": "code",
        "colab": {
          "base_uri": "https://localhost:8080/",
          "height": 238
        },
        "outputId": "6bdcab73-37bc-4bac-dff0-963cca0da890"
      },
      "source": [
        "job_merge.groupby('Job Title')['CIF_NO'].count()"
      ],
      "execution_count": 56,
      "outputs": [
        {
          "output_type": "execute_result",
          "data": {
            "text/plain": [
              "Job Title\n",
              "ALMA Officer                             470\n",
              "ATM & SSPP Operations Section Head       380\n",
              "ATM & SSPP Operations Staff              760\n",
              "ATM Cash Reconsiliation Section Head     520\n",
              "ATM Cash Reconsiliation Staff            625\n",
              "                                        ... \n",
              "Wholesale Risk Officer                  7010\n",
              "Wholesale Specialist                     450\n",
              "Withholding Tax Section Head             445\n",
              "Withholding Tax Staff                    730\n",
              "Workforce Planning Analyst               525\n",
              "Name: CIF_NO, Length: 742, dtype: int64"
            ]
          },
          "metadata": {
            "tags": []
          },
          "execution_count": 56
        }
      ]
    },
    {
      "cell_type": "code",
      "metadata": {
        "id": "nhJl7p1snDCq",
        "colab_type": "code",
        "colab": {}
      },
      "source": [
        "job_merge['Is_Management'] = np.where(((job_merge['Job Title'].str.contains('manager', case=False) == True) | (job_merge['Job Title'].str.contains('team leader', case=False) == True)\n",
        "                                   | (job_merge['Job Title'].str.contains('head', case=False) == True)) , 1, 0)"
      ],
      "execution_count": 0,
      "outputs": []
    },
    {
      "cell_type": "code",
      "metadata": {
        "id": "0ECn6ylpnMwv",
        "colab_type": "code",
        "colab": {
          "base_uri": "https://localhost:8080/",
          "height": 411
        },
        "outputId": "55e59fb4-c102-460e-8feb-5e009ab31129"
      },
      "source": [
        "job_merge.head()"
      ],
      "execution_count": 58,
      "outputs": [
        {
          "output_type": "execute_result",
          "data": {
            "text/html": [
              "<div>\n",
              "<style scoped>\n",
              "    .dataframe tbody tr th:only-of-type {\n",
              "        vertical-align: middle;\n",
              "    }\n",
              "\n",
              "    .dataframe tbody tr th {\n",
              "        vertical-align: top;\n",
              "    }\n",
              "\n",
              "    .dataframe thead th {\n",
              "        text-align: right;\n",
              "    }\n",
              "</style>\n",
              "<table border=\"1\" class=\"dataframe\">\n",
              "  <thead>\n",
              "    <tr style=\"text-align: right;\">\n",
              "      <th></th>\n",
              "      <th>CIF_NO</th>\n",
              "      <th>TRX_DATE</th>\n",
              "      <th>RECID</th>\n",
              "      <th>TIME</th>\n",
              "      <th>ACCOUNT_NO</th>\n",
              "      <th>AT_CHG_CODE</th>\n",
              "      <th>AT_CHG_DESC</th>\n",
              "      <th>CHANNEL</th>\n",
              "      <th>CHANNEL2</th>\n",
              "      <th>CATEGORY</th>\n",
              "      <th>DETAIL_CATEGORY</th>\n",
              "      <th>ISSUER</th>\n",
              "      <th>STATUS</th>\n",
              "      <th>AREA_ACCOUNT</th>\n",
              "      <th>REGION_ACCOUNT</th>\n",
              "      <th>AMT_TRX</th>\n",
              "      <th>AREA</th>\n",
              "      <th>District</th>\n",
              "      <th>pci_score</th>\n",
              "      <th>Job Title</th>\n",
              "      <th>Is_Management</th>\n",
              "    </tr>\n",
              "  </thead>\n",
              "  <tbody>\n",
              "    <tr>\n",
              "      <th>0</th>\n",
              "      <td>75227151</td>\n",
              "      <td>2019-10-16</td>\n",
              "      <td>FT19289WB8FL;1</td>\n",
              "      <td>14:57</td>\n",
              "      <td>7036330313</td>\n",
              "      <td>40111917</td>\n",
              "      <td>TRF BANKX TO PRIMA - BANKXMOBILE</td>\n",
              "      <td>MOBILE</td>\n",
              "      <td>MOBILE</td>\n",
              "      <td>TRANSFER</td>\n",
              "      <td>TRANSFER PRIMA</td>\n",
              "      <td>0</td>\n",
              "      <td>YES</td>\n",
              "      <td>AREA BALIKPAPAN</td>\n",
              "      <td>REGION VII/ BANJARMASIN</td>\n",
              "      <td>670000.0</td>\n",
              "      <td>BANJARMASIN</td>\n",
              "      <td>KALIMANTAN SELATAN</td>\n",
              "      <td>2.0</td>\n",
              "      <td>Pawning Staff</td>\n",
              "      <td>0</td>\n",
              "    </tr>\n",
              "    <tr>\n",
              "      <th>1</th>\n",
              "      <td>75227151</td>\n",
              "      <td>2019-10-16</td>\n",
              "      <td>FT19289WB8FL;1</td>\n",
              "      <td>14:57</td>\n",
              "      <td>7036330313</td>\n",
              "      <td>40111917</td>\n",
              "      <td>TRF BANKX TO PRIMA - BANKXMOBILE</td>\n",
              "      <td>MOBILE</td>\n",
              "      <td>MOBILE</td>\n",
              "      <td>TRANSFER</td>\n",
              "      <td>TRANSFER PRIMA</td>\n",
              "      <td>0</td>\n",
              "      <td>YES</td>\n",
              "      <td>AREA BALIKPAPAN</td>\n",
              "      <td>REGION VII/ BANJARMASIN</td>\n",
              "      <td>670000.0</td>\n",
              "      <td>BANJARMASIN</td>\n",
              "      <td>KALIMANTAN SELATAN</td>\n",
              "      <td>2.0</td>\n",
              "      <td>Pawning Staff</td>\n",
              "      <td>0</td>\n",
              "    </tr>\n",
              "    <tr>\n",
              "      <th>2</th>\n",
              "      <td>75227151</td>\n",
              "      <td>2019-10-16</td>\n",
              "      <td>FT19289WB8FL;1</td>\n",
              "      <td>14:57</td>\n",
              "      <td>7036330313</td>\n",
              "      <td>40111917</td>\n",
              "      <td>TRF BANKX TO PRIMA - BANKXMOBILE</td>\n",
              "      <td>MOBILE</td>\n",
              "      <td>MOBILE</td>\n",
              "      <td>TRANSFER</td>\n",
              "      <td>TRANSFER PRIMA</td>\n",
              "      <td>0</td>\n",
              "      <td>YES</td>\n",
              "      <td>AREA BALIKPAPAN</td>\n",
              "      <td>REGION VII/ BANJARMASIN</td>\n",
              "      <td>670000.0</td>\n",
              "      <td>BANJARMASIN</td>\n",
              "      <td>KALIMANTAN SELATAN</td>\n",
              "      <td>2.0</td>\n",
              "      <td>Pawning Staff</td>\n",
              "      <td>0</td>\n",
              "    </tr>\n",
              "    <tr>\n",
              "      <th>3</th>\n",
              "      <td>75227151</td>\n",
              "      <td>2019-10-16</td>\n",
              "      <td>FT19289WB8FL;1</td>\n",
              "      <td>14:57</td>\n",
              "      <td>7036330313</td>\n",
              "      <td>40111917</td>\n",
              "      <td>TRF BANKX TO PRIMA - BANKXMOBILE</td>\n",
              "      <td>MOBILE</td>\n",
              "      <td>MOBILE</td>\n",
              "      <td>TRANSFER</td>\n",
              "      <td>TRANSFER PRIMA</td>\n",
              "      <td>0</td>\n",
              "      <td>YES</td>\n",
              "      <td>AREA BALIKPAPAN</td>\n",
              "      <td>REGION VII/ BANJARMASIN</td>\n",
              "      <td>670000.0</td>\n",
              "      <td>BANJARMASIN</td>\n",
              "      <td>KALIMANTAN SELATAN</td>\n",
              "      <td>2.0</td>\n",
              "      <td>Pawning Staff</td>\n",
              "      <td>0</td>\n",
              "    </tr>\n",
              "    <tr>\n",
              "      <th>4</th>\n",
              "      <td>75227151</td>\n",
              "      <td>2019-10-16</td>\n",
              "      <td>FT19289WB8FL;1</td>\n",
              "      <td>14:57</td>\n",
              "      <td>7036330313</td>\n",
              "      <td>40111917</td>\n",
              "      <td>TRF BANKX TO PRIMA - BANKXMOBILE</td>\n",
              "      <td>MOBILE</td>\n",
              "      <td>MOBILE</td>\n",
              "      <td>TRANSFER</td>\n",
              "      <td>TRANSFER PRIMA</td>\n",
              "      <td>0</td>\n",
              "      <td>YES</td>\n",
              "      <td>AREA BALIKPAPAN</td>\n",
              "      <td>REGION VII/ BANJARMASIN</td>\n",
              "      <td>670000.0</td>\n",
              "      <td>BANJARMASIN</td>\n",
              "      <td>KALIMANTAN SELATAN</td>\n",
              "      <td>2.0</td>\n",
              "      <td>Pawning Staff</td>\n",
              "      <td>0</td>\n",
              "    </tr>\n",
              "  </tbody>\n",
              "</table>\n",
              "</div>"
            ],
            "text/plain": [
              "     CIF_NO    TRX_DATE  ...      Job Title Is_Management\n",
              "0  75227151  2019-10-16  ...  Pawning Staff             0\n",
              "1  75227151  2019-10-16  ...  Pawning Staff             0\n",
              "2  75227151  2019-10-16  ...  Pawning Staff             0\n",
              "3  75227151  2019-10-16  ...  Pawning Staff             0\n",
              "4  75227151  2019-10-16  ...  Pawning Staff             0\n",
              "\n",
              "[5 rows x 21 columns]"
            ]
          },
          "metadata": {
            "tags": []
          },
          "execution_count": 58
        }
      ]
    },
    {
      "cell_type": "code",
      "metadata": {
        "id": "oLttbM31nOm9",
        "colab_type": "code",
        "colab": {
          "base_uri": "https://localhost:8080/",
          "height": 85
        },
        "outputId": "f0506d58-af15-4e28-bbd2-b3da318c6075"
      },
      "source": [
        "job_merge.groupby('Is_Management')['CIF_NO'].count()"
      ],
      "execution_count": 59,
      "outputs": [
        {
          "output_type": "execute_result",
          "data": {
            "text/plain": [
              "Is_Management\n",
              "0    1737385\n",
              "1    1038890\n",
              "Name: CIF_NO, dtype: int64"
            ]
          },
          "metadata": {
            "tags": []
          },
          "execution_count": 59
        }
      ]
    },
    {
      "cell_type": "code",
      "metadata": {
        "id": "PCLLth2ynRDL",
        "colab_type": "code",
        "colab": {}
      },
      "source": [
        "job_merge.set_index(\"CIF_NO\", inplace = True)"
      ],
      "execution_count": 0,
      "outputs": []
    },
    {
      "cell_type": "code",
      "metadata": {
        "id": "03PDjbbYnTVa",
        "colab_type": "code",
        "colab": {
          "base_uri": "https://localhost:8080/",
          "height": 442
        },
        "outputId": "f4646805-a839-4301-c549-e09bf3193838"
      },
      "source": [
        "job_merge.head()"
      ],
      "execution_count": 61,
      "outputs": [
        {
          "output_type": "execute_result",
          "data": {
            "text/html": [
              "<div>\n",
              "<style scoped>\n",
              "    .dataframe tbody tr th:only-of-type {\n",
              "        vertical-align: middle;\n",
              "    }\n",
              "\n",
              "    .dataframe tbody tr th {\n",
              "        vertical-align: top;\n",
              "    }\n",
              "\n",
              "    .dataframe thead th {\n",
              "        text-align: right;\n",
              "    }\n",
              "</style>\n",
              "<table border=\"1\" class=\"dataframe\">\n",
              "  <thead>\n",
              "    <tr style=\"text-align: right;\">\n",
              "      <th></th>\n",
              "      <th>TRX_DATE</th>\n",
              "      <th>RECID</th>\n",
              "      <th>TIME</th>\n",
              "      <th>ACCOUNT_NO</th>\n",
              "      <th>AT_CHG_CODE</th>\n",
              "      <th>AT_CHG_DESC</th>\n",
              "      <th>CHANNEL</th>\n",
              "      <th>CHANNEL2</th>\n",
              "      <th>CATEGORY</th>\n",
              "      <th>DETAIL_CATEGORY</th>\n",
              "      <th>ISSUER</th>\n",
              "      <th>STATUS</th>\n",
              "      <th>AREA_ACCOUNT</th>\n",
              "      <th>REGION_ACCOUNT</th>\n",
              "      <th>AMT_TRX</th>\n",
              "      <th>AREA</th>\n",
              "      <th>District</th>\n",
              "      <th>pci_score</th>\n",
              "      <th>Job Title</th>\n",
              "      <th>Is_Management</th>\n",
              "    </tr>\n",
              "    <tr>\n",
              "      <th>CIF_NO</th>\n",
              "      <th></th>\n",
              "      <th></th>\n",
              "      <th></th>\n",
              "      <th></th>\n",
              "      <th></th>\n",
              "      <th></th>\n",
              "      <th></th>\n",
              "      <th></th>\n",
              "      <th></th>\n",
              "      <th></th>\n",
              "      <th></th>\n",
              "      <th></th>\n",
              "      <th></th>\n",
              "      <th></th>\n",
              "      <th></th>\n",
              "      <th></th>\n",
              "      <th></th>\n",
              "      <th></th>\n",
              "      <th></th>\n",
              "      <th></th>\n",
              "    </tr>\n",
              "  </thead>\n",
              "  <tbody>\n",
              "    <tr>\n",
              "      <th>75227151</th>\n",
              "      <td>2019-10-16</td>\n",
              "      <td>FT19289WB8FL;1</td>\n",
              "      <td>14:57</td>\n",
              "      <td>7036330313</td>\n",
              "      <td>40111917</td>\n",
              "      <td>TRF BANKX TO PRIMA - BANKXMOBILE</td>\n",
              "      <td>MOBILE</td>\n",
              "      <td>MOBILE</td>\n",
              "      <td>TRANSFER</td>\n",
              "      <td>TRANSFER PRIMA</td>\n",
              "      <td>0</td>\n",
              "      <td>YES</td>\n",
              "      <td>AREA BALIKPAPAN</td>\n",
              "      <td>REGION VII/ BANJARMASIN</td>\n",
              "      <td>670000.0</td>\n",
              "      <td>BANJARMASIN</td>\n",
              "      <td>KALIMANTAN SELATAN</td>\n",
              "      <td>2.0</td>\n",
              "      <td>Pawning Staff</td>\n",
              "      <td>0</td>\n",
              "    </tr>\n",
              "    <tr>\n",
              "      <th>75227151</th>\n",
              "      <td>2019-10-16</td>\n",
              "      <td>FT19289WB8FL;1</td>\n",
              "      <td>14:57</td>\n",
              "      <td>7036330313</td>\n",
              "      <td>40111917</td>\n",
              "      <td>TRF BANKX TO PRIMA - BANKXMOBILE</td>\n",
              "      <td>MOBILE</td>\n",
              "      <td>MOBILE</td>\n",
              "      <td>TRANSFER</td>\n",
              "      <td>TRANSFER PRIMA</td>\n",
              "      <td>0</td>\n",
              "      <td>YES</td>\n",
              "      <td>AREA BALIKPAPAN</td>\n",
              "      <td>REGION VII/ BANJARMASIN</td>\n",
              "      <td>670000.0</td>\n",
              "      <td>BANJARMASIN</td>\n",
              "      <td>KALIMANTAN SELATAN</td>\n",
              "      <td>2.0</td>\n",
              "      <td>Pawning Staff</td>\n",
              "      <td>0</td>\n",
              "    </tr>\n",
              "    <tr>\n",
              "      <th>75227151</th>\n",
              "      <td>2019-10-16</td>\n",
              "      <td>FT19289WB8FL;1</td>\n",
              "      <td>14:57</td>\n",
              "      <td>7036330313</td>\n",
              "      <td>40111917</td>\n",
              "      <td>TRF BANKX TO PRIMA - BANKXMOBILE</td>\n",
              "      <td>MOBILE</td>\n",
              "      <td>MOBILE</td>\n",
              "      <td>TRANSFER</td>\n",
              "      <td>TRANSFER PRIMA</td>\n",
              "      <td>0</td>\n",
              "      <td>YES</td>\n",
              "      <td>AREA BALIKPAPAN</td>\n",
              "      <td>REGION VII/ BANJARMASIN</td>\n",
              "      <td>670000.0</td>\n",
              "      <td>BANJARMASIN</td>\n",
              "      <td>KALIMANTAN SELATAN</td>\n",
              "      <td>2.0</td>\n",
              "      <td>Pawning Staff</td>\n",
              "      <td>0</td>\n",
              "    </tr>\n",
              "    <tr>\n",
              "      <th>75227151</th>\n",
              "      <td>2019-10-16</td>\n",
              "      <td>FT19289WB8FL;1</td>\n",
              "      <td>14:57</td>\n",
              "      <td>7036330313</td>\n",
              "      <td>40111917</td>\n",
              "      <td>TRF BANKX TO PRIMA - BANKXMOBILE</td>\n",
              "      <td>MOBILE</td>\n",
              "      <td>MOBILE</td>\n",
              "      <td>TRANSFER</td>\n",
              "      <td>TRANSFER PRIMA</td>\n",
              "      <td>0</td>\n",
              "      <td>YES</td>\n",
              "      <td>AREA BALIKPAPAN</td>\n",
              "      <td>REGION VII/ BANJARMASIN</td>\n",
              "      <td>670000.0</td>\n",
              "      <td>BANJARMASIN</td>\n",
              "      <td>KALIMANTAN SELATAN</td>\n",
              "      <td>2.0</td>\n",
              "      <td>Pawning Staff</td>\n",
              "      <td>0</td>\n",
              "    </tr>\n",
              "    <tr>\n",
              "      <th>75227151</th>\n",
              "      <td>2019-10-16</td>\n",
              "      <td>FT19289WB8FL;1</td>\n",
              "      <td>14:57</td>\n",
              "      <td>7036330313</td>\n",
              "      <td>40111917</td>\n",
              "      <td>TRF BANKX TO PRIMA - BANKXMOBILE</td>\n",
              "      <td>MOBILE</td>\n",
              "      <td>MOBILE</td>\n",
              "      <td>TRANSFER</td>\n",
              "      <td>TRANSFER PRIMA</td>\n",
              "      <td>0</td>\n",
              "      <td>YES</td>\n",
              "      <td>AREA BALIKPAPAN</td>\n",
              "      <td>REGION VII/ BANJARMASIN</td>\n",
              "      <td>670000.0</td>\n",
              "      <td>BANJARMASIN</td>\n",
              "      <td>KALIMANTAN SELATAN</td>\n",
              "      <td>2.0</td>\n",
              "      <td>Pawning Staff</td>\n",
              "      <td>0</td>\n",
              "    </tr>\n",
              "  </tbody>\n",
              "</table>\n",
              "</div>"
            ],
            "text/plain": [
              "            TRX_DATE           RECID  ...      Job Title  Is_Management\n",
              "CIF_NO                                ...                              \n",
              "75227151  2019-10-16  FT19289WB8FL;1  ...  Pawning Staff              0\n",
              "75227151  2019-10-16  FT19289WB8FL;1  ...  Pawning Staff              0\n",
              "75227151  2019-10-16  FT19289WB8FL;1  ...  Pawning Staff              0\n",
              "75227151  2019-10-16  FT19289WB8FL;1  ...  Pawning Staff              0\n",
              "75227151  2019-10-16  FT19289WB8FL;1  ...  Pawning Staff              0\n",
              "\n",
              "[5 rows x 20 columns]"
            ]
          },
          "metadata": {
            "tags": []
          },
          "execution_count": 61
        }
      ]
    },
    {
      "cell_type": "code",
      "metadata": {
        "id": "xew81ZgenU4b",
        "colab_type": "code",
        "colab": {}
      },
      "source": [
        "job_area_cluster = job_merge[['pci_score','Is_Management']]"
      ],
      "execution_count": 0,
      "outputs": []
    },
    {
      "cell_type": "code",
      "metadata": {
        "id": "-XlG6Mn3nZoz",
        "colab_type": "code",
        "colab": {
          "base_uri": "https://localhost:8080/",
          "height": 235
        },
        "outputId": "8f817c99-90c8-49c3-9685-b2b1805102a8"
      },
      "source": [
        "job_area_cluster.head()"
      ],
      "execution_count": 63,
      "outputs": [
        {
          "output_type": "execute_result",
          "data": {
            "text/html": [
              "<div>\n",
              "<style scoped>\n",
              "    .dataframe tbody tr th:only-of-type {\n",
              "        vertical-align: middle;\n",
              "    }\n",
              "\n",
              "    .dataframe tbody tr th {\n",
              "        vertical-align: top;\n",
              "    }\n",
              "\n",
              "    .dataframe thead th {\n",
              "        text-align: right;\n",
              "    }\n",
              "</style>\n",
              "<table border=\"1\" class=\"dataframe\">\n",
              "  <thead>\n",
              "    <tr style=\"text-align: right;\">\n",
              "      <th></th>\n",
              "      <th>pci_score</th>\n",
              "      <th>Is_Management</th>\n",
              "    </tr>\n",
              "    <tr>\n",
              "      <th>CIF_NO</th>\n",
              "      <th></th>\n",
              "      <th></th>\n",
              "    </tr>\n",
              "  </thead>\n",
              "  <tbody>\n",
              "    <tr>\n",
              "      <th>75227151</th>\n",
              "      <td>2.0</td>\n",
              "      <td>0</td>\n",
              "    </tr>\n",
              "    <tr>\n",
              "      <th>75227151</th>\n",
              "      <td>2.0</td>\n",
              "      <td>0</td>\n",
              "    </tr>\n",
              "    <tr>\n",
              "      <th>75227151</th>\n",
              "      <td>2.0</td>\n",
              "      <td>0</td>\n",
              "    </tr>\n",
              "    <tr>\n",
              "      <th>75227151</th>\n",
              "      <td>2.0</td>\n",
              "      <td>0</td>\n",
              "    </tr>\n",
              "    <tr>\n",
              "      <th>75227151</th>\n",
              "      <td>2.0</td>\n",
              "      <td>0</td>\n",
              "    </tr>\n",
              "  </tbody>\n",
              "</table>\n",
              "</div>"
            ],
            "text/plain": [
              "          pci_score  Is_Management\n",
              "CIF_NO                            \n",
              "75227151        2.0              0\n",
              "75227151        2.0              0\n",
              "75227151        2.0              0\n",
              "75227151        2.0              0\n",
              "75227151        2.0              0"
            ]
          },
          "metadata": {
            "tags": []
          },
          "execution_count": 63
        }
      ]
    },
    {
      "cell_type": "code",
      "metadata": {
        "id": "BjCTgnOCLdbk",
        "colab_type": "code",
        "colab": {
          "base_uri": "https://localhost:8080/",
          "height": 142
        },
        "outputId": "d6e6acce-a2f9-4a7f-9bd9-2f98efb2d460"
      },
      "source": [
        "job_area_cluster.groupby('Is_Management').count()"
      ],
      "execution_count": 65,
      "outputs": [
        {
          "output_type": "execute_result",
          "data": {
            "text/html": [
              "<div>\n",
              "<style scoped>\n",
              "    .dataframe tbody tr th:only-of-type {\n",
              "        vertical-align: middle;\n",
              "    }\n",
              "\n",
              "    .dataframe tbody tr th {\n",
              "        vertical-align: top;\n",
              "    }\n",
              "\n",
              "    .dataframe thead th {\n",
              "        text-align: right;\n",
              "    }\n",
              "</style>\n",
              "<table border=\"1\" class=\"dataframe\">\n",
              "  <thead>\n",
              "    <tr style=\"text-align: right;\">\n",
              "      <th></th>\n",
              "      <th>pci_score</th>\n",
              "    </tr>\n",
              "    <tr>\n",
              "      <th>Is_Management</th>\n",
              "      <th></th>\n",
              "    </tr>\n",
              "  </thead>\n",
              "  <tbody>\n",
              "    <tr>\n",
              "      <th>0</th>\n",
              "      <td>1737385</td>\n",
              "    </tr>\n",
              "    <tr>\n",
              "      <th>1</th>\n",
              "      <td>1038890</td>\n",
              "    </tr>\n",
              "  </tbody>\n",
              "</table>\n",
              "</div>"
            ],
            "text/plain": [
              "               pci_score\n",
              "Is_Management           \n",
              "0                1737385\n",
              "1                1038890"
            ]
          },
          "metadata": {
            "tags": []
          },
          "execution_count": 65
        }
      ]
    },
    {
      "cell_type": "code",
      "metadata": {
        "id": "iCKrkgx1rOL8",
        "colab_type": "code",
        "colab": {
          "base_uri": "https://localhost:8080/",
          "height": 235
        },
        "outputId": "2b97db25-634e-4aa2-9150-79078a0a9031"
      },
      "source": [
        "X= job_area_cluster\n",
        "X.head()"
      ],
      "execution_count": 66,
      "outputs": [
        {
          "output_type": "execute_result",
          "data": {
            "text/html": [
              "<div>\n",
              "<style scoped>\n",
              "    .dataframe tbody tr th:only-of-type {\n",
              "        vertical-align: middle;\n",
              "    }\n",
              "\n",
              "    .dataframe tbody tr th {\n",
              "        vertical-align: top;\n",
              "    }\n",
              "\n",
              "    .dataframe thead th {\n",
              "        text-align: right;\n",
              "    }\n",
              "</style>\n",
              "<table border=\"1\" class=\"dataframe\">\n",
              "  <thead>\n",
              "    <tr style=\"text-align: right;\">\n",
              "      <th></th>\n",
              "      <th>pci_score</th>\n",
              "      <th>Is_Management</th>\n",
              "    </tr>\n",
              "    <tr>\n",
              "      <th>CIF_NO</th>\n",
              "      <th></th>\n",
              "      <th></th>\n",
              "    </tr>\n",
              "  </thead>\n",
              "  <tbody>\n",
              "    <tr>\n",
              "      <th>75227151</th>\n",
              "      <td>2.0</td>\n",
              "      <td>0</td>\n",
              "    </tr>\n",
              "    <tr>\n",
              "      <th>75227151</th>\n",
              "      <td>2.0</td>\n",
              "      <td>0</td>\n",
              "    </tr>\n",
              "    <tr>\n",
              "      <th>75227151</th>\n",
              "      <td>2.0</td>\n",
              "      <td>0</td>\n",
              "    </tr>\n",
              "    <tr>\n",
              "      <th>75227151</th>\n",
              "      <td>2.0</td>\n",
              "      <td>0</td>\n",
              "    </tr>\n",
              "    <tr>\n",
              "      <th>75227151</th>\n",
              "      <td>2.0</td>\n",
              "      <td>0</td>\n",
              "    </tr>\n",
              "  </tbody>\n",
              "</table>\n",
              "</div>"
            ],
            "text/plain": [
              "          pci_score  Is_Management\n",
              "CIF_NO                            \n",
              "75227151        2.0              0\n",
              "75227151        2.0              0\n",
              "75227151        2.0              0\n",
              "75227151        2.0              0\n",
              "75227151        2.0              0"
            ]
          },
          "metadata": {
            "tags": []
          },
          "execution_count": 66
        }
      ]
    },
    {
      "cell_type": "code",
      "metadata": {
        "id": "b2fL6IQ9Zy01",
        "colab_type": "code",
        "colab": {}
      },
      "source": [
        "X = X.reset_index()"
      ],
      "execution_count": 0,
      "outputs": []
    },
    {
      "cell_type": "code",
      "metadata": {
        "id": "i_jX8TMtZ53b",
        "colab_type": "code",
        "colab": {
          "base_uri": "https://localhost:8080/",
          "height": 204
        },
        "outputId": "2c208e56-0e90-4e28-8575-25df59ec0520"
      },
      "source": [
        "X.head()"
      ],
      "execution_count": 79,
      "outputs": [
        {
          "output_type": "execute_result",
          "data": {
            "text/html": [
              "<div>\n",
              "<style scoped>\n",
              "    .dataframe tbody tr th:only-of-type {\n",
              "        vertical-align: middle;\n",
              "    }\n",
              "\n",
              "    .dataframe tbody tr th {\n",
              "        vertical-align: top;\n",
              "    }\n",
              "\n",
              "    .dataframe thead th {\n",
              "        text-align: right;\n",
              "    }\n",
              "</style>\n",
              "<table border=\"1\" class=\"dataframe\">\n",
              "  <thead>\n",
              "    <tr style=\"text-align: right;\">\n",
              "      <th></th>\n",
              "      <th>CIF_NO</th>\n",
              "      <th>pci_score</th>\n",
              "      <th>Is_Management</th>\n",
              "    </tr>\n",
              "  </thead>\n",
              "  <tbody>\n",
              "    <tr>\n",
              "      <th>0</th>\n",
              "      <td>75227151</td>\n",
              "      <td>2.0</td>\n",
              "      <td>0</td>\n",
              "    </tr>\n",
              "    <tr>\n",
              "      <th>1</th>\n",
              "      <td>75227151</td>\n",
              "      <td>2.0</td>\n",
              "      <td>0</td>\n",
              "    </tr>\n",
              "    <tr>\n",
              "      <th>2</th>\n",
              "      <td>75227151</td>\n",
              "      <td>2.0</td>\n",
              "      <td>0</td>\n",
              "    </tr>\n",
              "    <tr>\n",
              "      <th>3</th>\n",
              "      <td>75227151</td>\n",
              "      <td>2.0</td>\n",
              "      <td>0</td>\n",
              "    </tr>\n",
              "    <tr>\n",
              "      <th>4</th>\n",
              "      <td>75227151</td>\n",
              "      <td>2.0</td>\n",
              "      <td>0</td>\n",
              "    </tr>\n",
              "  </tbody>\n",
              "</table>\n",
              "</div>"
            ],
            "text/plain": [
              "     CIF_NO  pci_score  Is_Management\n",
              "0  75227151        2.0              0\n",
              "1  75227151        2.0              0\n",
              "2  75227151        2.0              0\n",
              "3  75227151        2.0              0\n",
              "4  75227151        2.0              0"
            ]
          },
          "metadata": {
            "tags": []
          },
          "execution_count": 79
        }
      ]
    },
    {
      "cell_type": "code",
      "metadata": {
        "id": "YiMmdap5L0Xd",
        "colab_type": "code",
        "colab": {}
      },
      "source": [
        "from sklearn.cluster import KMeans \n",
        "from sklearn.metrics import silhouette_score"
      ],
      "execution_count": 0,
      "outputs": []
    },
    {
      "cell_type": "code",
      "metadata": {
        "id": "j_S1biYwnd4A",
        "colab_type": "code",
        "colab": {}
      },
      "source": [
        "range_n_clusters = range(2, 20)\n",
        "for i in range_n_clusters:\n",
        "  kmeans = KMeans(n_clusters=i, init='k-means++', max_iter=300, n_init=10, random_state=0)\n",
        "  cluster_labels = kmeans.fit_predict(X)\n",
        "  silhouette_avg = silhouette_score(X, cluster_labels)\n",
        "  print(\"For n_clusters =\", i,\n",
        "          \"The average silhouette_score is :\", silhouette_avg)"
      ],
      "execution_count": 0,
      "outputs": []
    },
    {
      "cell_type": "code",
      "metadata": {
        "id": "WhXu8FETULoZ",
        "colab_type": "code",
        "colab": {
          "base_uri": "https://localhost:8080/",
          "height": 295
        },
        "outputId": "fbf3e42b-5db4-483c-910b-418ad83856df"
      },
      "source": [
        "#Elbow method\n",
        "wcss = []\n",
        "for i in range(1, 11):\n",
        "    kmeans = KMeans(n_clusters=i, init='k-means++', max_iter=300, n_init=10, random_state=0)\n",
        "    kmeans.fit(X)\n",
        "    wcss.append(kmeans.inertia_)\n",
        "plt.plot(range(1, 11), wcss)\n",
        "plt.title('Elbow Method')\n",
        "plt.xlabel('Number of clusters')\n",
        "plt.ylabel('WCSS')\n",
        "plt.show()"
      ],
      "execution_count": 82,
      "outputs": [
        {
          "output_type": "display_data",
          "data": {
            "image/png": "[encoded data removed]",
            "text/plain": [
              "<Figure size 432x288 with 1 Axes>"
            ]
          },
          "metadata": {
            "tags": []
          }
        }
      ]
    },
    {
      "cell_type": "code",
      "metadata": {
        "id": "zqQ8iFJOZvk5",
        "colab_type": "code",
        "colab": {}
      },
      "source": [
        ""
      ],
      "execution_count": 0,
      "outputs": []
    },
    {
      "cell_type": "code",
      "metadata": {
        "id": "4mq8yDVAX7K_",
        "colab_type": "code",
        "colab": {
          "base_uri": "https://localhost:8080/",
          "height": 298
        },
        "outputId": "371f97fb-1813-4562-ce72-6b1730a6a956"
      },
      "source": [
        "#colors = np.array([\"Red\",\"Green\",\"Blue\"])\n",
        "#plt.subplot(1,2,1)\n",
        "plt.scatter(x=X[\"Is_Management\"],y= range(2776275))\n",
        "plt.title(\"Before K Means Classificaion\")"
      ],
      "execution_count": 84,
      "outputs": [
        {
          "output_type": "execute_result",
          "data": {
            "text/plain": [
              "Text(0.5, 1.0, 'Before K Means Classificaion')"
            ]
          },
          "metadata": {
            "tags": []
          },
          "execution_count": 84
        },
        {
          "output_type": "display_data",
          "data": {
            "image/png": "[encoded data removed]",
            "text/plain": [
              "<Figure size 432x288 with 1 Axes>"
            ]
          },
          "metadata": {
            "tags": []
          }
        }
      ]
    }
  ]
}