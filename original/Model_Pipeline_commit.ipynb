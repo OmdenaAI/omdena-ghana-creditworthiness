{
 "cells": [
  {
   "cell_type": "code",
   "execution_count": 1,
   "metadata": {},
   "outputs": [],
   "source": [
    "#Import the necessary libraries\n",
    "import pandas as pd\n",
    "import numpy as np"
   ]
  },
  {
   "cell_type": "code",
   "execution_count": 2,
   "metadata": {},
   "outputs": [],
   "source": [
    "#Reading the data --> Enter the path of the desired data in quotes\n",
    "data = pd.read_csv('dummy.csv')"
   ]
  },
  {
   "cell_type": "code",
   "execution_count": 3,
   "metadata": {},
   "outputs": [
    {
     "data": {
      "text/html": [
       "<div>\n",
       "<style scoped>\n",
       "    .dataframe tbody tr th:only-of-type {\n",
       "        vertical-align: middle;\n",
       "    }\n",
       "\n",
       "    .dataframe tbody tr th {\n",
       "        vertical-align: top;\n",
       "    }\n",
       "\n",
       "    .dataframe thead th {\n",
       "        text-align: right;\n",
       "    }\n",
       "</style>\n",
       "<table border=\"1\" class=\"dataframe\">\n",
       "  <thead>\n",
       "    <tr style=\"text-align: right;\">\n",
       "      <th></th>\n",
       "      <th>CIF_NO</th>\n",
       "      <th>CODE_GENDER</th>\n",
       "      <th>NAME_EDUCATION_TYPE</th>\n",
       "      <th>FLAG_OWN_REALTY</th>\n",
       "      <th>NAME_HOUSING_TYPE</th>\n",
       "      <th>ORGANIZATION_TYPE</th>\n",
       "      <th>CNT_CHILDREN</th>\n",
       "      <th>OCCUPATION_TYPE</th>\n",
       "      <th>AMT_INCOME_TOTAL</th>\n",
       "      <th>DAYS_EMPLOYED</th>\n",
       "      <th>CREDIT_LIMIT</th>\n",
       "    </tr>\n",
       "  </thead>\n",
       "  <tbody>\n",
       "    <tr>\n",
       "      <td>0</td>\n",
       "      <td>73122693</td>\n",
       "      <td>M</td>\n",
       "      <td>Secondary / secondary special</td>\n",
       "      <td>Y</td>\n",
       "      <td>House / apartment</td>\n",
       "      <td>Business Entity Type 3</td>\n",
       "      <td>0</td>\n",
       "      <td>Laborers</td>\n",
       "      <td>202500.0</td>\n",
       "      <td>-637</td>\n",
       "      <td>0</td>\n",
       "    </tr>\n",
       "    <tr>\n",
       "      <td>1</td>\n",
       "      <td>73152323</td>\n",
       "      <td>F</td>\n",
       "      <td>Higher education</td>\n",
       "      <td>N</td>\n",
       "      <td>House / apartment</td>\n",
       "      <td>School</td>\n",
       "      <td>0</td>\n",
       "      <td>Core staff</td>\n",
       "      <td>270000.0</td>\n",
       "      <td>-1188</td>\n",
       "      <td>20000000</td>\n",
       "    </tr>\n",
       "    <tr>\n",
       "      <td>2</td>\n",
       "      <td>73171319</td>\n",
       "      <td>M</td>\n",
       "      <td>Secondary / secondary special</td>\n",
       "      <td>Y</td>\n",
       "      <td>House / apartment</td>\n",
       "      <td>Government</td>\n",
       "      <td>0</td>\n",
       "      <td>Laborers</td>\n",
       "      <td>67500.0</td>\n",
       "      <td>-225</td>\n",
       "      <td>4000000</td>\n",
       "    </tr>\n",
       "    <tr>\n",
       "      <td>3</td>\n",
       "      <td>73266627</td>\n",
       "      <td>F</td>\n",
       "      <td>Secondary / secondary special</td>\n",
       "      <td>Y</td>\n",
       "      <td>House / apartment</td>\n",
       "      <td>Business Entity Type 3</td>\n",
       "      <td>0</td>\n",
       "      <td>Laborers</td>\n",
       "      <td>135000.0</td>\n",
       "      <td>-3039</td>\n",
       "      <td>60000000</td>\n",
       "    </tr>\n",
       "    <tr>\n",
       "      <td>4</td>\n",
       "      <td>73266639</td>\n",
       "      <td>M</td>\n",
       "      <td>Secondary / secondary special</td>\n",
       "      <td>Y</td>\n",
       "      <td>House / apartment</td>\n",
       "      <td>Religion</td>\n",
       "      <td>0</td>\n",
       "      <td>Core staff</td>\n",
       "      <td>121500.0</td>\n",
       "      <td>-3038</td>\n",
       "      <td>5000000</td>\n",
       "    </tr>\n",
       "    <tr>\n",
       "      <td>...</td>\n",
       "      <td>...</td>\n",
       "      <td>...</td>\n",
       "      <td>...</td>\n",
       "      <td>...</td>\n",
       "      <td>...</td>\n",
       "      <td>...</td>\n",
       "      <td>...</td>\n",
       "      <td>...</td>\n",
       "      <td>...</td>\n",
       "      <td>...</td>\n",
       "      <td>...</td>\n",
       "    </tr>\n",
       "    <tr>\n",
       "      <td>8558</td>\n",
       "      <td>74932789</td>\n",
       "      <td>F</td>\n",
       "      <td>Secondary / secondary special</td>\n",
       "      <td>Y</td>\n",
       "      <td>House / apartment</td>\n",
       "      <td>Self-employed</td>\n",
       "      <td>1</td>\n",
       "      <td>NaN</td>\n",
       "      <td>63000.0</td>\n",
       "      <td>-2791</td>\n",
       "      <td>2000000</td>\n",
       "    </tr>\n",
       "    <tr>\n",
       "      <td>8559</td>\n",
       "      <td>74888041</td>\n",
       "      <td>M</td>\n",
       "      <td>Secondary / secondary special</td>\n",
       "      <td>Y</td>\n",
       "      <td>House / apartment</td>\n",
       "      <td>Business Entity Type 3</td>\n",
       "      <td>0</td>\n",
       "      <td>Drivers</td>\n",
       "      <td>225000.0</td>\n",
       "      <td>-7059</td>\n",
       "      <td>0</td>\n",
       "    </tr>\n",
       "    <tr>\n",
       "      <td>8560</td>\n",
       "      <td>73546253</td>\n",
       "      <td>F</td>\n",
       "      <td>Secondary / secondary special</td>\n",
       "      <td>N</td>\n",
       "      <td>House / apartment</td>\n",
       "      <td>Business Entity Type 3</td>\n",
       "      <td>0</td>\n",
       "      <td>NaN</td>\n",
       "      <td>247500.0</td>\n",
       "      <td>-1364</td>\n",
       "      <td>4000000</td>\n",
       "    </tr>\n",
       "    <tr>\n",
       "      <td>8561</td>\n",
       "      <td>74252323</td>\n",
       "      <td>F</td>\n",
       "      <td>Secondary / secondary special</td>\n",
       "      <td>Y</td>\n",
       "      <td>House / apartment</td>\n",
       "      <td>Self-employed</td>\n",
       "      <td>1</td>\n",
       "      <td>NaN</td>\n",
       "      <td>63000.0</td>\n",
       "      <td>-2791</td>\n",
       "      <td>0</td>\n",
       "    </tr>\n",
       "    <tr>\n",
       "      <td>8562</td>\n",
       "      <td>74940574</td>\n",
       "      <td>M</td>\n",
       "      <td>Secondary / secondary special</td>\n",
       "      <td>Y</td>\n",
       "      <td>House / apartment</td>\n",
       "      <td>Business Entity Type 3</td>\n",
       "      <td>0</td>\n",
       "      <td>Drivers</td>\n",
       "      <td>225000.0</td>\n",
       "      <td>-7059</td>\n",
       "      <td>20000000</td>\n",
       "    </tr>\n",
       "  </tbody>\n",
       "</table>\n",
       "<p>8563 rows × 11 columns</p>\n",
       "</div>"
      ],
      "text/plain": [
       "        CIF_NO CODE_GENDER            NAME_EDUCATION_TYPE FLAG_OWN_REALTY  \\\n",
       "0     73122693           M  Secondary / secondary special               Y   \n",
       "1     73152323           F               Higher education               N   \n",
       "2     73171319           M  Secondary / secondary special               Y   \n",
       "3     73266627           F  Secondary / secondary special               Y   \n",
       "4     73266639           M  Secondary / secondary special               Y   \n",
       "...        ...         ...                            ...             ...   \n",
       "8558  74932789           F  Secondary / secondary special               Y   \n",
       "8559  74888041           M  Secondary / secondary special               Y   \n",
       "8560  73546253           F  Secondary / secondary special               N   \n",
       "8561  74252323           F  Secondary / secondary special               Y   \n",
       "8562  74940574           M  Secondary / secondary special               Y   \n",
       "\n",
       "      NAME_HOUSING_TYPE       ORGANIZATION_TYPE  CNT_CHILDREN OCCUPATION_TYPE  \\\n",
       "0     House / apartment  Business Entity Type 3             0        Laborers   \n",
       "1     House / apartment                  School             0      Core staff   \n",
       "2     House / apartment              Government             0        Laborers   \n",
       "3     House / apartment  Business Entity Type 3             0        Laborers   \n",
       "4     House / apartment                Religion             0      Core staff   \n",
       "...                 ...                     ...           ...             ...   \n",
       "8558  House / apartment           Self-employed             1             NaN   \n",
       "8559  House / apartment  Business Entity Type 3             0         Drivers   \n",
       "8560  House / apartment  Business Entity Type 3             0             NaN   \n",
       "8561  House / apartment           Self-employed             1             NaN   \n",
       "8562  House / apartment  Business Entity Type 3             0         Drivers   \n",
       "\n",
       "      AMT_INCOME_TOTAL  DAYS_EMPLOYED  CREDIT_LIMIT  \n",
       "0             202500.0           -637             0  \n",
       "1             270000.0          -1188      20000000  \n",
       "2              67500.0           -225       4000000  \n",
       "3             135000.0          -3039      60000000  \n",
       "4             121500.0          -3038       5000000  \n",
       "...                ...            ...           ...  \n",
       "8558           63000.0          -2791       2000000  \n",
       "8559          225000.0          -7059             0  \n",
       "8560          247500.0          -1364       4000000  \n",
       "8561           63000.0          -2791             0  \n",
       "8562          225000.0          -7059      20000000  \n",
       "\n",
       "[8563 rows x 11 columns]"
      ]
     },
     "execution_count": 3,
     "metadata": {},
     "output_type": "execute_result"
    }
   ],
   "source": [
    "data"
   ]
  },
  {
   "cell_type": "markdown",
   "metadata": {},
   "source": [
    "Preprocessing the data to remove null values"
   ]
  },
  {
   "cell_type": "code",
   "execution_count": 4,
   "metadata": {},
   "outputs": [],
   "source": [
    "import seaborn as sns"
   ]
  },
  {
   "cell_type": "code",
   "execution_count": 5,
   "metadata": {},
   "outputs": [
    {
     "data": {
      "text/plain": [
       "<matplotlib.axes._subplots.AxesSubplot at 0x177ff14a288>"
      ]
     },
     "execution_count": 5,
     "metadata": {},
     "output_type": "execute_result"
    },
    {
     "data": {
      "image/png": "[encoded data removed]",
      "text/plain": [
       "<Figure size 432x288 with 2 Axes>"
      ]
     },
     "metadata": {
      "needs_background": "light"
     },
     "output_type": "display_data"
    }
   ],
   "source": [
    "#Checking the plot for any null values in the dataframe\n",
    "sns.heatmap(data.isnull())"
   ]
  },
  {
   "cell_type": "markdown",
   "metadata": {},
   "source": [
    "As we see here, all the null values here are in 'OCCUPATION TYPE' column of the data"
   ]
  },
  {
   "cell_type": "code",
   "execution_count": 6,
   "metadata": {},
   "outputs": [],
   "source": [
    "data.fillna('None',inplace=True)"
   ]
  },
  {
   "cell_type": "markdown",
   "metadata": {},
   "source": [
    "We need to put categories instead of the categories of each column"
   ]
  },
  {
   "cell_type": "code",
   "execution_count": 7,
   "metadata": {},
   "outputs": [
    {
     "data": {
      "text/html": [
       "<div>\n",
       "<style scoped>\n",
       "    .dataframe tbody tr th:only-of-type {\n",
       "        vertical-align: middle;\n",
       "    }\n",
       "\n",
       "    .dataframe tbody tr th {\n",
       "        vertical-align: top;\n",
       "    }\n",
       "\n",
       "    .dataframe thead th {\n",
       "        text-align: right;\n",
       "    }\n",
       "</style>\n",
       "<table border=\"1\" class=\"dataframe\">\n",
       "  <thead>\n",
       "    <tr style=\"text-align: right;\">\n",
       "      <th></th>\n",
       "      <th>CIF_NO</th>\n",
       "      <th>CODE_GENDER</th>\n",
       "      <th>NAME_EDUCATION_TYPE</th>\n",
       "      <th>FLAG_OWN_REALTY</th>\n",
       "      <th>NAME_HOUSING_TYPE</th>\n",
       "      <th>ORGANIZATION_TYPE</th>\n",
       "      <th>CNT_CHILDREN</th>\n",
       "      <th>OCCUPATION_TYPE</th>\n",
       "      <th>AMT_INCOME_TOTAL</th>\n",
       "      <th>DAYS_EMPLOYED</th>\n",
       "      <th>CREDIT_LIMIT</th>\n",
       "    </tr>\n",
       "  </thead>\n",
       "  <tbody>\n",
       "    <tr>\n",
       "      <td>0</td>\n",
       "      <td>73122693</td>\n",
       "      <td>M</td>\n",
       "      <td>Secondary / secondary special</td>\n",
       "      <td>Y</td>\n",
       "      <td>House / apartment</td>\n",
       "      <td>Business Entity Type 3</td>\n",
       "      <td>0</td>\n",
       "      <td>Laborers</td>\n",
       "      <td>202500.0</td>\n",
       "      <td>-637</td>\n",
       "      <td>0</td>\n",
       "    </tr>\n",
       "    <tr>\n",
       "      <td>1</td>\n",
       "      <td>73152323</td>\n",
       "      <td>F</td>\n",
       "      <td>Higher education</td>\n",
       "      <td>N</td>\n",
       "      <td>House / apartment</td>\n",
       "      <td>School</td>\n",
       "      <td>0</td>\n",
       "      <td>Core staff</td>\n",
       "      <td>270000.0</td>\n",
       "      <td>-1188</td>\n",
       "      <td>20000000</td>\n",
       "    </tr>\n",
       "    <tr>\n",
       "      <td>2</td>\n",
       "      <td>73171319</td>\n",
       "      <td>M</td>\n",
       "      <td>Secondary / secondary special</td>\n",
       "      <td>Y</td>\n",
       "      <td>House / apartment</td>\n",
       "      <td>Government</td>\n",
       "      <td>0</td>\n",
       "      <td>Laborers</td>\n",
       "      <td>67500.0</td>\n",
       "      <td>-225</td>\n",
       "      <td>4000000</td>\n",
       "    </tr>\n",
       "    <tr>\n",
       "      <td>3</td>\n",
       "      <td>73266627</td>\n",
       "      <td>F</td>\n",
       "      <td>Secondary / secondary special</td>\n",
       "      <td>Y</td>\n",
       "      <td>House / apartment</td>\n",
       "      <td>Business Entity Type 3</td>\n",
       "      <td>0</td>\n",
       "      <td>Laborers</td>\n",
       "      <td>135000.0</td>\n",
       "      <td>-3039</td>\n",
       "      <td>60000000</td>\n",
       "    </tr>\n",
       "    <tr>\n",
       "      <td>4</td>\n",
       "      <td>73266639</td>\n",
       "      <td>M</td>\n",
       "      <td>Secondary / secondary special</td>\n",
       "      <td>Y</td>\n",
       "      <td>House / apartment</td>\n",
       "      <td>Religion</td>\n",
       "      <td>0</td>\n",
       "      <td>Core staff</td>\n",
       "      <td>121500.0</td>\n",
       "      <td>-3038</td>\n",
       "      <td>5000000</td>\n",
       "    </tr>\n",
       "  </tbody>\n",
       "</table>\n",
       "</div>"
      ],
      "text/plain": [
       "     CIF_NO CODE_GENDER            NAME_EDUCATION_TYPE FLAG_OWN_REALTY  \\\n",
       "0  73122693           M  Secondary / secondary special               Y   \n",
       "1  73152323           F               Higher education               N   \n",
       "2  73171319           M  Secondary / secondary special               Y   \n",
       "3  73266627           F  Secondary / secondary special               Y   \n",
       "4  73266639           M  Secondary / secondary special               Y   \n",
       "\n",
       "   NAME_HOUSING_TYPE       ORGANIZATION_TYPE  CNT_CHILDREN OCCUPATION_TYPE  \\\n",
       "0  House / apartment  Business Entity Type 3             0        Laborers   \n",
       "1  House / apartment                  School             0      Core staff   \n",
       "2  House / apartment              Government             0        Laborers   \n",
       "3  House / apartment  Business Entity Type 3             0        Laborers   \n",
       "4  House / apartment                Religion             0      Core staff   \n",
       "\n",
       "   AMT_INCOME_TOTAL  DAYS_EMPLOYED  CREDIT_LIMIT  \n",
       "0          202500.0           -637             0  \n",
       "1          270000.0          -1188      20000000  \n",
       "2           67500.0           -225       4000000  \n",
       "3          135000.0          -3039      60000000  \n",
       "4          121500.0          -3038       5000000  "
      ]
     },
     "execution_count": 7,
     "metadata": {},
     "output_type": "execute_result"
    }
   ],
   "source": [
    "data.head()"
   ]
  },
  {
   "cell_type": "markdown",
   "metadata": {},
   "source": [
    "As you can see, there is a credit limit assigned here which makes this data applicable to regression problems. "
   ]
  },
  {
   "cell_type": "code",
   "execution_count": 8,
   "metadata": {},
   "outputs": [],
   "source": [
    "#One-hot encoding the data"
   ]
  },
  {
   "cell_type": "code",
   "execution_count": 9,
   "metadata": {},
   "outputs": [],
   "source": [
    "data_encoded = pd.get_dummies(data)"
   ]
  },
  {
   "cell_type": "code",
   "execution_count": 10,
   "metadata": {},
   "outputs": [
    {
     "data": {
      "text/plain": [
       "Index(['CIF_NO', 'CNT_CHILDREN', 'AMT_INCOME_TOTAL', 'DAYS_EMPLOYED',\n",
       "       'CREDIT_LIMIT', 'CODE_GENDER_F', 'CODE_GENDER_M',\n",
       "       'NAME_EDUCATION_TYPE_Academic degree',\n",
       "       'NAME_EDUCATION_TYPE_Higher education',\n",
       "       'NAME_EDUCATION_TYPE_Incomplete higher',\n",
       "       'NAME_EDUCATION_TYPE_Lower secondary',\n",
       "       'NAME_EDUCATION_TYPE_Secondary / secondary special',\n",
       "       'FLAG_OWN_REALTY_N', 'FLAG_OWN_REALTY_Y',\n",
       "       'NAME_HOUSING_TYPE_Co-op apartment',\n",
       "       'NAME_HOUSING_TYPE_House / apartment',\n",
       "       'NAME_HOUSING_TYPE_Municipal apartment',\n",
       "       'NAME_HOUSING_TYPE_Office apartment',\n",
       "       'NAME_HOUSING_TYPE_Rented apartment', 'NAME_HOUSING_TYPE_With parents',\n",
       "       'ORGANIZATION_TYPE_Advertising', 'ORGANIZATION_TYPE_Agriculture',\n",
       "       'ORGANIZATION_TYPE_Bank', 'ORGANIZATION_TYPE_Business Entity Type 1',\n",
       "       'ORGANIZATION_TYPE_Business Entity Type 2',\n",
       "       'ORGANIZATION_TYPE_Business Entity Type 3',\n",
       "       'ORGANIZATION_TYPE_Cleaning', 'ORGANIZATION_TYPE_Construction',\n",
       "       'ORGANIZATION_TYPE_Culture', 'ORGANIZATION_TYPE_Electricity',\n",
       "       'ORGANIZATION_TYPE_Emergency', 'ORGANIZATION_TYPE_Government',\n",
       "       'ORGANIZATION_TYPE_Hotel', 'ORGANIZATION_TYPE_Housing',\n",
       "       'ORGANIZATION_TYPE_Industry: type 1',\n",
       "       'ORGANIZATION_TYPE_Industry: type 10',\n",
       "       'ORGANIZATION_TYPE_Industry: type 11',\n",
       "       'ORGANIZATION_TYPE_Industry: type 12',\n",
       "       'ORGANIZATION_TYPE_Industry: type 13',\n",
       "       'ORGANIZATION_TYPE_Industry: type 2',\n",
       "       'ORGANIZATION_TYPE_Industry: type 3',\n",
       "       'ORGANIZATION_TYPE_Industry: type 4',\n",
       "       'ORGANIZATION_TYPE_Industry: type 5',\n",
       "       'ORGANIZATION_TYPE_Industry: type 6',\n",
       "       'ORGANIZATION_TYPE_Industry: type 7',\n",
       "       'ORGANIZATION_TYPE_Industry: type 8',\n",
       "       'ORGANIZATION_TYPE_Industry: type 9', 'ORGANIZATION_TYPE_Insurance',\n",
       "       'ORGANIZATION_TYPE_Kindergarten', 'ORGANIZATION_TYPE_Legal Services',\n",
       "       'ORGANIZATION_TYPE_Medicine', 'ORGANIZATION_TYPE_Military',\n",
       "       'ORGANIZATION_TYPE_Mobile', 'ORGANIZATION_TYPE_Other',\n",
       "       'ORGANIZATION_TYPE_Police', 'ORGANIZATION_TYPE_Postal',\n",
       "       'ORGANIZATION_TYPE_Realtor', 'ORGANIZATION_TYPE_Religion',\n",
       "       'ORGANIZATION_TYPE_Restaurant', 'ORGANIZATION_TYPE_School',\n",
       "       'ORGANIZATION_TYPE_Security', 'ORGANIZATION_TYPE_Security Ministries',\n",
       "       'ORGANIZATION_TYPE_Self-employed', 'ORGANIZATION_TYPE_Services',\n",
       "       'ORGANIZATION_TYPE_Telecom', 'ORGANIZATION_TYPE_Trade: type 1',\n",
       "       'ORGANIZATION_TYPE_Trade: type 2', 'ORGANIZATION_TYPE_Trade: type 3',\n",
       "       'ORGANIZATION_TYPE_Trade: type 4', 'ORGANIZATION_TYPE_Trade: type 5',\n",
       "       'ORGANIZATION_TYPE_Trade: type 6', 'ORGANIZATION_TYPE_Trade: type 7',\n",
       "       'ORGANIZATION_TYPE_Transport: type 1',\n",
       "       'ORGANIZATION_TYPE_Transport: type 2',\n",
       "       'ORGANIZATION_TYPE_Transport: type 3',\n",
       "       'ORGANIZATION_TYPE_Transport: type 4', 'ORGANIZATION_TYPE_University',\n",
       "       'ORGANIZATION_TYPE_XNA', 'OCCUPATION_TYPE_Accountants',\n",
       "       'OCCUPATION_TYPE_Cleaning staff', 'OCCUPATION_TYPE_Cooking staff',\n",
       "       'OCCUPATION_TYPE_Core staff', 'OCCUPATION_TYPE_Drivers',\n",
       "       'OCCUPATION_TYPE_HR staff', 'OCCUPATION_TYPE_High skill tech staff',\n",
       "       'OCCUPATION_TYPE_IT staff', 'OCCUPATION_TYPE_Laborers',\n",
       "       'OCCUPATION_TYPE_Low-skill Laborers', 'OCCUPATION_TYPE_Managers',\n",
       "       'OCCUPATION_TYPE_Medicine staff', 'OCCUPATION_TYPE_None',\n",
       "       'OCCUPATION_TYPE_Private service staff',\n",
       "       'OCCUPATION_TYPE_Realty agents', 'OCCUPATION_TYPE_Sales staff',\n",
       "       'OCCUPATION_TYPE_Secretaries', 'OCCUPATION_TYPE_Security staff',\n",
       "       'OCCUPATION_TYPE_Waiters/barmen staff'],\n",
       "      dtype='object')"
      ]
     },
     "execution_count": 10,
     "metadata": {},
     "output_type": "execute_result"
    }
   ],
   "source": [
    "data_encoded.columns"
   ]
  },
  {
   "cell_type": "code",
   "execution_count": 11,
   "metadata": {},
   "outputs": [],
   "source": [
    "#importing the necessary libraries for train test splits\n",
    "from sklearn.model_selection import train_test_split"
   ]
  },
  {
   "cell_type": "markdown",
   "metadata": {},
   "source": [
    "For this to work, we first need to take X and y properly where:\n",
    "\n",
    "    X -> features (in this case, data.loc[:,'CIF_NO':'DAYS_EMPLOYED']\n",
    "    y -> target variable (in this case , data[:,'CREDIT_LIMIT'])"
   ]
  },
  {
   "cell_type": "code",
   "execution_count": 12,
   "metadata": {},
   "outputs": [],
   "source": [
    "X = data_encoded.loc[:, data_encoded.columns != 'CREDIT_LIMIT']"
   ]
  },
  {
   "cell_type": "code",
   "execution_count": 13,
   "metadata": {},
   "outputs": [],
   "source": [
    "y = data_encoded.loc[:,'CREDIT_LIMIT']"
   ]
  },
  {
   "cell_type": "code",
   "execution_count": 14,
   "metadata": {},
   "outputs": [
    {
     "data": {
      "text/html": [
       "<div>\n",
       "<style scoped>\n",
       "    .dataframe tbody tr th:only-of-type {\n",
       "        vertical-align: middle;\n",
       "    }\n",
       "\n",
       "    .dataframe tbody tr th {\n",
       "        vertical-align: top;\n",
       "    }\n",
       "\n",
       "    .dataframe thead th {\n",
       "        text-align: right;\n",
       "    }\n",
       "</style>\n",
       "<table border=\"1\" class=\"dataframe\">\n",
       "  <thead>\n",
       "    <tr style=\"text-align: right;\">\n",
       "      <th></th>\n",
       "      <th>CIF_NO</th>\n",
       "      <th>CNT_CHILDREN</th>\n",
       "      <th>AMT_INCOME_TOTAL</th>\n",
       "      <th>DAYS_EMPLOYED</th>\n",
       "      <th>CODE_GENDER_F</th>\n",
       "      <th>CODE_GENDER_M</th>\n",
       "      <th>NAME_EDUCATION_TYPE_Academic degree</th>\n",
       "      <th>NAME_EDUCATION_TYPE_Higher education</th>\n",
       "      <th>NAME_EDUCATION_TYPE_Incomplete higher</th>\n",
       "      <th>NAME_EDUCATION_TYPE_Lower secondary</th>\n",
       "      <th>...</th>\n",
       "      <th>OCCUPATION_TYPE_Low-skill Laborers</th>\n",
       "      <th>OCCUPATION_TYPE_Managers</th>\n",
       "      <th>OCCUPATION_TYPE_Medicine staff</th>\n",
       "      <th>OCCUPATION_TYPE_None</th>\n",
       "      <th>OCCUPATION_TYPE_Private service staff</th>\n",
       "      <th>OCCUPATION_TYPE_Realty agents</th>\n",
       "      <th>OCCUPATION_TYPE_Sales staff</th>\n",
       "      <th>OCCUPATION_TYPE_Secretaries</th>\n",
       "      <th>OCCUPATION_TYPE_Security staff</th>\n",
       "      <th>OCCUPATION_TYPE_Waiters/barmen staff</th>\n",
       "    </tr>\n",
       "  </thead>\n",
       "  <tbody>\n",
       "    <tr>\n",
       "      <td>0</td>\n",
       "      <td>73122693</td>\n",
       "      <td>0</td>\n",
       "      <td>202500.0</td>\n",
       "      <td>-637</td>\n",
       "      <td>0</td>\n",
       "      <td>1</td>\n",
       "      <td>0</td>\n",
       "      <td>0</td>\n",
       "      <td>0</td>\n",
       "      <td>0</td>\n",
       "      <td>...</td>\n",
       "      <td>0</td>\n",
       "      <td>0</td>\n",
       "      <td>0</td>\n",
       "      <td>0</td>\n",
       "      <td>0</td>\n",
       "      <td>0</td>\n",
       "      <td>0</td>\n",
       "      <td>0</td>\n",
       "      <td>0</td>\n",
       "      <td>0</td>\n",
       "    </tr>\n",
       "    <tr>\n",
       "      <td>1</td>\n",
       "      <td>73152323</td>\n",
       "      <td>0</td>\n",
       "      <td>270000.0</td>\n",
       "      <td>-1188</td>\n",
       "      <td>1</td>\n",
       "      <td>0</td>\n",
       "      <td>0</td>\n",
       "      <td>1</td>\n",
       "      <td>0</td>\n",
       "      <td>0</td>\n",
       "      <td>...</td>\n",
       "      <td>0</td>\n",
       "      <td>0</td>\n",
       "      <td>0</td>\n",
       "      <td>0</td>\n",
       "      <td>0</td>\n",
       "      <td>0</td>\n",
       "      <td>0</td>\n",
       "      <td>0</td>\n",
       "      <td>0</td>\n",
       "      <td>0</td>\n",
       "    </tr>\n",
       "    <tr>\n",
       "      <td>2</td>\n",
       "      <td>73171319</td>\n",
       "      <td>0</td>\n",
       "      <td>67500.0</td>\n",
       "      <td>-225</td>\n",
       "      <td>0</td>\n",
       "      <td>1</td>\n",
       "      <td>0</td>\n",
       "      <td>0</td>\n",
       "      <td>0</td>\n",
       "      <td>0</td>\n",
       "      <td>...</td>\n",
       "      <td>0</td>\n",
       "      <td>0</td>\n",
       "      <td>0</td>\n",
       "      <td>0</td>\n",
       "      <td>0</td>\n",
       "      <td>0</td>\n",
       "      <td>0</td>\n",
       "      <td>0</td>\n",
       "      <td>0</td>\n",
       "      <td>0</td>\n",
       "    </tr>\n",
       "    <tr>\n",
       "      <td>3</td>\n",
       "      <td>73266627</td>\n",
       "      <td>0</td>\n",
       "      <td>135000.0</td>\n",
       "      <td>-3039</td>\n",
       "      <td>1</td>\n",
       "      <td>0</td>\n",
       "      <td>0</td>\n",
       "      <td>0</td>\n",
       "      <td>0</td>\n",
       "      <td>0</td>\n",
       "      <td>...</td>\n",
       "      <td>0</td>\n",
       "      <td>0</td>\n",
       "      <td>0</td>\n",
       "      <td>0</td>\n",
       "      <td>0</td>\n",
       "      <td>0</td>\n",
       "      <td>0</td>\n",
       "      <td>0</td>\n",
       "      <td>0</td>\n",
       "      <td>0</td>\n",
       "    </tr>\n",
       "    <tr>\n",
       "      <td>4</td>\n",
       "      <td>73266639</td>\n",
       "      <td>0</td>\n",
       "      <td>121500.0</td>\n",
       "      <td>-3038</td>\n",
       "      <td>0</td>\n",
       "      <td>1</td>\n",
       "      <td>0</td>\n",
       "      <td>0</td>\n",
       "      <td>0</td>\n",
       "      <td>0</td>\n",
       "      <td>...</td>\n",
       "      <td>0</td>\n",
       "      <td>0</td>\n",
       "      <td>0</td>\n",
       "      <td>0</td>\n",
       "      <td>0</td>\n",
       "      <td>0</td>\n",
       "      <td>0</td>\n",
       "      <td>0</td>\n",
       "      <td>0</td>\n",
       "      <td>0</td>\n",
       "    </tr>\n",
       "    <tr>\n",
       "      <td>...</td>\n",
       "      <td>...</td>\n",
       "      <td>...</td>\n",
       "      <td>...</td>\n",
       "      <td>...</td>\n",
       "      <td>...</td>\n",
       "      <td>...</td>\n",
       "      <td>...</td>\n",
       "      <td>...</td>\n",
       "      <td>...</td>\n",
       "      <td>...</td>\n",
       "      <td>...</td>\n",
       "      <td>...</td>\n",
       "      <td>...</td>\n",
       "      <td>...</td>\n",
       "      <td>...</td>\n",
       "      <td>...</td>\n",
       "      <td>...</td>\n",
       "      <td>...</td>\n",
       "      <td>...</td>\n",
       "      <td>...</td>\n",
       "      <td>...</td>\n",
       "    </tr>\n",
       "    <tr>\n",
       "      <td>8558</td>\n",
       "      <td>74932789</td>\n",
       "      <td>1</td>\n",
       "      <td>63000.0</td>\n",
       "      <td>-2791</td>\n",
       "      <td>1</td>\n",
       "      <td>0</td>\n",
       "      <td>0</td>\n",
       "      <td>0</td>\n",
       "      <td>0</td>\n",
       "      <td>0</td>\n",
       "      <td>...</td>\n",
       "      <td>0</td>\n",
       "      <td>0</td>\n",
       "      <td>0</td>\n",
       "      <td>1</td>\n",
       "      <td>0</td>\n",
       "      <td>0</td>\n",
       "      <td>0</td>\n",
       "      <td>0</td>\n",
       "      <td>0</td>\n",
       "      <td>0</td>\n",
       "    </tr>\n",
       "    <tr>\n",
       "      <td>8559</td>\n",
       "      <td>74888041</td>\n",
       "      <td>0</td>\n",
       "      <td>225000.0</td>\n",
       "      <td>-7059</td>\n",
       "      <td>0</td>\n",
       "      <td>1</td>\n",
       "      <td>0</td>\n",
       "      <td>0</td>\n",
       "      <td>0</td>\n",
       "      <td>0</td>\n",
       "      <td>...</td>\n",
       "      <td>0</td>\n",
       "      <td>0</td>\n",
       "      <td>0</td>\n",
       "      <td>0</td>\n",
       "      <td>0</td>\n",
       "      <td>0</td>\n",
       "      <td>0</td>\n",
       "      <td>0</td>\n",
       "      <td>0</td>\n",
       "      <td>0</td>\n",
       "    </tr>\n",
       "    <tr>\n",
       "      <td>8560</td>\n",
       "      <td>73546253</td>\n",
       "      <td>0</td>\n",
       "      <td>247500.0</td>\n",
       "      <td>-1364</td>\n",
       "      <td>1</td>\n",
       "      <td>0</td>\n",
       "      <td>0</td>\n",
       "      <td>0</td>\n",
       "      <td>0</td>\n",
       "      <td>0</td>\n",
       "      <td>...</td>\n",
       "      <td>0</td>\n",
       "      <td>0</td>\n",
       "      <td>0</td>\n",
       "      <td>1</td>\n",
       "      <td>0</td>\n",
       "      <td>0</td>\n",
       "      <td>0</td>\n",
       "      <td>0</td>\n",
       "      <td>0</td>\n",
       "      <td>0</td>\n",
       "    </tr>\n",
       "    <tr>\n",
       "      <td>8561</td>\n",
       "      <td>74252323</td>\n",
       "      <td>1</td>\n",
       "      <td>63000.0</td>\n",
       "      <td>-2791</td>\n",
       "      <td>1</td>\n",
       "      <td>0</td>\n",
       "      <td>0</td>\n",
       "      <td>0</td>\n",
       "      <td>0</td>\n",
       "      <td>0</td>\n",
       "      <td>...</td>\n",
       "      <td>0</td>\n",
       "      <td>0</td>\n",
       "      <td>0</td>\n",
       "      <td>1</td>\n",
       "      <td>0</td>\n",
       "      <td>0</td>\n",
       "      <td>0</td>\n",
       "      <td>0</td>\n",
       "      <td>0</td>\n",
       "      <td>0</td>\n",
       "    </tr>\n",
       "    <tr>\n",
       "      <td>8562</td>\n",
       "      <td>74940574</td>\n",
       "      <td>0</td>\n",
       "      <td>225000.0</td>\n",
       "      <td>-7059</td>\n",
       "      <td>0</td>\n",
       "      <td>1</td>\n",
       "      <td>0</td>\n",
       "      <td>0</td>\n",
       "      <td>0</td>\n",
       "      <td>0</td>\n",
       "      <td>...</td>\n",
       "      <td>0</td>\n",
       "      <td>0</td>\n",
       "      <td>0</td>\n",
       "      <td>0</td>\n",
       "      <td>0</td>\n",
       "      <td>0</td>\n",
       "      <td>0</td>\n",
       "      <td>0</td>\n",
       "      <td>0</td>\n",
       "      <td>0</td>\n",
       "    </tr>\n",
       "  </tbody>\n",
       "</table>\n",
       "<p>8563 rows × 96 columns</p>\n",
       "</div>"
      ],
      "text/plain": [
       "        CIF_NO  CNT_CHILDREN  AMT_INCOME_TOTAL  DAYS_EMPLOYED  CODE_GENDER_F  \\\n",
       "0     73122693             0          202500.0           -637              0   \n",
       "1     73152323             0          270000.0          -1188              1   \n",
       "2     73171319             0           67500.0           -225              0   \n",
       "3     73266627             0          135000.0          -3039              1   \n",
       "4     73266639             0          121500.0          -3038              0   \n",
       "...        ...           ...               ...            ...            ...   \n",
       "8558  74932789             1           63000.0          -2791              1   \n",
       "8559  74888041             0          225000.0          -7059              0   \n",
       "8560  73546253             0          247500.0          -1364              1   \n",
       "8561  74252323             1           63000.0          -2791              1   \n",
       "8562  74940574             0          225000.0          -7059              0   \n",
       "\n",
       "      CODE_GENDER_M  NAME_EDUCATION_TYPE_Academic degree  \\\n",
       "0                 1                                    0   \n",
       "1                 0                                    0   \n",
       "2                 1                                    0   \n",
       "3                 0                                    0   \n",
       "4                 1                                    0   \n",
       "...             ...                                  ...   \n",
       "8558              0                                    0   \n",
       "8559              1                                    0   \n",
       "8560              0                                    0   \n",
       "8561              0                                    0   \n",
       "8562              1                                    0   \n",
       "\n",
       "      NAME_EDUCATION_TYPE_Higher education  \\\n",
       "0                                        0   \n",
       "1                                        1   \n",
       "2                                        0   \n",
       "3                                        0   \n",
       "4                                        0   \n",
       "...                                    ...   \n",
       "8558                                     0   \n",
       "8559                                     0   \n",
       "8560                                     0   \n",
       "8561                                     0   \n",
       "8562                                     0   \n",
       "\n",
       "      NAME_EDUCATION_TYPE_Incomplete higher  \\\n",
       "0                                         0   \n",
       "1                                         0   \n",
       "2                                         0   \n",
       "3                                         0   \n",
       "4                                         0   \n",
       "...                                     ...   \n",
       "8558                                      0   \n",
       "8559                                      0   \n",
       "8560                                      0   \n",
       "8561                                      0   \n",
       "8562                                      0   \n",
       "\n",
       "      NAME_EDUCATION_TYPE_Lower secondary  ...  \\\n",
       "0                                       0  ...   \n",
       "1                                       0  ...   \n",
       "2                                       0  ...   \n",
       "3                                       0  ...   \n",
       "4                                       0  ...   \n",
       "...                                   ...  ...   \n",
       "8558                                    0  ...   \n",
       "8559                                    0  ...   \n",
       "8560                                    0  ...   \n",
       "8561                                    0  ...   \n",
       "8562                                    0  ...   \n",
       "\n",
       "      OCCUPATION_TYPE_Low-skill Laborers  OCCUPATION_TYPE_Managers  \\\n",
       "0                                      0                         0   \n",
       "1                                      0                         0   \n",
       "2                                      0                         0   \n",
       "3                                      0                         0   \n",
       "4                                      0                         0   \n",
       "...                                  ...                       ...   \n",
       "8558                                   0                         0   \n",
       "8559                                   0                         0   \n",
       "8560                                   0                         0   \n",
       "8561                                   0                         0   \n",
       "8562                                   0                         0   \n",
       "\n",
       "      OCCUPATION_TYPE_Medicine staff  OCCUPATION_TYPE_None  \\\n",
       "0                                  0                     0   \n",
       "1                                  0                     0   \n",
       "2                                  0                     0   \n",
       "3                                  0                     0   \n",
       "4                                  0                     0   \n",
       "...                              ...                   ...   \n",
       "8558                               0                     1   \n",
       "8559                               0                     0   \n",
       "8560                               0                     1   \n",
       "8561                               0                     1   \n",
       "8562                               0                     0   \n",
       "\n",
       "      OCCUPATION_TYPE_Private service staff  OCCUPATION_TYPE_Realty agents  \\\n",
       "0                                         0                              0   \n",
       "1                                         0                              0   \n",
       "2                                         0                              0   \n",
       "3                                         0                              0   \n",
       "4                                         0                              0   \n",
       "...                                     ...                            ...   \n",
       "8558                                      0                              0   \n",
       "8559                                      0                              0   \n",
       "8560                                      0                              0   \n",
       "8561                                      0                              0   \n",
       "8562                                      0                              0   \n",
       "\n",
       "      OCCUPATION_TYPE_Sales staff  OCCUPATION_TYPE_Secretaries  \\\n",
       "0                               0                            0   \n",
       "1                               0                            0   \n",
       "2                               0                            0   \n",
       "3                               0                            0   \n",
       "4                               0                            0   \n",
       "...                           ...                          ...   \n",
       "8558                            0                            0   \n",
       "8559                            0                            0   \n",
       "8560                            0                            0   \n",
       "8561                            0                            0   \n",
       "8562                            0                            0   \n",
       "\n",
       "      OCCUPATION_TYPE_Security staff  OCCUPATION_TYPE_Waiters/barmen staff  \n",
       "0                                  0                                     0  \n",
       "1                                  0                                     0  \n",
       "2                                  0                                     0  \n",
       "3                                  0                                     0  \n",
       "4                                  0                                     0  \n",
       "...                              ...                                   ...  \n",
       "8558                               0                                     0  \n",
       "8559                               0                                     0  \n",
       "8560                               0                                     0  \n",
       "8561                               0                                     0  \n",
       "8562                               0                                     0  \n",
       "\n",
       "[8563 rows x 96 columns]"
      ]
     },
     "execution_count": 14,
     "metadata": {},
     "output_type": "execute_result"
    }
   ],
   "source": [
    "X"
   ]
  },
  {
   "cell_type": "code",
   "execution_count": 15,
   "metadata": {},
   "outputs": [
    {
     "data": {
      "text/plain": [
       "0              0\n",
       "1       20000000\n",
       "2        4000000\n",
       "3       60000000\n",
       "4        5000000\n",
       "          ...   \n",
       "8558     2000000\n",
       "8559           0\n",
       "8560     4000000\n",
       "8561           0\n",
       "8562    20000000\n",
       "Name: CREDIT_LIMIT, Length: 8563, dtype: int64"
      ]
     },
     "execution_count": 15,
     "metadata": {},
     "output_type": "execute_result"
    }
   ],
   "source": [
    "y"
   ]
  },
  {
   "cell_type": "code",
   "execution_count": 16,
   "metadata": {},
   "outputs": [],
   "source": [
    "#Splitting into train and test : Here you can define your own random state and test size\n",
    "X_train, X_test, y_train, y_test = train_test_split(X, y, test_size=0.3, random_state=42)"
   ]
  },
  {
   "cell_type": "code",
   "execution_count": 17,
   "metadata": {},
   "outputs": [
    {
     "name": "stdout",
     "output_type": "stream",
     "text": [
      "Shape of X_train is (5994, 96)\n",
      "Shape of X_test is (2569, 96)\n",
      "Shape of Y_train is (5994,)\n",
      "Shape of Y_test is (2569,)\n"
     ]
    }
   ],
   "source": [
    "print('Shape of X_train is {}'.format(X_train.shape))\n",
    "print('Shape of X_test is {}'.format(X_test.shape))\n",
    "print('Shape of Y_train is {}'.format(y_train.shape))\n",
    "print('Shape of Y_test is {}'.format(y_test.shape))"
   ]
  },
  {
   "cell_type": "markdown",
   "metadata": {},
   "source": [
    "Our models will be trained using (X_train,y_train) and will be tested using X_test in the first fit and using X_train in the second fit "
   ]
  },
  {
   "cell_type": "code",
   "execution_count": 18,
   "metadata": {},
   "outputs": [],
   "source": [
    "df_scores = pd.DataFrame()\n",
    "model_name = []\n",
    "r2_test = []\n",
    "r2_train = []\n",
    "rmse_test = []\n",
    "rmse_train = []"
   ]
  },
  {
   "cell_type": "code",
   "execution_count": 19,
   "metadata": {},
   "outputs": [],
   "source": [
    "from sklearn.linear_model import LinearRegression\n",
    "from sklearn import metrics\n",
    "from sklearn.metrics import r2_score,mean_squared_error\n",
    "from math import sqrt"
   ]
  },
  {
   "cell_type": "code",
   "execution_count": 20,
   "metadata": {},
   "outputs": [],
   "source": [
    "clf = LinearRegression()\n",
    "clf.fit(X_train,y_train)\n",
    "y_pred = clf.predict(X_test)\n",
    "r2_score_test = r2_score(y_test,y_pred)\n",
    "rmse_score_test = sqrt(mean_squared_error(y_test,y_pred))"
   ]
  },
  {
   "cell_type": "code",
   "execution_count": 21,
   "metadata": {},
   "outputs": [],
   "source": [
    "clf = LinearRegression()\n",
    "clf.fit(X_train,y_train)\n",
    "y_pred = clf.predict(X_train)\n",
    "r2_score_train = r2_score(y_train,y_pred) \n",
    "rmse_score_train = sqrt(mean_squared_error(y_train,y_pred))"
   ]
  },
  {
   "cell_type": "code",
   "execution_count": 22,
   "metadata": {},
   "outputs": [],
   "source": [
    "model_name.append('Linear Regression')\n",
    "r2_test.append(r2_score_test)\n",
    "rmse_test.append(rmse_score_test)\n",
    "r2_train.append(r2_score_train)\n",
    "rmse_train.append(rmse_score_train)"
   ]
  },
  {
   "cell_type": "code",
   "execution_count": 23,
   "metadata": {},
   "outputs": [],
   "source": [
    "from sklearn.linear_model import SGDRegressor"
   ]
  },
  {
   "cell_type": "code",
   "execution_count": 24,
   "metadata": {},
   "outputs": [],
   "source": [
    "clf = SGDRegressor()\n",
    "clf.fit(X_train,y_train)\n",
    "y_pred = clf.predict(X_test)\n",
    "r2_score_test = r2_score(y_test,y_pred)\n",
    "rmse_score_test = sqrt(mean_squared_error(y_test,y_pred))"
   ]
  },
  {
   "cell_type": "code",
   "execution_count": 25,
   "metadata": {},
   "outputs": [],
   "source": [
    "clf = SGDRegressor()\n",
    "clf.fit(X_train,y_train)\n",
    "y_pred = clf.predict(X_train)\n",
    "r2_score_train = r2_score(y_train,y_pred) \n",
    "rmse_score_train = sqrt(mean_squared_error(y_train,y_pred))"
   ]
  },
  {
   "cell_type": "code",
   "execution_count": 26,
   "metadata": {},
   "outputs": [],
   "source": [
    "model_name.append('Stochastic Gradient Descent Regression')\n",
    "r2_test.append(r2_score_test)\n",
    "rmse_test.append(rmse_score_test)\n",
    "r2_train.append(r2_score_train)\n",
    "rmse_train.append(rmse_score_train)"
   ]
  },
  {
   "cell_type": "code",
   "execution_count": 27,
   "metadata": {},
   "outputs": [],
   "source": [
    "from sklearn.ensemble import VotingRegressor"
   ]
  },
  {
   "cell_type": "code",
   "execution_count": 28,
   "metadata": {},
   "outputs": [],
   "source": [
    "clf = SGDRegressor()\n",
    "clf.fit(X_train,y_train)\n",
    "y_pred = clf.predict(X_test)\n",
    "r2_score_test = r2_score(y_test,y_pred)\n",
    "rmse_score_test = sqrt(mean_squared_error(y_test,y_pred))"
   ]
  },
  {
   "cell_type": "code",
   "execution_count": 29,
   "metadata": {},
   "outputs": [],
   "source": [
    "clf = SGDRegressor()\n",
    "clf.fit(X_train,y_train)\n",
    "y_pred = clf.predict(X_train)\n",
    "r2_score_train = r2_score(y_train,y_pred) \n",
    "rmse_score_train = sqrt(mean_squared_error(y_train,y_pred))"
   ]
  },
  {
   "cell_type": "code",
   "execution_count": 30,
   "metadata": {},
   "outputs": [],
   "source": [
    "model_name.append('Voting Regression')\n",
    "r2_test.append(r2_score_test)\n",
    "rmse_test.append(rmse_score_test)\n",
    "r2_train.append(r2_score_train)\n",
    "rmse_train.append(rmse_score_train)"
   ]
  },
  {
   "cell_type": "code",
   "execution_count": 31,
   "metadata": {},
   "outputs": [],
   "source": [
    "\n",
    "from lightgbm.sklearn import LGBMRegressor"
   ]
  },
  {
   "cell_type": "code",
   "execution_count": 32,
   "metadata": {},
   "outputs": [],
   "source": [
    "data_encoded.columns = [\"\".join(c if c.isalnum() else \"_\" for c in str(x)) for x in data_encoded.columns]\n",
    "X = data_encoded.loc[:, data_encoded.columns != 'CREDIT_LIMIT']\n",
    "y = data_encoded.loc[:, 'CREDIT_LIMIT']\n",
    "X_train, X_test, y_train, y_test = train_test_split(X, y, test_size=0.3, random_state=42)"
   ]
  },
  {
   "cell_type": "code",
   "execution_count": 33,
   "metadata": {},
   "outputs": [],
   "source": [
    "clf = LGBMRegressor()\n",
    "clf.fit(X_train,y_train)\n",
    "y_pred = clf.predict(X_test)\n",
    "r2_score_test = r2_score(y_test,y_pred)\n",
    "rmse_score_test = sqrt(mean_squared_error(y_test,y_pred))"
   ]
  },
  {
   "cell_type": "code",
   "execution_count": 34,
   "metadata": {},
   "outputs": [],
   "source": [
    "clf = LGBMRegressor()\n",
    "clf.fit(X_train,y_train)\n",
    "y_pred = clf.predict(X_train)\n",
    "r2_score_train = r2_score(y_train,y_pred) \n",
    "rmse_score_train = sqrt(mean_squared_error(y_train,y_pred))"
   ]
  },
  {
   "cell_type": "code",
   "execution_count": 35,
   "metadata": {},
   "outputs": [],
   "source": [
    "model_name.append('LGBM Regression')\n",
    "r2_test.append(r2_score_test)\n",
    "rmse_test.append(rmse_score_test)\n",
    "r2_train.append(r2_score_train)\n",
    "rmse_train.append(rmse_score_train)"
   ]
  },
  {
   "cell_type": "code",
   "execution_count": 36,
   "metadata": {},
   "outputs": [],
   "source": [
    "from sklearn.linear_model import LogisticRegression"
   ]
  },
  {
   "cell_type": "code",
   "execution_count": 37,
   "metadata": {},
   "outputs": [
    {
     "name": "stderr",
     "output_type": "stream",
     "text": [
      "C:\\Users\\acer\\Anaconda3\\lib\\site-packages\\sklearn\\linear_model\\logistic.py:432: FutureWarning: Default solver will be changed to 'lbfgs' in 0.22. Specify a solver to silence this warning.\n",
      "  FutureWarning)\n",
      "C:\\Users\\acer\\Anaconda3\\lib\\site-packages\\sklearn\\linear_model\\logistic.py:469: FutureWarning: Default multi_class will be changed to 'auto' in 0.22. Specify the multi_class option to silence this warning.\n",
      "  \"this warning.\", FutureWarning)\n"
     ]
    }
   ],
   "source": [
    "clf = LogisticRegression()\n",
    "clf.fit(X_train,y_train)\n",
    "y_pred = clf.predict(X_test)\n",
    "r2_score_test = r2_score(y_test,y_pred)\n",
    "rmse_score_test = sqrt(mean_squared_error(y_test,y_pred))"
   ]
  },
  {
   "cell_type": "code",
   "execution_count": 38,
   "metadata": {},
   "outputs": [
    {
     "name": "stderr",
     "output_type": "stream",
     "text": [
      "C:\\Users\\acer\\Anaconda3\\lib\\site-packages\\sklearn\\linear_model\\logistic.py:432: FutureWarning: Default solver will be changed to 'lbfgs' in 0.22. Specify a solver to silence this warning.\n",
      "  FutureWarning)\n",
      "C:\\Users\\acer\\Anaconda3\\lib\\site-packages\\sklearn\\linear_model\\logistic.py:469: FutureWarning: Default multi_class will be changed to 'auto' in 0.22. Specify the multi_class option to silence this warning.\n",
      "  \"this warning.\", FutureWarning)\n"
     ]
    }
   ],
   "source": [
    "clf = LogisticRegression()\n",
    "clf.fit(X_train,y_train)\n",
    "y_pred = clf.predict(X_train)\n",
    "r2_score_train = r2_score(y_train,y_pred) \n",
    "rmse_score_train = sqrt(mean_squared_error(y_train,y_pred))"
   ]
  },
  {
   "cell_type": "code",
   "execution_count": 39,
   "metadata": {},
   "outputs": [],
   "source": [
    "model_name.append('Logistic Regression')\n",
    "r2_test.append(r2_score_test)\n",
    "rmse_test.append(rmse_score_test)\n",
    "r2_train.append(r2_score_train)\n",
    "rmse_train.append(rmse_score_train)"
   ]
  },
  {
   "cell_type": "code",
   "execution_count": 40,
   "metadata": {},
   "outputs": [],
   "source": [
    "from sklearn.neural_network import MLPRegressor"
   ]
  },
  {
   "cell_type": "code",
   "execution_count": 41,
   "metadata": {},
   "outputs": [],
   "source": [
    "clf = MLPRegressor()\n",
    "clf.fit(X_train,y_train)\n",
    "y_pred = clf.predict(X_test)\n",
    "r2_score_test = r2_score(y_test,y_pred)\n",
    "rmse_score_test = sqrt(mean_squared_error(y_test,y_pred))"
   ]
  },
  {
   "cell_type": "code",
   "execution_count": 42,
   "metadata": {},
   "outputs": [],
   "source": [
    "clf = MLPRegressor()\n",
    "clf.fit(X_train,y_train)\n",
    "y_pred = clf.predict(X_train)\n",
    "r2_score_train = r2_score(y_train,y_pred) \n",
    "rmse_score_train = sqrt(mean_squared_error(y_train,y_pred))"
   ]
  },
  {
   "cell_type": "code",
   "execution_count": 43,
   "metadata": {},
   "outputs": [],
   "source": [
    "model_name.append('MLP Regression')\n",
    "r2_test.append(r2_score_test)\n",
    "rmse_test.append(rmse_score_test)\n",
    "r2_train.append(r2_score_train)\n",
    "rmse_train.append(rmse_score_train)"
   ]
  },
  {
   "cell_type": "code",
   "execution_count": 44,
   "metadata": {},
   "outputs": [],
   "source": [
    "from xgboost import XGBRegressor"
   ]
  },
  {
   "cell_type": "code",
   "execution_count": 45,
   "metadata": {},
   "outputs": [],
   "source": [
    "clf = XGBRegressor()\n",
    "clf.fit(X_train,y_train)\n",
    "y_pred = clf.predict(X_test)\n",
    "r2_score_test = r2_score(y_test,y_pred)\n",
    "rmse_score_test = sqrt(mean_squared_error(y_test,y_pred))"
   ]
  },
  {
   "cell_type": "code",
   "execution_count": 46,
   "metadata": {},
   "outputs": [],
   "source": [
    "clf = XGBRegressor()\n",
    "clf.fit(X_train,y_train)\n",
    "y_pred = clf.predict(X_train)\n",
    "r2_score_train = r2_score(y_train,y_pred) \n",
    "rmse_score_train = sqrt(mean_squared_error(y_train,y_pred))"
   ]
  },
  {
   "cell_type": "code",
   "execution_count": 47,
   "metadata": {},
   "outputs": [],
   "source": [
    "model_name.append('XGB Regression')\n",
    "r2_test.append(r2_score_test)\n",
    "rmse_test.append(rmse_score_test)\n",
    "r2_train.append(r2_score_train)\n",
    "rmse_train.append(rmse_score_train)"
   ]
  },
  {
   "cell_type": "code",
   "execution_count": 48,
   "metadata": {},
   "outputs": [],
   "source": [
    "from sklearn.ensemble import RandomForestRegressor"
   ]
  },
  {
   "cell_type": "code",
   "execution_count": 49,
   "metadata": {},
   "outputs": [
    {
     "name": "stderr",
     "output_type": "stream",
     "text": [
      "C:\\Users\\acer\\Anaconda3\\lib\\site-packages\\sklearn\\ensemble\\forest.py:245: FutureWarning: The default value of n_estimators will change from 10 in version 0.20 to 100 in 0.22.\n",
      "  \"10 in version 0.20 to 100 in 0.22.\", FutureWarning)\n"
     ]
    }
   ],
   "source": [
    "clf = RandomForestRegressor()\n",
    "clf.fit(X_train,y_train)\n",
    "y_pred = clf.predict(X_test)\n",
    "r2_score_test = r2_score(y_test,y_pred)\n",
    "rmse_score_test = sqrt(mean_squared_error(y_test,y_pred))"
   ]
  },
  {
   "cell_type": "code",
   "execution_count": 50,
   "metadata": {},
   "outputs": [
    {
     "name": "stderr",
     "output_type": "stream",
     "text": [
      "C:\\Users\\acer\\Anaconda3\\lib\\site-packages\\sklearn\\ensemble\\forest.py:245: FutureWarning: The default value of n_estimators will change from 10 in version 0.20 to 100 in 0.22.\n",
      "  \"10 in version 0.20 to 100 in 0.22.\", FutureWarning)\n"
     ]
    }
   ],
   "source": [
    "clf = RandomForestRegressor()\n",
    "clf.fit(X_train,y_train)\n",
    "y_pred = clf.predict(X_train)\n",
    "r2_score_train = r2_score(y_train,y_pred) \n",
    "rmse_score_train = sqrt(mean_squared_error(y_train,y_pred))"
   ]
  },
  {
   "cell_type": "code",
   "execution_count": 51,
   "metadata": {},
   "outputs": [],
   "source": [
    "model_name.append('Random Forest Regression')\n",
    "r2_test.append(r2_score_test)\n",
    "rmse_test.append(rmse_score_test)\n",
    "r2_train.append(r2_score_train)\n",
    "rmse_train.append(rmse_score_train)"
   ]
  },
  {
   "cell_type": "code",
   "execution_count": 52,
   "metadata": {},
   "outputs": [],
   "source": [
    "from sklearn.ensemble import BaggingRegressor"
   ]
  },
  {
   "cell_type": "code",
   "execution_count": 53,
   "metadata": {},
   "outputs": [],
   "source": [
    "clf = BaggingRegressor()\n",
    "clf.fit(X_train,y_train)\n",
    "y_pred = clf.predict(X_test)\n",
    "r2_score_test = r2_score(y_test,y_pred)\n",
    "rmse_score_test = sqrt(mean_squared_error(y_test,y_pred))"
   ]
  },
  {
   "cell_type": "code",
   "execution_count": 54,
   "metadata": {},
   "outputs": [],
   "source": [
    "clf = BaggingRegressor()\n",
    "clf.fit(X_train,y_train)\n",
    "y_pred = clf.predict(X_train)\n",
    "r2_score_train = r2_score(y_train,y_pred) \n",
    "rmse_score_train = sqrt(mean_squared_error(y_train,y_pred))"
   ]
  },
  {
   "cell_type": "code",
   "execution_count": 55,
   "metadata": {},
   "outputs": [],
   "source": [
    "model_name.append('Bagging Regression')\n",
    "r2_test.append(r2_score_test)\n",
    "rmse_test.append(rmse_score_test)\n",
    "r2_train.append(r2_score_train)\n",
    "rmse_train.append(rmse_score_train)"
   ]
  },
  {
   "cell_type": "code",
   "execution_count": 56,
   "metadata": {},
   "outputs": [],
   "source": [
    "from sklearn.ensemble import GradientBoostingRegressor"
   ]
  },
  {
   "cell_type": "code",
   "execution_count": 57,
   "metadata": {},
   "outputs": [],
   "source": [
    "clf = GradientBoostingRegressor()\n",
    "clf.fit(X_train,y_train)\n",
    "y_pred = clf.predict(X_test)\n",
    "r2_score_test = r2_score(y_test,y_pred)\n",
    "rmse_score_test = sqrt(mean_squared_error(y_test,y_pred))"
   ]
  },
  {
   "cell_type": "code",
   "execution_count": 58,
   "metadata": {},
   "outputs": [],
   "source": [
    "clf = GradientBoostingRegressor()\n",
    "clf.fit(X_train,y_train)\n",
    "y_pred = clf.predict(X_train)\n",
    "r2_score_train = r2_score(y_train,y_pred) \n",
    "rmse_score_train = sqrt(mean_squared_error(y_train,y_pred))"
   ]
  },
  {
   "cell_type": "code",
   "execution_count": 59,
   "metadata": {},
   "outputs": [],
   "source": [
    "model_name.append('Gradient Boosting Regression')\n",
    "r2_test.append(r2_score_test)\n",
    "rmse_test.append(rmse_score_test)\n",
    "r2_train.append(r2_score_train)\n",
    "rmse_train.append(rmse_score_train)"
   ]
  },
  {
   "cell_type": "code",
   "execution_count": 60,
   "metadata": {},
   "outputs": [],
   "source": [
    "from sklearn.ensemble import ExtraTreesRegressor"
   ]
  },
  {
   "cell_type": "code",
   "execution_count": 61,
   "metadata": {},
   "outputs": [
    {
     "name": "stderr",
     "output_type": "stream",
     "text": [
      "C:\\Users\\acer\\Anaconda3\\lib\\site-packages\\sklearn\\ensemble\\forest.py:245: FutureWarning: The default value of n_estimators will change from 10 in version 0.20 to 100 in 0.22.\n",
      "  \"10 in version 0.20 to 100 in 0.22.\", FutureWarning)\n"
     ]
    }
   ],
   "source": [
    "clf = ExtraTreesRegressor()\n",
    "clf.fit(X_train,y_train)\n",
    "y_pred = clf.predict(X_test)\n",
    "r2_score_test = r2_score(y_test,y_pred)\n",
    "rmse_score_test = sqrt(mean_squared_error(y_test,y_pred))"
   ]
  },
  {
   "cell_type": "code",
   "execution_count": 62,
   "metadata": {},
   "outputs": [
    {
     "name": "stderr",
     "output_type": "stream",
     "text": [
      "C:\\Users\\acer\\Anaconda3\\lib\\site-packages\\sklearn\\ensemble\\forest.py:245: FutureWarning: The default value of n_estimators will change from 10 in version 0.20 to 100 in 0.22.\n",
      "  \"10 in version 0.20 to 100 in 0.22.\", FutureWarning)\n"
     ]
    }
   ],
   "source": [
    "clf = ExtraTreesRegressor()\n",
    "clf.fit(X_train,y_train)\n",
    "y_pred = clf.predict(X_train)\n",
    "r2_score_train = r2_score(y_train,y_pred) \n",
    "rmse_score_train = sqrt(mean_squared_error(y_train,y_pred))"
   ]
  },
  {
   "cell_type": "code",
   "execution_count": 63,
   "metadata": {},
   "outputs": [],
   "source": [
    "model_name.append('Extra Trees Regression')\n",
    "r2_test.append(r2_score_test)\n",
    "rmse_test.append(rmse_score_test)\n",
    "r2_train.append(r2_score_train)\n",
    "rmse_train.append(rmse_score_train)"
   ]
  },
  {
   "cell_type": "code",
   "execution_count": 64,
   "metadata": {},
   "outputs": [],
   "source": [
    "from sklearn.ensemble import AdaBoostRegressor"
   ]
  },
  {
   "cell_type": "code",
   "execution_count": 65,
   "metadata": {},
   "outputs": [],
   "source": [
    "clf = AdaBoostRegressor()\n",
    "clf.fit(X_train,y_train)\n",
    "y_pred = clf.predict(X_test)\n",
    "r2_score_test = r2_score(y_test,y_pred)\n",
    "rmse_score_test = sqrt(mean_squared_error(y_test,y_pred))"
   ]
  },
  {
   "cell_type": "code",
   "execution_count": 66,
   "metadata": {},
   "outputs": [],
   "source": [
    "clf = AdaBoostRegressor()\n",
    "clf.fit(X_train,y_train)\n",
    "y_pred = clf.predict(X_train)\n",
    "r2_score_train = r2_score(y_train,y_pred) \n",
    "rmse_score_train = sqrt(mean_squared_error(y_train,y_pred))"
   ]
  },
  {
   "cell_type": "code",
   "execution_count": 67,
   "metadata": {},
   "outputs": [],
   "source": [
    "model_name.append('AdaBoost Regression')\n",
    "r2_test.append(r2_score_test)\n",
    "rmse_test.append(rmse_score_test)\n",
    "r2_train.append(r2_score_train)\n",
    "rmse_train.append(rmse_score_train)"
   ]
  },
  {
   "cell_type": "code",
   "execution_count": 68,
   "metadata": {},
   "outputs": [],
   "source": [
    "from sklearn.tree import DecisionTreeRegressor"
   ]
  },
  {
   "cell_type": "code",
   "execution_count": 69,
   "metadata": {},
   "outputs": [],
   "source": [
    "clf = DecisionTreeRegressor()\n",
    "clf.fit(X_train,y_train)\n",
    "y_pred = clf.predict(X_test)\n",
    "r2_score_test = r2_score(y_test,y_pred)\n",
    "rmse_score_test = sqrt(mean_squared_error(y_test,y_pred))"
   ]
  },
  {
   "cell_type": "code",
   "execution_count": 70,
   "metadata": {},
   "outputs": [],
   "source": [
    "clf = DecisionTreeRegressor()\n",
    "clf.fit(X_train,y_train)\n",
    "y_pred = clf.predict(X_train)\n",
    "r2_score_train = r2_score(y_train,y_pred) \n",
    "rmse_score_train = sqrt(mean_squared_error(y_train,y_pred))"
   ]
  },
  {
   "cell_type": "code",
   "execution_count": 71,
   "metadata": {},
   "outputs": [],
   "source": [
    "model_name.append('Decision Tree Regression')\n",
    "r2_test.append(r2_score_test)\n",
    "rmse_test.append(rmse_score_test)\n",
    "r2_train.append(r2_score_train)\n",
    "rmse_train.append(rmse_score_train)"
   ]
  },
  {
   "cell_type": "code",
   "execution_count": 72,
   "metadata": {},
   "outputs": [],
   "source": [
    "from sklearn.svm import SVR"
   ]
  },
  {
   "cell_type": "code",
   "execution_count": 73,
   "metadata": {},
   "outputs": [
    {
     "name": "stderr",
     "output_type": "stream",
     "text": [
      "C:\\Users\\acer\\Anaconda3\\lib\\site-packages\\sklearn\\svm\\base.py:193: FutureWarning: The default value of gamma will change from 'auto' to 'scale' in version 0.22 to account better for unscaled features. Set gamma explicitly to 'auto' or 'scale' to avoid this warning.\n",
      "  \"avoid this warning.\", FutureWarning)\n"
     ]
    }
   ],
   "source": [
    "clf = SVR()\n",
    "clf.fit(X_train,y_train)\n",
    "y_pred = clf.predict(X_test)\n",
    "r2_score_test = r2_score(y_test,y_pred)\n",
    "rmse_score_test = sqrt(mean_squared_error(y_test,y_pred))"
   ]
  },
  {
   "cell_type": "code",
   "execution_count": 74,
   "metadata": {},
   "outputs": [
    {
     "name": "stderr",
     "output_type": "stream",
     "text": [
      "C:\\Users\\acer\\Anaconda3\\lib\\site-packages\\sklearn\\svm\\base.py:193: FutureWarning: The default value of gamma will change from 'auto' to 'scale' in version 0.22 to account better for unscaled features. Set gamma explicitly to 'auto' or 'scale' to avoid this warning.\n",
      "  \"avoid this warning.\", FutureWarning)\n"
     ]
    }
   ],
   "source": [
    "clf = SVR()\n",
    "clf.fit(X_train,y_train)\n",
    "y_pred = clf.predict(X_train)\n",
    "r2_score_train = r2_score(y_train,y_pred) \n",
    "rmse_score_train = sqrt(mean_squared_error(y_train,y_pred))"
   ]
  },
  {
   "cell_type": "code",
   "execution_count": 75,
   "metadata": {},
   "outputs": [],
   "source": [
    "model_name.append('SVR')\n",
    "r2_test.append(r2_score_test)\n",
    "rmse_test.append(rmse_score_test)\n",
    "r2_train.append(r2_score_train)\n",
    "rmse_train.append(rmse_score_train)"
   ]
  },
  {
   "cell_type": "code",
   "execution_count": 76,
   "metadata": {},
   "outputs": [],
   "source": [
    "from sklearn import linear_model"
   ]
  },
  {
   "cell_type": "code",
   "execution_count": 95,
   "metadata": {},
   "outputs": [],
   "source": [
    "clf = linear_model.BayesianRidge()\n",
    "clf.fit(X_train,y_train)\n",
    "y_pred = clf.predict(X_test)\n",
    "r2_score_test = r2_score(y_test,y_pred)\n",
    "rmse_score_test = sqrt(mean_squared_error(y_test,y_pred))"
   ]
  },
  {
   "cell_type": "code",
   "execution_count": 96,
   "metadata": {},
   "outputs": [],
   "source": [
    "clf = linear_model.BayesianRidge()\n",
    "clf.fit(X_train,y_train)\n",
    "y_pred = clf.predict(X_train)\n",
    "r2_score_train = r2_score(y_train,y_pred) \n",
    "rmse_score_train = sqrt(mean_squared_error(y_train,y_pred))"
   ]
  },
  {
   "cell_type": "code",
   "execution_count": 79,
   "metadata": {},
   "outputs": [],
   "source": [
    "model_name.append('Bayesian Ridge')\n",
    "r2_test.append(r2_score_test)\n",
    "rmse_test.append(rmse_score_test)\n",
    "r2_train.append(r2_score_train)\n",
    "rmse_train.append(rmse_score_train)"
   ]
  },
  {
   "cell_type": "code",
   "execution_count": 101,
   "metadata": {},
   "outputs": [],
   "source": [
    "df_scores['model_name'] = model_name\n",
    "df_scores['r2_test'] = r2_test\n",
    "df_scores['r2_train'] = r2_train\n",
    "df_scores['rmse_test'] = rmse_test\n",
    "df_scores['rmse_train'] = rmse_train"
   ]
  },
  {
   "cell_type": "code",
   "execution_count": 102,
   "metadata": {
    "scrolled": true
   },
   "outputs": [
    {
     "data": {
      "text/html": [
       "<div>\n",
       "<style scoped>\n",
       "    .dataframe tbody tr th:only-of-type {\n",
       "        vertical-align: middle;\n",
       "    }\n",
       "\n",
       "    .dataframe tbody tr th {\n",
       "        vertical-align: top;\n",
       "    }\n",
       "\n",
       "    .dataframe thead th {\n",
       "        text-align: right;\n",
       "    }\n",
       "</style>\n",
       "<table border=\"1\" class=\"dataframe\">\n",
       "  <thead>\n",
       "    <tr style=\"text-align: right;\">\n",
       "      <th></th>\n",
       "      <th>model_name</th>\n",
       "      <th>r2_test</th>\n",
       "      <th>r2_train</th>\n",
       "      <th>rmse_test</th>\n",
       "      <th>rmse_train</th>\n",
       "    </tr>\n",
       "  </thead>\n",
       "  <tbody>\n",
       "    <tr>\n",
       "      <td>0</td>\n",
       "      <td>Linear Regression</td>\n",
       "      <td>-2.101629e-02</td>\n",
       "      <td>1.472451e-02</td>\n",
       "      <td>2.569729e+07</td>\n",
       "      <td>2.546136e+07</td>\n",
       "    </tr>\n",
       "    <tr>\n",
       "      <td>1</td>\n",
       "      <td>Stochastic Gradient Descent Regression</td>\n",
       "      <td>-2.646055e+30</td>\n",
       "      <td>-4.077592e+30</td>\n",
       "      <td>4.136856e+22</td>\n",
       "      <td>5.179700e+22</td>\n",
       "    </tr>\n",
       "    <tr>\n",
       "      <td>2</td>\n",
       "      <td>Voting Regression</td>\n",
       "      <td>-4.864536e+33</td>\n",
       "      <td>-1.580600e+32</td>\n",
       "      <td>1.773747e+24</td>\n",
       "      <td>3.224881e+23</td>\n",
       "    </tr>\n",
       "    <tr>\n",
       "      <td>3</td>\n",
       "      <td>LGBM Regression</td>\n",
       "      <td>-4.664854e-02</td>\n",
       "      <td>2.617923e-01</td>\n",
       "      <td>2.601785e+07</td>\n",
       "      <td>2.203900e+07</td>\n",
       "    </tr>\n",
       "    <tr>\n",
       "      <td>4</td>\n",
       "      <td>Logistic Regression</td>\n",
       "      <td>-6.902296e-01</td>\n",
       "      <td>-6.780197e-01</td>\n",
       "      <td>3.306312e+07</td>\n",
       "      <td>3.322777e+07</td>\n",
       "    </tr>\n",
       "    <tr>\n",
       "      <td>5</td>\n",
       "      <td>MLP Regression</td>\n",
       "      <td>-1.489070e-03</td>\n",
       "      <td>-1.166872e-03</td>\n",
       "      <td>2.545037e+07</td>\n",
       "      <td>2.566587e+07</td>\n",
       "    </tr>\n",
       "    <tr>\n",
       "      <td>6</td>\n",
       "      <td>XGB Regression</td>\n",
       "      <td>-1.410214e-01</td>\n",
       "      <td>5.004546e-01</td>\n",
       "      <td>2.716551e+07</td>\n",
       "      <td>1.812968e+07</td>\n",
       "    </tr>\n",
       "    <tr>\n",
       "      <td>7</td>\n",
       "      <td>Random Forest Regression</td>\n",
       "      <td>-1.482405e-01</td>\n",
       "      <td>7.938085e-01</td>\n",
       "      <td>2.725131e+07</td>\n",
       "      <td>1.164764e+07</td>\n",
       "    </tr>\n",
       "    <tr>\n",
       "      <td>8</td>\n",
       "      <td>Bagging Regression</td>\n",
       "      <td>-1.419317e-01</td>\n",
       "      <td>7.880724e-01</td>\n",
       "      <td>2.717634e+07</td>\n",
       "      <td>1.180855e+07</td>\n",
       "    </tr>\n",
       "    <tr>\n",
       "      <td>9</td>\n",
       "      <td>Gradient Boosting Regression</td>\n",
       "      <td>-1.025043e-02</td>\n",
       "      <td>6.807951e-02</td>\n",
       "      <td>2.556145e+07</td>\n",
       "      <td>2.476236e+07</td>\n",
       "    </tr>\n",
       "    <tr>\n",
       "      <td>10</td>\n",
       "      <td>Extra Trees Regression</td>\n",
       "      <td>-3.841392e-01</td>\n",
       "      <td>9.999769e-01</td>\n",
       "      <td>2.991995e+07</td>\n",
       "      <td>1.232282e+05</td>\n",
       "    </tr>\n",
       "    <tr>\n",
       "      <td>11</td>\n",
       "      <td>AdaBoost Regression</td>\n",
       "      <td>-9.398638e-02</td>\n",
       "      <td>-1.354667e-02</td>\n",
       "      <td>2.659971e+07</td>\n",
       "      <td>2.582406e+07</td>\n",
       "    </tr>\n",
       "    <tr>\n",
       "      <td>12</td>\n",
       "      <td>Decision Tree Regression</td>\n",
       "      <td>-9.926819e-01</td>\n",
       "      <td>1.000000e+00</td>\n",
       "      <td>3.589963e+07</td>\n",
       "      <td>0.000000e+00</td>\n",
       "    </tr>\n",
       "    <tr>\n",
       "      <td>13</td>\n",
       "      <td>SVR</td>\n",
       "      <td>-1.914819e-01</td>\n",
       "      <td>-1.879826e-01</td>\n",
       "      <td>2.775969e+07</td>\n",
       "      <td>2.795810e+07</td>\n",
       "    </tr>\n",
       "    <tr>\n",
       "      <td>14</td>\n",
       "      <td>Bayesian Ridge</td>\n",
       "      <td>1.219374e-06</td>\n",
       "      <td>9.373588e-07</td>\n",
       "      <td>2.543142e+07</td>\n",
       "      <td>2.565089e+07</td>\n",
       "    </tr>\n",
       "  </tbody>\n",
       "</table>\n",
       "</div>"
      ],
      "text/plain": [
       "                                model_name       r2_test      r2_train  \\\n",
       "0                        Linear Regression -2.101629e-02  1.472451e-02   \n",
       "1   Stochastic Gradient Descent Regression -2.646055e+30 -4.077592e+30   \n",
       "2                        Voting Regression -4.864536e+33 -1.580600e+32   \n",
       "3                          LGBM Regression -4.664854e-02  2.617923e-01   \n",
       "4                      Logistic Regression -6.902296e-01 -6.780197e-01   \n",
       "5                           MLP Regression -1.489070e-03 -1.166872e-03   \n",
       "6                           XGB Regression -1.410214e-01  5.004546e-01   \n",
       "7                 Random Forest Regression -1.482405e-01  7.938085e-01   \n",
       "8                       Bagging Regression -1.419317e-01  7.880724e-01   \n",
       "9             Gradient Boosting Regression -1.025043e-02  6.807951e-02   \n",
       "10                  Extra Trees Regression -3.841392e-01  9.999769e-01   \n",
       "11                     AdaBoost Regression -9.398638e-02 -1.354667e-02   \n",
       "12                Decision Tree Regression -9.926819e-01  1.000000e+00   \n",
       "13                                     SVR -1.914819e-01 -1.879826e-01   \n",
       "14                          Bayesian Ridge  1.219374e-06  9.373588e-07   \n",
       "\n",
       "       rmse_test    rmse_train  \n",
       "0   2.569729e+07  2.546136e+07  \n",
       "1   4.136856e+22  5.179700e+22  \n",
       "2   1.773747e+24  3.224881e+23  \n",
       "3   2.601785e+07  2.203900e+07  \n",
       "4   3.306312e+07  3.322777e+07  \n",
       "5   2.545037e+07  2.566587e+07  \n",
       "6   2.716551e+07  1.812968e+07  \n",
       "7   2.725131e+07  1.164764e+07  \n",
       "8   2.717634e+07  1.180855e+07  \n",
       "9   2.556145e+07  2.476236e+07  \n",
       "10  2.991995e+07  1.232282e+05  \n",
       "11  2.659971e+07  2.582406e+07  \n",
       "12  3.589963e+07  0.000000e+00  \n",
       "13  2.775969e+07  2.795810e+07  \n",
       "14  2.543142e+07  2.565089e+07  "
      ]
     },
     "execution_count": 102,
     "metadata": {},
     "output_type": "execute_result"
    }
   ],
   "source": [
    "df_scores"
   ]
  },
  {
   "cell_type": "code",
   "execution_count": null,
   "metadata": {},
   "outputs": [],
   "source": []
  },
  {
   "cell_type": "code",
   "execution_count": null,
   "metadata": {},
   "outputs": [],
   "source": []
  },
  {
   "cell_type": "code",
   "execution_count": null,
   "metadata": {},
   "outputs": [],
   "source": []
  },
  {
   "cell_type": "code",
   "execution_count": null,
   "metadata": {},
   "outputs": [],
   "source": []
  }
 ],
 "metadata": {
  "kernelspec": {
   "display_name": "Python 3",
   "language": "python",
   "name": "python3"
  },
  "language_info": {
   "codemirror_mode": {
    "name": "ipython",
    "version": 3
   },
   "file_extension": ".py",
   "mimetype": "text/x-python",
   "name": "python",
   "nbconvert_exporter": "python",
   "pygments_lexer": "ipython3",
   "version": "3.7.4"
  }
 },
 "nbformat": 4,
 "nbformat_minor": 2
}
